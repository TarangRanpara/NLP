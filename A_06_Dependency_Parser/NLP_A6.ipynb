{
  "nbformat": 4,
  "nbformat_minor": 2,
  "metadata": {
    "colab": {
      "name": "NLP_A6.ipynb",
      "provenance": [],
      "collapsed_sections": [
        "ik6FTrsWQ3x1",
        "xT0T1apgQ9OB"
      ]
    },
    "kernelspec": {
      "name": "python3",
      "display_name": "Python 3"
    },
    "language_info": {
      "name": "python"
    },
    "accelerator": "GPU"
  },
  "cells": [
    {
      "cell_type": "markdown",
      "source": [
        "# Submitted by Tarang Ranpara (202011057)"
      ],
      "metadata": {
        "id": "cvi9K3W3QvP6"
      }
    },
    {
      "cell_type": "markdown",
      "source": [
        "## preparing the data "
      ],
      "metadata": {
        "id": "ik6FTrsWQ3x1"
      }
    },
    {
      "cell_type": "code",
      "execution_count": 1,
      "source": [
        "! git clone https://github.com/rasoolims/nlp_hw_dep.git"
      ],
      "outputs": [
        {
          "output_type": "stream",
          "name": "stdout",
          "text": [
            "Cloning into 'nlp_hw_dep'...\n",
            "remote: Enumerating objects: 43, done.\u001b[K\n",
            "remote: Total 43 (delta 0), reused 0 (delta 0), pack-reused 43\u001b[K\n",
            "Unpacking objects: 100% (43/43), done.\n"
          ]
        }
      ],
      "metadata": {
        "colab": {
          "base_uri": "https://localhost:8080/"
        },
        "id": "Dh-JavTNscTe",
        "outputId": "7e6304ed-45ee-457f-c521-9237a6549a80"
      }
    },
    {
      "cell_type": "code",
      "execution_count": 2,
      "source": [
        "! cp -r /content/nlp_hw_dep/src src\r\n",
        "! cp -r /content/nlp_hw_dep/trees trees"
      ],
      "outputs": [],
      "metadata": {
        "id": "ZxYsl-uFsmj5"
      }
    },
    {
      "cell_type": "code",
      "execution_count": 3,
      "source": [
        "! mkdir data"
      ],
      "outputs": [],
      "metadata": {
        "id": "g30B4bg4fgML"
      }
    },
    {
      "cell_type": "code",
      "execution_count": 4,
      "source": [
        "! python2 src/gen_vocab.py trees/train.conll data/vocabs"
      ],
      "outputs": [],
      "metadata": {
        "id": "tjL2AVVEbjQj"
      }
    },
    {
      "cell_type": "code",
      "execution_count": 5,
      "source": [
        "! python2 src/gen.py trees/train.conll data/train.data"
      ],
      "outputs": [
        {
          "output_type": "stream",
          "name": "stdout",
          "text": [
            "100...200...300...400...500...600...700...800...900...1000...1100...1200...1300...1400...1500...1600...1700...1800...1900...2000...2100...2200...2300...2400...2500...2600...2700...2800...2900...done!\n"
          ]
        }
      ],
      "metadata": {
        "colab": {
          "base_uri": "https://localhost:8080/"
        },
        "id": "p_PEmu1xc7ry",
        "outputId": "2a27e4cb-f5fd-4b55-99bb-ab29cd8b2c65"
      }
    },
    {
      "cell_type": "code",
      "execution_count": 6,
      "source": [
        "! python2 src/gen.py trees/dev.conll data/dev.data"
      ],
      "outputs": [
        {
          "output_type": "stream",
          "name": "stdout",
          "text": [
            "100...200...300...400...500...600...700...800...900...1000...1100...1200...1300...1400...1500...1600...1700...done!\n"
          ]
        }
      ],
      "metadata": {
        "colab": {
          "base_uri": "https://localhost:8080/"
        },
        "id": "IJ-EoP1rd5_3",
        "outputId": "3e7ff2d3-9224-4d84-86e8-bc31e130609d"
      }
    },
    {
      "cell_type": "code",
      "execution_count": 7,
      "source": [
        "! python2 src/gen.py trees/test.conll data/test.data"
      ],
      "outputs": [
        {
          "output_type": "stream",
          "name": "stdout",
          "text": [
            "100...200...300...400...500...600...700...800...900...1000...1100...1200...1300...1400...1500...1600...1700...1800...1900...2000...2100...2200...2300...2400...done!\n"
          ]
        }
      ],
      "metadata": {
        "colab": {
          "base_uri": "https://localhost:8080/"
        },
        "id": "XCVJ5NuqeJoa",
        "outputId": "27a7afd8-58a4-44bd-84a2-e81de351a7b7"
      }
    },
    {
      "cell_type": "code",
      "execution_count": 8,
      "source": [
        "# making a test set \r\n",
        "dev_data = '/content/data/dev.data'\r\n",
        "test_data = '/content/data/test.data'\r\n",
        "\r\n",
        "with open(dev_data, 'r') as dev_f:\r\n",
        "    print(f'reading: {dev_data}')\r\n",
        "    lines = dev_f.readlines()\r\n",
        "\r\n",
        "    dev_lines =  lines[:len(lines)//2]\r\n",
        "    test_lines = lines[len(lines)//2:]\r\n",
        "\r\n",
        "    with open(test_data, 'w') as test_f:\r\n",
        "        print(f'writing: {test_data}')\r\n",
        "        test_f.writelines(test_lines)\r\n",
        "\r\n",
        "with open(dev_data, 'w') as dev_f:\r\n",
        "    print(f'writing: {dev_data}')\r\n",
        "    dev_f.writelines(dev_lines)"
      ],
      "outputs": [
        {
          "output_type": "stream",
          "name": "stdout",
          "text": [
            "reading: /content/data/dev.data\n",
            "writing: /content/data/test.data\n",
            "writing: /content/data/dev.data\n"
          ]
        }
      ],
      "metadata": {
        "colab": {
          "base_uri": "https://localhost:8080/"
        },
        "id": "tc3Wm8_SCR9w",
        "outputId": "d89a4ae6-612d-49bf-bce6-ba050ccaf6e4"
      }
    },
    {
      "cell_type": "markdown",
      "source": [
        "## exploring the data"
      ],
      "metadata": {
        "id": "xT0T1apgQ9OB"
      }
    },
    {
      "cell_type": "code",
      "execution_count": 9,
      "source": [
        "# checking train data format \r\n",
        "with open('data/train.data', 'r') as f:\r\n",
        "    lines = f.readlines()\r\n",
        "    print('#rows:', len(lines))\r\n",
        "    for i in range(5):\r\n",
        "        print(lines[i])\r\n",
        "        print()"
      ],
      "outputs": [
        {
          "output_type": "stream",
          "name": "stdout",
          "text": [
            "#rows: 143758\n",
            "<root> <null> <null> <null> In an Oct. 19 <null> <null> <null> <null> <null> <null> <null> <null> <null> <null> <null> <null> <root> <null> <null> <null> IN DT NNP CD <null> <null> <null> <null> <null> <null> <null> <null> <null> <null> <null> <null> <null> <null> <null> <null> <null> <null> <null> <null> <null> <null> <null> <null> SHIFT\n",
            "\n",
            "\n",
            "In <root> <null> <null> an Oct. 19 review <null> <null> <null> <null> <null> <null> <null> <null> <null> <null> <null> <null> IN <root> <null> <null> DT NNP CD NN <null> <null> <null> <null> <null> <null> <null> <null> <null> <null> <null> <null> <null> <null> <null> <null> <null> <null> <null> <null> <null> <null> <null> <null> SHIFT\n",
            "\n",
            "\n",
            "an In <root> <null> Oct. 19 review of <null> <null> <null> <null> <null> <null> <null> <null> <null> <null> <null> <null> DT IN <root> <null> NNP CD NN IN <null> <null> <null> <null> <null> <null> <null> <null> <null> <null> <null> <null> <null> <null> <null> <null> <null> <null> <null> <null> <null> <null> <null> <null> SHIFT\n",
            "\n",
            "\n",
            "Oct. an In <root> 19 review of `` <null> <null> <null> <null> <null> <null> <null> <null> <null> <null> <null> <null> NNP DT IN <root> CD NN IN `` <null> <null> <null> <null> <null> <null> <null> <null> <null> <null> <null> <null> <null> <null> <null> <null> <null> <null> <null> <null> <null> <null> <null> <null> SHIFT\n",
            "\n",
            "\n",
            "19 Oct. an In review of `` The <null> <null> <null> <null> <null> <null> <null> <null> <null> <null> <null> <null> CD NNP DT IN NN IN `` DT <null> <null> <null> <null> <null> <null> <null> <null> <null> <null> <null> <null> <null> <null> <null> <null> <null> <null> <null> <null> <null> <null> <null> <null> SHIFT\n",
            "\n",
            "\n"
          ]
        }
      ],
      "metadata": {
        "id": "hHW2rHsdeOJ2",
        "colab": {
          "base_uri": "https://localhost:8080/"
        },
        "outputId": "d4a89a6e-d6cc-4473-ffa2-ee3fab8341f4"
      }
    },
    {
      "cell_type": "code",
      "execution_count": 10,
      "source": [
        "# checking train data format \r\n",
        "with open('data/dev.data', 'r') as f:\r\n",
        "    lines = f.readlines()\r\n",
        "    print('#rows:', len(lines))\r\n",
        "    for i in range(5):\r\n",
        "        print(lines[i])\r\n",
        "        print()"
      ],
      "outputs": [
        {
          "output_type": "stream",
          "name": "stdout",
          "text": [
            "#rows: 40033\n",
            "<root> <null> <null> <null> Influential members of the <null> <null> <null> <null> <null> <null> <null> <null> <null> <null> <null> <null> <root> <null> <null> <null> JJ NNS IN DT <null> <null> <null> <null> <null> <null> <null> <null> <null> <null> <null> <null> <null> <null> <null> <null> <null> <null> <null> <null> <null> <null> <null> <null> SHIFT\n",
            "\n",
            "\n",
            "Influential <root> <null> <null> members of the House <null> <null> <null> <null> <null> <null> <null> <null> <null> <null> <null> <null> JJ <root> <null> <null> NNS IN DT NNP <null> <null> <null> <null> <null> <null> <null> <null> <null> <null> <null> <null> <null> <null> <null> <null> <null> <null> <null> <null> <null> <null> <null> <null> SHIFT\n",
            "\n",
            "\n",
            "members Influential <root> <null> of the House Ways <null> <null> <null> <null> <null> <null> <null> <null> <null> <null> <null> <null> NNS JJ <root> <null> IN DT NNP NNP <null> <null> <null> <null> <null> <null> <null> <null> <null> <null> <null> <null> <null> <null> <null> <null> <null> <null> <null> <null> <null> <null> <null> <null> LEFT-ARC:amod\n",
            "\n",
            "\n",
            "members <root> <null> <null> of the House Ways Influential <null> <null> <null> <null> <null> <null> <null> <null> <null> <null> <null> NNS <root> <null> <null> IN DT NNP NNP JJ <null> <null> <null> <null> <null> <null> <null> <null> <null> <null> <null> amod <null> <null> <null> <null> <null> <null> <null> <null> <null> <null> <null> SHIFT\n",
            "\n",
            "\n",
            "of members <root> <null> the House Ways and <null> Influential <null> <null> <null> <null> <null> <null> <null> <null> <null> <null> IN NNS <root> <null> DT NNP NNP CC <null> JJ <null> <null> <null> <null> <null> <null> <null> <null> <null> <null> <null> amod <null> <null> <null> <null> <null> <null> <null> <null> <null> <null> SHIFT\n",
            "\n",
            "\n"
          ]
        }
      ],
      "metadata": {
        "colab": {
          "base_uri": "https://localhost:8080/"
        },
        "id": "A4GHSmXE99Jk",
        "outputId": "52405d65-8bc6-4701-aa86-b029cbf9fc7d"
      }
    },
    {
      "cell_type": "code",
      "execution_count": 11,
      "source": [
        "# checking train data format \r\n",
        "with open('data/test.data', 'r') as f:\r\n",
        "    lines = f.readlines()\r\n",
        "    print('#rows:', len(lines))\r\n",
        "    for i in range(5):\r\n",
        "        print(lines[i])\r\n",
        "        print()"
      ],
      "outputs": [
        {
          "output_type": "stream",
          "name": "stdout",
          "text": [
            "#rows: 40033\n",
            "inability for criticized <root> to maintain orderly markets their <null> <null> <null> <null> <null> <null> <null> <null> <null> <null> <null> NN IN VBN <root> TO VB JJ NNS PRP$ <null> <null> <null> <null> <null> <null> <null> <null> <null> <null> <null> poss <null> <null> <null> <null> <null> <null> <null> <null> <null> <null> <null> SHIFT\n",
            "\n",
            "\n",
            "to inability for criticized maintain orderly markets during <null> their <null> <null> <null> <null> <null> <null> <null> <null> <null> <null> TO NN IN VBN VB JJ NNS IN <null> PRP$ <null> <null> <null> <null> <null> <null> <null> <null> <null> <null> <null> poss <null> <null> <null> <null> <null> <null> <null> <null> <null> <null> SHIFT\n",
            "\n",
            "\n",
            "maintain to inability for orderly markets during the <null> <null> <null> <null> <null> <null> <null> <null> <null> <null> <null> <null> VB TO NN IN JJ NNS IN DT <null> <null> <null> <null> <null> <null> <null> <null> <null> <null> <null> <null> <null> <null> <null> <null> <null> <null> <null> <null> <null> <null> <null> <null> LEFT-ARC:aux\n",
            "\n",
            "\n",
            "maintain inability for criticized orderly markets during the to their <null> <null> <null> <null> <null> <null> <null> <null> <null> <null> VB NN IN VBN JJ NNS IN DT TO PRP$ <null> <null> <null> <null> <null> <null> <null> <null> <null> <null> aux poss <null> <null> <null> <null> <null> <null> <null> <null> <null> <null> SHIFT\n",
            "\n",
            "\n",
            "orderly maintain inability for markets during the Friday <null> to <null> <null> <null> <null> <null> <null> <null> <null> <null> <null> JJ VB NN IN NNS IN DT NNP <null> TO <null> <null> <null> <null> <null> <null> <null> <null> <null> <null> <null> aux <null> <null> <null> <null> <null> <null> <null> <null> <null> <null> SHIFT\n",
            "\n",
            "\n"
          ]
        }
      ],
      "metadata": {
        "colab": {
          "base_uri": "https://localhost:8080/"
        },
        "id": "PaqdkJp0E8Ro",
        "outputId": "9a4bb387-4d40-465b-864b-6ad4f1e4222d"
      }
    },
    {
      "cell_type": "code",
      "execution_count": 12,
      "source": [
        "# checking vocabs word format \r\n",
        "with open('data/vocabs.word', 'r') as f:\r\n",
        "    lines = f.readlines()\r\n",
        "    print('#rows:', len(lines))\r\n",
        "    for i in range(5):\r\n",
        "        print(lines[i])\r\n",
        "        print()"
      ],
      "outputs": [
        {
          "output_type": "stream",
          "name": "stdout",
          "text": [
            "#rows: 4807\n",
            "limited 3629\n",
            "\n",
            "\n",
            "Many 4174\n",
            "\n",
            "\n",
            "consolidated 1158\n",
            "\n",
            "\n",
            "magnetic 1159\n",
            "\n",
            "\n",
            "demand 4421\n",
            "\n",
            "\n"
          ]
        }
      ],
      "metadata": {
        "colab": {
          "base_uri": "https://localhost:8080/"
        },
        "id": "JrmrR4X39Pps",
        "outputId": "f07a8a64-7203-42f7-ee73-f59db0e1623e"
      }
    },
    {
      "cell_type": "code",
      "execution_count": 13,
      "source": [
        "# checking vocabs labels format \r\n",
        "with open('data/vocabs.labels', 'r') as f:\r\n",
        "    lines = f.readlines()\r\n",
        "    print('#rows:', len(lines))\r\n",
        "    for i in range(5):\r\n",
        "        print(lines[i])\r\n",
        "        print()"
      ],
      "outputs": [
        {
          "output_type": "stream",
          "name": "stdout",
          "text": [
            "#rows: 46\n",
            "rroot 0\n",
            "\n",
            "\n",
            "cc 1\n",
            "\n",
            "\n",
            "number 2\n",
            "\n",
            "\n",
            "ccomp 3\n",
            "\n",
            "\n",
            "possessive 4\n",
            "\n",
            "\n"
          ]
        }
      ],
      "metadata": {
        "colab": {
          "base_uri": "https://localhost:8080/"
        },
        "id": "8vidxneW9gX8",
        "outputId": "5a5c33fe-93f4-4702-9e63-94303a0993ef"
      }
    },
    {
      "cell_type": "code",
      "execution_count": 14,
      "source": [
        "# checking vocabs actions format \r\n",
        "# in our implementation, we use only the part before colon \r\n",
        "with open('data/vocabs.actions', 'r') as f:\r\n",
        "    lines = f.readlines()\r\n",
        "    print('#rows:', len(lines))\r\n",
        "    for i in range(5):\r\n",
        "        print(lines[i])\r\n",
        "        print()"
      ],
      "outputs": [
        {
          "output_type": "stream",
          "name": "stdout",
          "text": [
            "#rows: 93\n",
            "SHIFT 0\n",
            "\n",
            "\n",
            "LEFT-ARC:rroot 1\n",
            "\n",
            "\n",
            "LEFT-ARC:cc 2\n",
            "\n",
            "\n",
            "LEFT-ARC:number 3\n",
            "\n",
            "\n",
            "LEFT-ARC:ccomp 4\n",
            "\n",
            "\n"
          ]
        }
      ],
      "metadata": {
        "colab": {
          "base_uri": "https://localhost:8080/"
        },
        "id": "IvB5Q_Tu9mCf",
        "outputId": "cdee3f5a-383f-477e-ef54-0b81712cab42"
      }
    },
    {
      "cell_type": "code",
      "execution_count": 15,
      "source": [
        "# checking vocabs pos format \r\n",
        "with open('data/vocabs.pos', 'r') as f:\r\n",
        "    lines = f.readlines()\r\n",
        "    print('#rows:', len(lines))\r\n",
        "    for i in range(5):\r\n",
        "        print(lines[i])\r\n",
        "        print()"
      ],
      "outputs": [
        {
          "output_type": "stream",
          "name": "stdout",
          "text": [
            "#rows: 45\n",
            "PRP$ 0\n",
            "\n",
            "\n",
            "VBG 1\n",
            "\n",
            "\n",
            "VBD 2\n",
            "\n",
            "\n",
            "<root> 3\n",
            "\n",
            "\n",
            "VBN 4\n",
            "\n",
            "\n"
          ]
        }
      ],
      "metadata": {
        "colab": {
          "base_uri": "https://localhost:8080/"
        },
        "id": "mJphDy8G91TW",
        "outputId": "b53874a5-75b4-4b2f-ffc0-8d6630245234"
      }
    },
    {
      "cell_type": "markdown",
      "source": [
        "## Dependancy Parsing "
      ],
      "metadata": {
        "id": "84eHy4SPRmUR"
      }
    },
    {
      "cell_type": "code",
      "execution_count": 16,
      "source": [
        "import os\r\n",
        "from tqdm import tqdm \r\n",
        "import matplotlib.pyplot as plt\r\n",
        "import numpy as np\r\n",
        "import tensorflow as tf\r\n",
        "from tensorflow.keras import Model\r\n",
        "from tensorflow.keras.optimizers import Adam\r\n",
        "from tensorflow.keras.utils import to_categorical\r\n",
        "from tensorflow.keras.layers import Input, Embedding, Bidirectional, LSTM, Dense, Concatenate"
      ],
      "outputs": [],
      "metadata": {
        "id": "0y9wEnle5fIk"
      }
    },
    {
      "cell_type": "markdown",
      "source": [
        "### Data Iterator"
      ],
      "metadata": {
        "id": "ZVKjr_I7Rs7J"
      }
    },
    {
      "cell_type": "code",
      "execution_count": 17,
      "source": [
        "'''\r\n",
        "  Taking these points in consideration:\r\n",
        "    - The first 20 columns are for wordbased features.\r\n",
        "    - The second 20 columns are for the POS-based features. \r\n",
        "    - The next 12 features are for dependency labels.\r\n",
        "    - The last column shows the action.\r\n",
        "'''\r\n",
        "class DataSet(tf.keras.utils.Sequence):\r\n",
        "\r\n",
        "    def __len__(self):\r\n",
        "        return int(np.floor(len(self.data) / self.batch_size))\r\n",
        "\r\n",
        "    def __getitem__(self, idx):\r\n",
        "\r\n",
        "        # if batch_size = 32\r\n",
        "        # idx = 0 -> indexes = idxs[0 : 32]\r\n",
        "        # idx = 1 -> indexes = idxs[32 : 64]\r\n",
        "        indexes = self.idxs[idx * self.batch_size : (idx + 1) * self.batch_size]\r\n",
        "        \r\n",
        "        # creating batch of \r\n",
        "        batch_x = np.array([self.data[k] for k in indexes])\r\n",
        "        batch_y = np.array([self.action_labels[k] for k in indexes])\r\n",
        "        \r\n",
        "        # word, pos tag\r\n",
        "        batch_x1, batch_x2 = batch_x[:, :4], batch_x[:, 4:]\r\n",
        "        \r\n",
        "        return (batch_x1, batch_x2), to_categorical(batch_y, num_classes=len(self.actions))\r\n",
        "\r\n",
        "    # to read from vocabs.word\r\n",
        "    def handle_vocab_mapping(self):\r\n",
        "        with open(os.path.join(self.data_dir, \"vocabs.word\"), \"r\") as vocabs:\r\n",
        "            for line in vocabs.readlines():\r\n",
        "                word, id = line.split()\r\n",
        "                id = int(id)\r\n",
        "\r\n",
        "                self.vocab[word] = id\r\n",
        "                self.rev_vocab[id] = word\r\n",
        "\r\n",
        "    # to read from vocabs.pos\r\n",
        "    def handle_pos_tag_mapping(self):\r\n",
        "        with open(os.path.join(self.data_dir, \"vocabs.pos\"), \"r\") as vocabs:\r\n",
        "            for line in vocabs.readlines():\r\n",
        "                word, id = line.split()\r\n",
        "                id = int(id)\r\n",
        "\r\n",
        "                self.pos_tags[word] = id\r\n",
        "                self.rev_pos_tags[id] = word\r\n",
        "\r\n",
        "    # to define actions \r\n",
        "    def handle_actions(self):\r\n",
        "        self.actions = {\"SHIFT\": 0, \"LEFT-ARC\": 1, \"RIGHT-ARC\": 2}\r\n",
        "        self.rev_actions = {num: action for action, num in self.actions.items()}\r\n",
        "\r\n",
        "    # gets value from dict for given list\r\n",
        "    def _map(self, dct, lst, err):\r\n",
        "        return [dct.get(i, dct.get(err)) for i in lst]\r\n",
        "\r\n",
        "    # to read the {train/dev}.data\r\n",
        "    def handle_data(self):\r\n",
        "        with open(os.path.join(self.data_dir, f\"{self.subset}.data\"), \"r\") as data_file:\r\n",
        "            for line in data_file.readlines():\r\n",
        "                data_row = line.strip().split()\r\n",
        "                word_feat, pos_tags_given, action_given = data_row[:20], data_row[20:40], data_row[-1]\r\n",
        "                word_feat = self._map(self.vocab, word_feat, \"<unk>\")\r\n",
        "                pos_tags_given  = self._map(self.pos_tags, pos_tags_given, \"<null>\")\r\n",
        "                action_given = self.actions[action_given.split(\":\")[0]]\r\n",
        "\r\n",
        "                #                 stack           buffer          pos                   buffer pos\r\n",
        "                self.data.append(word_feat[:3] + [word_feat[4]] + pos_tags_given[0:3] + [pos_tags_given[4]])\r\n",
        "                self.action_labels.append(action_given)\r\n",
        "        print(\"Data loading: Done!\")\r\n",
        "    \r\n",
        "    # constructor - the main processing unit\r\n",
        "    def __init__(self, data_dir=\"data\", subset=\"train\", batch_size=1, shuffle=True):\r\n",
        "\r\n",
        "        # directory that contains generated dataset\r\n",
        "        self.data_dir = data_dir\r\n",
        "        \r\n",
        "        # train/dev\r\n",
        "        self.subset = subset\r\n",
        "\r\n",
        "        # batch size \r\n",
        "        self.batch_size = batch_size\r\n",
        "        \r\n",
        "        # flag: to decide whether to shuffle the data or not\r\n",
        "        self.shuffle = shuffle\r\n",
        "\r\n",
        "        # to be read from vocabs.word\r\n",
        "        self.vocab = dict()\r\n",
        "        self.rev_vocab = dict()\r\n",
        "\r\n",
        "        # to be read from vocabs.pos\r\n",
        "        self.pos_tags = dict()\r\n",
        "        self.rev_pos_tags = dict()\r\n",
        "        \r\n",
        "        # representation for Shift, left arc, Right arc\r\n",
        "        self.actions = dict()\r\n",
        "        self.rev_actions = dict()\r\n",
        "\r\n",
        "        # final data this loader holds \r\n",
        "        self.data = []\r\n",
        "\r\n",
        "        # action names (processed: removing string after colon)\r\n",
        "        self.action_labels = []\r\n",
        "\r\n",
        "        # processing & loading the dataset \r\n",
        "        self._load_dataset()\r\n",
        "\r\n",
        "        # logic for shuffling \r\n",
        "        self.on_epoch_end()\r\n",
        "\r\n",
        "    def _load_dataset(self):\r\n",
        "        self.handle_vocab_mapping()\r\n",
        "        self.handle_pos_tag_mapping()\r\n",
        "        self.handle_actions()\r\n",
        "        self.handle_data()\r\n",
        "\r\n",
        "    def on_epoch_end(self):\r\n",
        "        self.idxs = np.arange(len(self.data))\r\n",
        "        if self.shuffle:\r\n",
        "            np.random.shuffle(self.idxs)"
      ],
      "outputs": [],
      "metadata": {
        "id": "YBm41BSz9IB_"
      }
    },
    {
      "cell_type": "code",
      "execution_count": 18,
      "source": [
        "# Sanity check\r\n",
        "loader = DataSet(\r\n",
        "    data_dir=\"data\", \r\n",
        "    subset=\"dev\", \r\n",
        "    batch_size=32\r\n",
        ")\r\n",
        "\r\n",
        "print(len(loader))\r\n",
        "batch_idx = 0\r\n",
        "\r\n",
        "print(f'batch_x1[batch_idx = {batch_idx}]: {loader[batch_idx][0][0].shape}')\r\n",
        "print(f'batch x2[batch_idx = {batch_idx}]: {loader[batch_idx][0][1].shape}')\r\n",
        "print(f'batch_y[batch_idx  = {batch_idx}]: {loader[batch_idx][1].shape}')"
      ],
      "outputs": [
        {
          "output_type": "stream",
          "name": "stdout",
          "text": [
            "Data loading: Done!\n",
            "1251\n",
            "batch_x1[batch_idx = 0]: (32, 4)\n",
            "batch x2[batch_idx = 0]: (32, 4)\n",
            "batch_y[batch_idx  = 0]: (32, 3)\n"
          ]
        }
      ],
      "metadata": {
        "colab": {
          "base_uri": "https://localhost:8080/"
        },
        "id": "mcsx36zAKLaS",
        "outputId": "6a2205d4-bebe-4210-f9cb-88a60eaa04f4"
      }
    },
    {
      "cell_type": "markdown",
      "source": [
        "### DP Model "
      ],
      "metadata": {
        "id": "rrkDfmxmRzEe"
      }
    },
    {
      "cell_type": "code",
      "execution_count": 19,
      "source": [
        "def DependencyParserModel(\r\n",
        "    seq_len, \r\n",
        "    num_classes, \r\n",
        "    words_vocab_size, \r\n",
        "    pos_vocab_size, \r\n",
        "    embedding_dim=512, \r\n",
        "    lstm_units=256\r\n",
        "    ):\r\n",
        "\r\n",
        "    words = Input(shape=(seq_len,), name=\"words_input_1\")\r\n",
        "    pos_tags = Input(shape=(seq_len,), name=\"postag_input_2\")\r\n",
        "    \r\n",
        "    concat = Concatenate(axis=-1)([\r\n",
        "              Embedding(words_vocab_size, embedding_dim, name=\"words_embedding\")(words), \r\n",
        "              Embedding(pos_vocab_size, embedding_dim, name=\"postag_embedding\")(pos_tags)])\r\n",
        "\r\n",
        "    bilstm_output = Bidirectional(LSTM(lstm_units))(concat)\r\n",
        "\r\n",
        "    hidden_output_1 = Dense(128, activation=\"relu\")(bilstm_output)\r\n",
        "    hidden_output_2 = Dense(64, activation=\"relu\")(hidden_output_1)\r\n",
        "\r\n",
        "    output = Dense(num_classes, activation=\"softmax\")(hidden_output_2)\r\n",
        "    \r\n",
        "    model = Model(inputs=[words, pos_tags], outputs=output, name=\"BiLSTM\")\r\n",
        "\r\n",
        "    return model"
      ],
      "outputs": [],
      "metadata": {
        "id": "Azbl6NoD-ue9"
      }
    },
    {
      "cell_type": "markdown",
      "source": [
        "### training process"
      ],
      "metadata": {
        "id": "EG5sMAZRR4TM"
      }
    },
    {
      "cell_type": "code",
      "execution_count": 20,
      "source": [
        "train_loader = DataSet(data_dir=\"data\", subset=\"train\", batch_size=256)\r\n",
        "dev_loader = DataSet(data_dir=\"data\", subset=\"dev\", batch_size=256)\r\n",
        "test_loader = DataSet(data_dir=\"data\", subset=\"test\", batch_size=256)"
      ],
      "outputs": [
        {
          "output_type": "stream",
          "name": "stdout",
          "text": [
            "Data loading: Done!\n",
            "Data loading: Done!\n",
            "Data loading: Done!\n"
          ]
        }
      ],
      "metadata": {
        "colab": {
          "base_uri": "https://localhost:8080/"
        },
        "id": "Dhtvdc8i1NKx",
        "outputId": "428e8dc8-eb7d-4a0c-e8c9-882334d32f56"
      }
    },
    {
      "cell_type": "code",
      "execution_count": 21,
      "source": [
        "words_vocab_size = len(train_loader.vocab)\r\n",
        "postag_vocab_size = len(train_loader.pos_tags)\r\n",
        "seq_len = train_loader[0][0][0].shape[-1]\r\n",
        "num_classes = len(train_loader.actions)"
      ],
      "outputs": [],
      "metadata": {
        "id": "Xd0pn4V71g6F"
      }
    },
    {
      "cell_type": "code",
      "execution_count": 22,
      "source": [
        "embedding_dim = 100\r\n",
        "lstm_units = 128"
      ],
      "outputs": [],
      "metadata": {
        "id": "OP3A7Pxg2CKL"
      }
    },
    {
      "cell_type": "code",
      "execution_count": 23,
      "source": [
        "model = DependencyParserModel(seq_len, num_classes, words_vocab_size, \r\n",
        "                                postag_vocab_size, embedding_dim, lstm_units)"
      ],
      "outputs": [],
      "metadata": {
        "id": "J4P9oZjD27VW"
      }
    },
    {
      "cell_type": "code",
      "execution_count": 24,
      "source": [
        "model.compile(optimizer=Adam(learning_rate=0.0001), \r\n",
        "                loss=\"categorical_crossentropy\", \r\n",
        "                metrics=[\"accuracy\"])\r\n",
        "\r\n",
        "model.summary()"
      ],
      "outputs": [
        {
          "output_type": "stream",
          "name": "stdout",
          "text": [
            "Model: \"BiLSTM\"\n",
            "__________________________________________________________________________________________________\n",
            "Layer (type)                    Output Shape         Param #     Connected to                     \n",
            "==================================================================================================\n",
            "words_input_1 (InputLayer)      [(None, 4)]          0                                            \n",
            "__________________________________________________________________________________________________\n",
            "postag_input_2 (InputLayer)     [(None, 4)]          0                                            \n",
            "__________________________________________________________________________________________________\n",
            "words_embedding (Embedding)     (None, 4, 100)       480700      words_input_1[0][0]              \n",
            "__________________________________________________________________________________________________\n",
            "postag_embedding (Embedding)    (None, 4, 100)       4500        postag_input_2[0][0]             \n",
            "__________________________________________________________________________________________________\n",
            "concatenate (Concatenate)       (None, 4, 200)       0           words_embedding[0][0]            \n",
            "                                                                 postag_embedding[0][0]           \n",
            "__________________________________________________________________________________________________\n",
            "bidirectional (Bidirectional)   (None, 256)          336896      concatenate[0][0]                \n",
            "__________________________________________________________________________________________________\n",
            "dense (Dense)                   (None, 128)          32896       bidirectional[0][0]              \n",
            "__________________________________________________________________________________________________\n",
            "dense_1 (Dense)                 (None, 64)           8256        dense[0][0]                      \n",
            "__________________________________________________________________________________________________\n",
            "dense_2 (Dense)                 (None, 3)            195         dense_1[0][0]                    \n",
            "==================================================================================================\n",
            "Total params: 863,443\n",
            "Trainable params: 863,443\n",
            "Non-trainable params: 0\n",
            "__________________________________________________________________________________________________\n"
          ]
        }
      ],
      "metadata": {
        "colab": {
          "base_uri": "https://localhost:8080/"
        },
        "id": "z4QGj9OD3DcX",
        "outputId": "fcc8c64b-8e81-4a8c-d83e-84dc25451b98"
      }
    },
    {
      "cell_type": "code",
      "execution_count": 25,
      "source": [
        "epochs = 30\r\n",
        "earlystopping = tf.keras.callbacks.EarlyStopping(monitor='val_loss', patience=3)\r\n",
        "history = model.fit(train_loader, validation_data=dev_loader, epochs=epochs, callbacks=[earlystopping])"
      ],
      "outputs": [
        {
          "output_type": "stream",
          "name": "stdout",
          "text": [
            "Epoch 1/30\n",
            "561/561 [==============================] - 17s 16ms/step - loss: 0.7081 - accuracy: 0.6819 - val_loss: 0.4778 - val_accuracy: 0.8031\n",
            "Epoch 2/30\n",
            "561/561 [==============================] - 8s 14ms/step - loss: 0.3864 - accuracy: 0.8432 - val_loss: 0.3672 - val_accuracy: 0.8519\n",
            "Epoch 3/30\n",
            "561/561 [==============================] - 8s 14ms/step - loss: 0.3072 - accuracy: 0.8795 - val_loss: 0.3383 - val_accuracy: 0.8650\n",
            "Epoch 4/30\n",
            "561/561 [==============================] - 8s 14ms/step - loss: 0.2710 - accuracy: 0.8959 - val_loss: 0.3260 - val_accuracy: 0.8729\n",
            "Epoch 5/30\n",
            "561/561 [==============================] - 8s 14ms/step - loss: 0.2468 - accuracy: 0.9062 - val_loss: 0.3228 - val_accuracy: 0.8758\n",
            "Epoch 6/30\n",
            "561/561 [==============================] - 8s 14ms/step - loss: 0.2302 - accuracy: 0.9132 - val_loss: 0.3215 - val_accuracy: 0.8783\n",
            "Epoch 7/30\n",
            "561/561 [==============================] - 8s 14ms/step - loss: 0.2169 - accuracy: 0.9192 - val_loss: 0.3177 - val_accuracy: 0.8823\n",
            "Epoch 8/30\n",
            "561/561 [==============================] - 8s 14ms/step - loss: 0.2061 - accuracy: 0.9229 - val_loss: 0.3184 - val_accuracy: 0.8808\n",
            "Epoch 9/30\n",
            "561/561 [==============================] - 8s 14ms/step - loss: 0.1963 - accuracy: 0.9267 - val_loss: 0.3160 - val_accuracy: 0.8836\n",
            "Epoch 10/30\n",
            "561/561 [==============================] - 8s 14ms/step - loss: 0.1879 - accuracy: 0.9306 - val_loss: 0.3100 - val_accuracy: 0.8860\n",
            "Epoch 11/30\n",
            "561/561 [==============================] - 8s 14ms/step - loss: 0.1806 - accuracy: 0.9333 - val_loss: 0.3100 - val_accuracy: 0.8878\n",
            "Epoch 12/30\n",
            "561/561 [==============================] - 8s 14ms/step - loss: 0.1737 - accuracy: 0.9354 - val_loss: 0.3092 - val_accuracy: 0.8900\n",
            "Epoch 13/30\n",
            "561/561 [==============================] - 8s 14ms/step - loss: 0.1678 - accuracy: 0.9374 - val_loss: 0.3097 - val_accuracy: 0.8895\n",
            "Epoch 14/30\n",
            "561/561 [==============================] - 8s 14ms/step - loss: 0.1619 - accuracy: 0.9401 - val_loss: 0.3112 - val_accuracy: 0.8910\n",
            "Epoch 15/30\n",
            "561/561 [==============================] - 8s 14ms/step - loss: 0.1573 - accuracy: 0.9417 - val_loss: 0.3125 - val_accuracy: 0.8917\n"
          ]
        }
      ],
      "metadata": {
        "colab": {
          "base_uri": "https://localhost:8080/"
        },
        "id": "nCcuo8kw3N_x",
        "outputId": "83c37654-9300-4a57-cbd5-c50b6cec5083"
      }
    },
    {
      "cell_type": "code",
      "execution_count": 26,
      "source": [
        "plt.title(\"Loss plot\")\r\n",
        "plt.plot(history.history[\"loss\"], label=\"loss\")\r\n",
        "plt.plot(history.history[\"val_loss\"], label=\"val_loss\")\r\n",
        "plt.legend()\r\n",
        "plt.show()"
      ],
      "outputs": [
        {
          "output_type": "display_data",
          "data": {
            "text/plain": [
              "<Figure size 432x288 with 1 Axes>"
            ],
            "image/png": "[encoded data removed]"
          },
          "metadata": {
            "needs_background": "light"
          }
        }
      ],
      "metadata": {
        "colab": {
          "base_uri": "https://localhost:8080/",
          "height": 281
        },
        "id": "dwfrMpqT3bbm",
        "outputId": "fd6caeae-e7e4-465f-a1f9-1ff4fc657800"
      }
    },
    {
      "cell_type": "code",
      "execution_count": 27,
      "source": [
        "plt.title(\"Accuracy plot\")\r\n",
        "plt.plot(history.history[\"accuracy\"], label=\"accuracy\")\r\n",
        "plt.plot(history.history[\"val_accuracy\"], label=\"val_accuracy\")\r\n",
        "plt.legend()\r\n",
        "plt.show()"
      ],
      "outputs": [
        {
          "output_type": "display_data",
          "data": {
            "text/plain": [
              "<Figure size 432x288 with 1 Axes>"
            ],
            "image/png": "[encoded data removed]"
          },
          "metadata": {
            "needs_background": "light"
          }
        }
      ],
      "metadata": {
        "colab": {
          "base_uri": "https://localhost:8080/",
          "height": 281
        },
        "id": "B6Nq-mHXGH68",
        "outputId": "eb592a0a-f081-4706-f0e1-ff5250a61fd5"
      }
    },
    {
      "cell_type": "markdown",
      "source": [
        "### Testset performance "
      ],
      "metadata": {
        "id": "uAdWsDovR_HU"
      }
    },
    {
      "cell_type": "code",
      "execution_count": 36,
      "source": [
        "match = 0\r\n",
        "total = 0\r\n",
        "for (word, pos), act in test_loader:\r\n",
        "    y_act, y_pred = np.argmax(act, axis=1), np.argmax(model.predict([word, pos]), axis=1)\r\n",
        "    match += np.sum(y_act == y_pred)\r\n",
        "    total += len(y_pred)"
      ],
      "outputs": [],
      "metadata": {
        "id": "IDkk3S0mGa8Z"
      }
    },
    {
      "cell_type": "code",
      "execution_count": 38,
      "source": [
        "print(f'Test Accuracy: {match/total}')"
      ],
      "outputs": [
        {
          "output_type": "stream",
          "name": "stdout",
          "text": [
            "Test Accuracy: 0.8943309294871795\n"
          ]
        }
      ],
      "metadata": {
        "colab": {
          "base_uri": "https://localhost:8080/"
        },
        "id": "fRtENsK4HHdC",
        "outputId": "08077436-e3a6-4b18-ae9d-dbe6cc2ab4bb"
      }
    }
  ]
}