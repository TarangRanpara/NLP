{
  "nbformat": 4,
  "nbformat_minor": 0,
  "metadata": {
    "kernelspec": {
      "display_name": "Python 3",
      "language": "python",
      "name": "python3"
    },
    "language_info": {
      "codemirror_mode": {
        "name": "ipython",
        "version": 3
      },
      "file_extension": ".py",
      "mimetype": "text/x-python",
      "name": "python",
      "nbconvert_exporter": "python",
      "pygments_lexer": "ipython3",
      "version": "3.8.3"
    },
    "colab": {
      "name": "NLP A10 202011057.ipynb",
      "provenance": [],
      "collapsed_sections": [
        "JPNY9iV6HQI9",
        "Bo8PeBtCNOgE",
        "vQpadVxjNU-u",
        "3rmTSLi6IObj"
      ]
    },
    "accelerator": "GPU"
  },
  "cells": [
    {
      "cell_type": "markdown",
      "metadata": {
        "id": "6nR_JCbQOepg"
      },
      "source": [
        "submitted by Tarang Ranpara"
      ]
    },
    {
      "cell_type": "markdown",
      "metadata": {
        "id": "JPNY9iV6HQI9"
      },
      "source": [
        "## Part 1 - training CBOW and Skipgram models"
      ]
    },
    {
      "cell_type": "code",
      "metadata": {
        "colab": {
          "base_uri": "https://localhost:8080/"
        },
        "id": "dfWOB1359g0i",
        "outputId": "a1604a9b-8a80-46b2-ccfb-7e24be39b5ac"
      },
      "source": [
        "# load library gensim (contains word2vec implementation)\n",
        "import gensim\n",
        "\n",
        "# ignore some warnings (probably caused by gensim version)\n",
        "import warnings\n",
        "warnings.filterwarnings(\"ignore\", category=DeprecationWarning) \n",
        "\n",
        "import multiprocessing\n",
        "cores = multiprocessing.cpu_count() # Count the number of cores\n",
        "\n",
        "from tqdm import tqdm \n",
        "\n",
        "# importing needed libs \n",
        "import os\n",
        "import re\n",
        "import nltk\n",
        "import pickle\n",
        "import scipy\n",
        "import numpy as np\n",
        "from bs4 import BeautifulSoup as bs\n",
        "from sklearn.metrics.pairwise import cosine_similarity\n",
        "from sklearn.feature_extraction.text import TfidfVectorizer\n",
        "import matplotlib.pyplot as plt\n",
        "\n",
        "# downloading needed data\n",
        "nltk.download('stopwords')\n",
        "nltk.download('wordnet')\n",
        "nltk.download('punkt')\n",
        "nltk.download('averaged_perceptron_tagger')"
      ],
      "execution_count": null,
      "outputs": [
        {
          "output_type": "stream",
          "name": "stdout",
          "text": [
            "[nltk_data] Downloading package stopwords to /root/nltk_data...\n",
            "[nltk_data]   Unzipping corpora/stopwords.zip.\n",
            "[nltk_data] Downloading package wordnet to /root/nltk_data...\n",
            "[nltk_data]   Unzipping corpora/wordnet.zip.\n",
            "[nltk_data] Downloading package punkt to /root/nltk_data...\n",
            "[nltk_data]   Unzipping tokenizers/punkt.zip.\n",
            "[nltk_data] Downloading package averaged_perceptron_tagger to\n",
            "[nltk_data]     /root/nltk_data...\n",
            "[nltk_data]   Unzipping taggers/averaged_perceptron_tagger.zip.\n"
          ]
        },
        {
          "output_type": "execute_result",
          "data": {
            "text/plain": [
              "True"
            ]
          },
          "metadata": {},
          "execution_count": 2
        }
      ]
    },
    {
      "cell_type": "code",
      "metadata": {
        "colab": {
          "base_uri": "https://localhost:8080/"
        },
        "id": "BoBP-5Sm9kMW",
        "outputId": "43a65842-cf22-40d4-fb91-f5a570db2ce0"
      },
      "source": [
        "from google.colab import drive\n",
        "drive.mount('/content/drive')"
      ],
      "execution_count": null,
      "outputs": [
        {
          "output_type": "stream",
          "name": "stdout",
          "text": [
            "Mounted at /content/drive\n"
          ]
        }
      ]
    },
    {
      "cell_type": "code",
      "metadata": {
        "id": "L-PVAyT-9tDo"
      },
      "source": [
        "! mkdir data\n",
        "! cp 'drive/MyDrive/IRLAB/A3/FIRE_Dataset_EN_2010.rar' './data/FIRE_Dataset_EN_2010.rar' > nul\n",
        "! unrar x data/FIRE_Dataset_EN_2010.rar data > nul \n",
        "! tar -xvf  './data/FIRE_Dataset_EN_2010/English-Data.tgz' -C './data/FIRE_Dataset_EN_2010/' > nul"
      ],
      "execution_count": null,
      "outputs": []
    },
    {
      "cell_type": "code",
      "metadata": {
        "id": "tqg-BSwy980Z"
      },
      "source": [
        "class DataReader:\n",
        "  def read_and_process(self, data_dir):\n",
        "\n",
        "    # stopwords\n",
        "    stopwords = set(nltk.corpus.stopwords.words('english'))\n",
        "    \n",
        "    # wordnet lemmatizer\n",
        "    stemmer = nltk.stem.PorterStemmer()\n",
        "\n",
        "    file_names = []\n",
        "    text_tokens = []\n",
        "\n",
        "    i = 0\n",
        "    # iterating over 2004, 2005, 2006, 2007 etc dirs\n",
        "    for dir in tqdm(os.listdir(data_dir)):\n",
        "      dir_name = os.path.join(data_dir,dir)\n",
        "\n",
        "      # iterating over bengal, business, foreign etc dirs\n",
        "      for sub_dir in os.listdir(dir_name):\n",
        "        sub_dir_name = os.path.join(dir_name,sub_dir)\n",
        "        data_files = os.listdir(sub_dir_name)\n",
        "\n",
        "        for f in data_files:\n",
        "          f_name = os.path.join(sub_dir_name,f)\n",
        "          \n",
        "          with open(f_name,'r') as fobj:\n",
        "            content = fobj.read()\n",
        "\n",
        "          soup = bs(content, \"lxml\")\n",
        "\n",
        "          # find text tag\n",
        "          temp_text_data = soup.find('text').text\n",
        "\n",
        "          # converting text to lower case\n",
        "          temp_text_data = temp_text_data.lower()\n",
        "\n",
        "          # removing numbers and special chars\n",
        "          temp_text_data = re.sub(r'[^\\w\\s]', '', temp_text_data)\n",
        "          temp_text_data = re.sub(r'\\d+', '', temp_text_data)\n",
        "\n",
        "          # tokens\n",
        "          tokens = nltk.word_tokenize(temp_text_data)\n",
        "\n",
        "          # removing stopwords\n",
        "          tokens = [token for token in tokens if token not in stopwords]\n",
        "\n",
        "          # lemmatizing\n",
        "          tokens = list(map(stemmer.stem,tokens))\n",
        "\n",
        "          # removing empty files\n",
        "          if len(tokens) > 0:\n",
        "            text_tokens.append(tokens)\n",
        "            file_names.append(f)\n",
        "            \n",
        "            if i%5000==0:\n",
        "              print(i, ' - ', f)\n",
        "            i += 1\n",
        "\n",
        "    # list of tokens, list of file names\n",
        "    return text_tokens, file_names"
      ],
      "execution_count": null,
      "outputs": []
    },
    {
      "cell_type": "code",
      "metadata": {
        "colab": {
          "base_uri": "https://localhost:8080/"
        },
        "id": "v-2OsgxD-AQ6",
        "outputId": "285e7271-6009-4d57-f165-281f75c3adf4"
      },
      "source": [
        "data_dir = \"./data/FIRE_Dataset_EN_2010/TELEGRAPH_UTF8/\"\n",
        "\n",
        "dr = DataReader()\n",
        "text_tokens, file_names = dr.read_and_process(data_dir)"
      ],
      "execution_count": null,
      "outputs": [
        {
          "output_type": "stream",
          "name": "stderr",
          "text": [
            "\r  0%|          | 0/4 [00:00<?, ?it/s]"
          ]
        },
        {
          "output_type": "stream",
          "name": "stdout",
          "text": [
            "0  -  1060907_sports_story_6711669.utf8\n",
            "5000  -  1060628_sports_story_6410936.utf8\n",
            "10000  -  1061024_business_story_6909405.utf8\n",
            "15000  -  1060603_business_story_6305652.utf8\n",
            "20000  -  1060305_opinion_story_5902346.utf8\n",
            "25000  -  1061018_foreign_story_6885902.utf8\n",
            "30000  -  1060829_calcutta_story_6668664.utf8\n",
            "35000  -  1060404_nation_story_6054704.utf8\n"
          ]
        },
        {
          "output_type": "stream",
          "name": "stderr",
          "text": [
            "\r 25%|██▌       | 1/4 [05:36<16:50, 336.86s/it]"
          ]
        },
        {
          "output_type": "stream",
          "name": "stdout",
          "text": [
            "40000  -  1050118_sports_story_4266489.utf8\n",
            "45000  -  1051228_sports_story_5653332.utf8\n",
            "50000  -  1050718_business_story_5003081.utf8\n",
            "55000  -  1050416_business_story_4621191.utf8\n",
            "60000  -  1050801_opinion_story_4998218.utf8\n",
            "65000  -  1050330_foreign_story_4549739.utf8\n",
            "70000  -  1050729_calcutta_story_5045296.utf8\n",
            "75000  -  1050111_nation_story_4239192.utf8\n",
            "80000  -  1051126_nation_story_5524189.utf8\n"
          ]
        },
        {
          "output_type": "stream",
          "name": "stderr",
          "text": [
            "\r 50%|█████     | 2/4 [11:13<11:12, 336.48s/it]"
          ]
        },
        {
          "output_type": "stream",
          "name": "stdout",
          "text": [
            "85000  -  1070703_sports_story_8009081.utf8\n",
            "90000  -  1070724_business_story_8098035.utf8\n",
            "95000  -  1070729_bengal_story_8121171.utf8\n",
            "100000  -  1070730_foreign_story_8123921.utf8\n",
            "105000  -  1070622_calcutta_story_7954892.utf8\n",
            "110000  -  1070626_nation_story_7975107.utf8\n"
          ]
        },
        {
          "output_type": "stream",
          "name": "stderr",
          "text": [
            "\r 75%|███████▌  | 3/4 [15:40<05:04, 304.82s/it]"
          ]
        },
        {
          "output_type": "stream",
          "name": "stdout",
          "text": [
            "115000  -  1041101_business_story_3949825.utf8\n",
            "120000  -  1040902_foreign_story_3707389.utf8\n",
            "125000  -  1041014_nation_story_3879773.utf8\n"
          ]
        },
        {
          "output_type": "stream",
          "name": "stderr",
          "text": [
            "100%|██████████| 4/4 [17:38<00:00, 264.72s/it]\n"
          ]
        }
      ]
    },
    {
      "cell_type": "code",
      "metadata": {
        "id": "jgCHaC4f8-ZG",
        "colab": {
          "base_uri": "https://localhost:8080/"
        },
        "outputId": "91ac99c7-ee9a-4f18-8c24-5275912734f2"
      },
      "source": [
        "for sentence in text_tokens[30:40]:\n",
        "    print(sentence)"
      ],
      "execution_count": null,
      "outputs": [
        {
          "output_type": "stream",
          "name": "stdout",
          "text": [
            "['telegraph', 'calcutta', 'sport', 'citi', 'mohammedan', 'sport', 'defend', 'habibur', 'rahman', 'mondal', 'hospitalis', 'late', 'tuesday', 'owe', 'dehydr', 'habibur', 'collaps', 'soon', 'match', 'eastern', 'railway', 'admit', 'nurs', 'home', 'barasat', 'learnt', 'fast', 'month', 'ramadan', 'condit', 'stabl', 'accord', 'club', 'offici', 'sourav', 'kothari', 'made', 'last', 'four', 'stage', 'west', 'bengal', 'open', 'snooker', 'meet', 'brc', 'tuesday', 'defeat', 'niraj', 'khemka', 'quarter', 'final', 'aditya', 'goenka', 'beat', 'shah', 'baaz', 'khan', 'shyam', 'jagtiani', 'account', 'srivardhan', 'poddar', 'footbal', 'cfl', 'premier', 'divis', 'east', 'bengal', 'vs', 'mohun', 'bagan', 'salt', 'lake', 'stadium', 'pm', 'snooker', 'west', 'bengal', 'state', 'open', 'brc', 'semifin', 'pm']\n",
            "['telegraph', 'calcutta', 'sport', 'lack', 'commit', 'show', 'french', 'display', 'talk', 'tactic', 'pk', 'banerje', 'mix', 'feel', 'watch', 'franc', 'held', 'south', 'korea', 'sunday', 'night', 'one', 'hand', 'happi', 'see', 'asian', 'flagbear', 'brighten', 'chanc', 'qualifi', 'last', 'pain', 'watch', 'european', 'heavyweight', 'dish', 'uninspir', 'fare', 'thu', 'jeopardis', 'progress', 'next', 'round', 'let', 'start', 'franc', 'difficult', 'fathom', 'footbal', 'fortun', 'nation', 'rare', 'distinct', 'win', 'world', 'cup', 'european', 'championship', 'back', 'back', 'long', 'ago', 'taken', 'nosed', 'ye', 'french', 'better', 'exchang', 'korean', 'reflect', 'superior', 'possess', 'shot', 'goal', 'corner', 'kick', 'yet', 'look', 'anyth', 'team', 'capabl', 'win', 'covet', 'trophi', 'footbal', 'team', 'game', 'wouldnt', 'believ', 'watch', 'french', 'outfit', 'oper', 'battlefield', 'camaraderi', 'spark', 'omnipres', 'team', 'believ', 'look', 'player', 'didnt', 'know', 'go', 'motion', 'significantli', 'notic', 'lack', 'commit', 'motiv', 'team', 'korean', 'contrari', 'dollop', 'attribut', 'french', 'flat', 'hardli', 'made', 'extra', 'effort', 'often', 'separ', 'winner', 'loser', 'take', 'korean', 'equalis', 'instanc', 'careless', 'piec', 'defend', 'cross', 'float', 'toward', 'far', 'post', 'head', 'back', 'goalmouth', 'park', 'jisung', 'pop', 'slice', 'ball', 'goalward', 'defend', 'goallin', 'instead', 'volley', 'ball', 'away', 'tri', 'control', 'even', 'barthez', 'look', 'confus', 'mistim', 'jump', 'goal', 'woke', 'french', 'extent', 'last', 'minut', 'saw', 'stretch', 'korean', 'defenc', 'least', 'thrice', 'henri', 'put', 'zidan', 'onetoon', 'situat', 'custodian', 'fail', 'beat', 'could', 'gone', 'past', 'helpless', 'keeper', 'walk', 'goal', 'ball', 'arsen', 'superstar', 'may', 'broken', 'franc', 'goaldrought', 'final', 'earli', 'strike', 'sunday', 'crunch', 'time', 'came', 'fail', 'deliv', 'umpteenth', 'time', 'despit', 'lacklustr', 'perform', 'franc', 'still', 'valid', 'goal', 'disallow', 'vieira', 'header', 'retriev', 'least', 'six', 'inch', 'insid', 'goal', 'korean', 'custodian', 'neither', 'refere', 'assist', 'spot', 'would', 'given', 'franc', 'twogoal', 'cushion', 'halftim', 'made', 'next', 'imposs', 'even', 'team', 'like', 'korea', 'never', 'give', 'claw', 'back', 'game', 'zidan', 'lightandshad', 'perform', 'much', 'like', 'ronaldo', 'age', 'midfield', 'still', 'sharp', 'pass', 'made', 'less', 'mistak', 'other', 'longer', 'midfield', 'gener', 'fourfiv', 'year', 'ago', 'short', 'zidan', 'still', 'produc', 'moment', 'magic', 'lost', 'power', 'carri', 'team', 'shoulder', 'franc', 'go', 'mustwin', 'match', 'togo', 'without', 'talisman', 'zidan', 'ideal', 'situat', 'coach', 'would', 'say', 'there', 'noth', 'despair', 'domenech', 'motiv', 'team', 'inspir', 'player', 'give', 'best', 'franc', 'put', 'across', 'togo', 'know', 'zidan', 'replac', 'may', 'provid', 'team', 'spark', 'miss', 'germani', 'korean', 'face', 'swiss', 'last', 'game', 'point', 'may', 'suffic', 'give', 'secondround', 'berth', 'way', 'semifinalist', 'fight', 'everi', 'inch', 'way', 'everyth', 'possibl', 'asian', 'red', 'devil', 'ladi', 'luck', 'smile', 'like', 'four', 'year', 'ago']\n",
            "['telegraph', 'calcutta', 'sport', 'doha', 'result', 'friday', 'athlet', 'men', 'steeplechas', 'gold', 'tareq', 'mubarak', 'salem', 'brn', 'silver', 'gamal', 'belal', 'salem', 'qat', 'bronz', 'lin', 'xiangqian', 'chn', 'hammer', 'throw', 'gold', 'dilshod', 'nazarov', 'tjk', 'silver', 'ali', 'zenkawi', 'kuw', 'bronz', 'hiroaki', 'doi', 'jpn', 'women', 'gold', 'kayoko', 'fukushi', 'jpn', 'silver', 'kareema', 'saleh', 'jasim', 'brn', 'bronz', 'hiromi', 'ominami', 'jpn', 'hammer', 'throw', 'gold', 'zhang', 'wenxiu', 'chn', 'silver', 'gu', 'yuan', 'chn', 'bronz', 'masumi', 'aya', 'jpn', 'badminton', 'mix', 'doubl', 'gold', 'zheng', 'bo', 'gao', 'ling', 'chn', 'silver', 'xie', 'zhongbo', 'zhang', 'yawen', 'chn', 'bronz', 'fairuzizuan', 'tazari', 'wong', 'pei', 'tti', 'ma', 'sarale', 'thoungthongkam', 'sudket', 'prapakamol', 'tha', 'bowl', 'men', 'event', 'gold', 'bader', 'al', 'alshaikh', 'ksa', 'silver', 'nayef', 'eqab', 'al', 'abadla', 'uae', 'bronz', 'yannaphon', 'larpapharat', 'tha', 'bodybuild', 'men', 'kg', 'gold', 'qian', 'jicheng', 'chn', 'silver', 'van', 'mach', 'pham', 'vie', 'bronz', 'ibrahim', 'sihat', 'sin', 'kg', 'gold', 'moham', 'salem', 'abdulla', 'zahmi', 'uae', 'silver', 'sazali', 'abd', 'samad', 'ma', 'bronz', 'chong', 'ka', 'lap', 'mac', 'kg', 'gold', 'chua', 'ling', 'fung', 'sin', 'silver', 'say', 'faisal', 'husain', 'brn', 'bronz', 'syafrizaldi', 'ina', 'kg', 'gold', 'chan', 'yun', 'hkg', 'silver', 'yoshihiro', 'yano', 'jpn', 'bronz', 'moham', 'ismail', 'muhammad', 'sin', 'cue', 'sport', 'carom', 'cushion', 'singl', 'gold', 'ryuji', 'umeda', 'jpn', 'silver', 'anh', 'vu', 'duong', 'vie', 'bronz', 'kim', 'kyungroul', 'kor', 'shoot', 'men', 'skeet', 'gold', 'salah', 'almutairi', 'kuw', 'silver', 'saeed', 'almaktoum', 'uae', 'bronz', 'jin', 'di', 'chn', 'soft', 'tenni', 'men', 'doubl', 'gold', 'yang', 'shengfa', 'li', 'chiahung', 'taw', 'silver', 'youngdong', 'kim', 'jaebokkor', 'bronz', 'shigeo', 'nakahori', 'tsuneo', 'takagawa', 'jpn', 'women', 'doubl', 'gold', 'ayumi', 'ueshima', 'harumi', 'gyokusen', 'jpn', 'silver', 'miwa', 'tsuji', 'hiromi', 'hamanaka', 'jpn', 'bronz', 'kim', 'kyung', 'ryun', 'lee', 'kyung', 'pyo', 'kor', 'synchronis', 'swim', 'duet', 'gold', 'china', 'silver', 'japan', 'bronz', 'kazakhstan', 'taekwondo', 'men', 'kg', 'gold', 'youngda', 'kor', 'silver', 'nattapong', 'tewawetchapong', 'tha', 'bronz', 'behzad', 'khodadad', 'kanjobeh', 'irn', 'chu', 'muyen', 'taw', 'kg', 'gold', 'abdulqad', 'hikamt', 'sarhan', 'qat', 'silver', 'mehdi', 'bibak', 'asl', 'irn', 'bronz', 'deepak', 'bista', 'nep', 'liao', 'chiahs', 'taw', 'women', 'kg', 'gold', 'kwon', 'eunkyung', 'kor', 'silver', 'wu', 'yenni', 'taiwan', 'bronz', 'natthaya', 'sangsasiton', 'tha', 'thi', 'bich', 'hanh', 'vie', 'kg', 'gold', 'hwang', 'kyungseon', 'kor', 'silver', 'mari', 'antoinett', 'rivero', 'phi', 'bronz', 'jiang', 'lingl', 'chn', 'bui', 'thu', 'hien', 'vie', 'tenni', 'men', 'team', 'gold', 'south', 'korea', 'silver', 'japan', 'bronz', 'thailand', 'taiwan', 'women', 'gold', 'taiwan', 'silver', 'india', 'bronz', 'japan', 'uzbekistan', 'triathlon', 'men', 'gold', 'dmitriy', 'gaag', 'kaz', 'silver', 'daniel', 'lee', 'chi', 'wo', 'hkg', 'bronz', 'daniil', 'sapunov', 'kaz']\n",
            "['telegraph', 'calcutta', 'sport', 'aussi', 'feel', 'invinc', 'hiddink', 'dutchman', 'doesnt', 'rule', 'upset', 'brazil', 'sydney', 'guu', 'hiddink', 'uner', 'knack', 'make', 'imposs', 'possibl', 'footbal', 'australian', 'dream', 'dutch', 'master', 'coach', 'work', 'miracl', 'world', 'cup', 'australia', 'qualif', 'germani', 'anoth', 'signific', 'achiev', 'impress', 'dossier', 'yearold', 'dutchman', 'wide', 'regard', 'one', 'world', 'game', 'premier', 'coach', 'socceroo', 'almost', 'count', 'hiddink', 'headhunt', 'reviv', 'world', 'cup', 'fortun', 'last', 'juli', 'intern', 'reput', 'made', 'australian', 'player', 'feel', 'bulletproof', 'hiddink', 'given', 'belief', 'compet', 'world', 'stage', 'within', 'four', 'month', 'australian', 'reach', 'world', 'cup', 'final', 'year', 'debut', 'appear', 'germani', 'overcom', 'twotim', 'champion', 'uruguay', 'appoint', 'nation', 'team', 'coach', 'hiddink', 'said', 'task', 'honest', 'outsid', 'footbal', 'world', 'mani', 'peopl', 'think', 'australia', 'chanc', 'qualifi', 'challeng', 'make', 'imposs', 'happen', 'like', 'orchestr', 'south', 'korea', 'semifin', 'appear', 'last', 'world', 'cup', 'far', 'hiddink', 'concern', 'stori', 'doesnt', 'end', 'australia', 'qualif', 'look', 'make', 'impact', 'germani', 'head', 'russia', 'reviv', 'intern', 'fortun', 'australia', 'group', 'defend', 'champion', 'brazil', 'japan', 'croatia', 'dutchman', 'plan', 'adopt', 'possessionbas', 'strategi', 'take', 'game', 'opposit', 'hiddink', 'also', 'rule', 'upset', 'fivetim', 'champion', 'tournament', 'favourit', 'brazil', 'spirit', 'australian', 'team', 'pitch', 'might', 'chanc', 'win', 'said', 'never', 'give', 'go', 'minut', 'high', 'pace', 'import', 'go', 'minut', 'huge', 'mental', 'forc', 'quit', 'achiev', 'alreadi', 'world', 'cup', 'know', 'australian', 'guy', 'happi', 'reach', 'world', 'cup', 'think', 'team', 'surpris', 'predict', 'go', 'meanwhil', 'john', 'aloisi', 'whose', 'penalti', 'earn', 'australia', 'first', 'place', 'final', 'year', 'set', 'miss', 'socceroo', 'final', 'home', 'warmup', 'team', 'head', 'germani', 'yearold', 'limp', 'train', 'session', 'melbourn', 'monday', 'foot', 'injuri', 'pois', 'join', 'harri', 'kewel', 'tim', 'cahil', 'among', 'absente', 'thursday', 'match', 'greec', 'mcg', 'aloisi', 'initi', 'fear', 'aggrav', 'foot', 'injuri', 'sustain', 'play', 'alav', 'treatment', 'confid', 'would', 'fit', 'warmup', 'match', 'europ', 'next', 'month', 'agenc']\n",
            "['telegraph', 'calcutta', 'sport', 'cricket', 'counti', 'championship', 'pro', 'divis', 'ii', 'monday', 'leicestershir', 'ov', 'hylton', 'ackerman', 'zaheer', 'khan', 'worcestershir', 'ov', 'stephen', 'moor', 'worcestershir', 'wkt', 'tuesday', 'gloucestershir', 'ov', 'alex', 'gisman', 'christoph', 'taylor', 'derbyshir', 'ov', 'travi', 'birt', 'ian', 'fisher', 'gloucestershir', 'run', 'footbal', 'afc', 'asian', 'cup', 'qualifi', 'calcutta', 'saudi', 'arabia', 'al', 'kahtani', 'yasser', 'india', 'niigata', 'japan', 'yuki', 'abe', 'hisato', 'sato', 'yemen', 'sydney', 'australia', 'travi', 'dodd', 'sasho', 'petrovski', 'intern', 'friendli', 'tuesday', 'iceland', 'spain', 'tenni', 'atp', 'cincinnati', 'master', 'monday', 'men', 'singl', 'round', 'juan', 'carlo', 'ferrero', 'esp', 'bt', 'jona', 'bjorkman', 'swe', 'bjorkman', 'retir', 'vinc', 'spadea', 'us', 'bt', 'andrea', 'seppi', 'ita', 'david', 'sanguinetti', 'ita', 'bt', 'robin', 'vik', 'cze', 'david', 'ferrer', 'esp', 'bt', 'carlo', 'moya', 'esp', 'mardi', 'fish', 'us', 'bt', 'nicola', 'mahut', 'fra', 'jame', 'blake', 'us', 'bt', 'fabric', 'santoro', 'fra', 'dominik', 'hrbati', 'svk', 'bt', 'paul', 'goldstein', 'us', 'robbi', 'ginepri', 'us', 'bt', 'paulhenri', 'mathieu', 'fra', 'hyungtaik', 'lee', 'kor', 'bt', 'arnaud', 'clement', 'fra', 'dmitri', 'tursunov', 'ru', 'bt', 'sebastien', 'grosjean', 'fra', 'kristof', 'vliegen', 'bel', 'bt', 'marc', 'gicquel', 'fra', 'david', 'nalbandian', 'arg', 'bt', 'rik', 'de', 'voest', 'rsa', 'marco', 'baghdati', 'cyp', 'bt', 'thoma', 'johansson', 'swe', 'juan', 'ignacio', 'chela', 'arg', 'bt', 'nikolay', 'davydenko', 'ru', 'florent', 'serra', 'fra', 'bt', 'julien', 'benneteau', 'fra', 'nicola', 'almagro', 'esp', 'bt', 'alberto', 'martin', 'esp', 'tuesday', 'round', 'fernando', 'gonzalez', 'chi', 'bt', 'nicola', 'massu', 'chi', 'roger', 'feder', 'sui', 'bt', 'paradorn', 'srichaphan', 'tha', 'stanisla', 'wawrinka', 'sui', 'bt', 'jose', 'acasuso', 'arg', 'andi', 'roddick', 'us', 'bt', 'daniel', 'bracciali', 'ita', 'tommi', 'robredo', 'esp', 'bt', 'richard', 'gasquet', 'fra', 'novak', 'djokov', 'scg', 'bt', 'jarkko', 'nieminen', 'fin', 'rafael', 'nadal', 'esp', 'bt', 'sam', 'querrey', 'us', 'justin', 'gimelstob', 'us', 'bt', 'feliciano', 'lopez', 'esp', 'ivan', 'ljubic', 'cro', 'bt', 'greg', 'rusedski', 'gbr', 'robin', 'soederl', 'swe', 'bt', 'toma', 'berdych', 'cze', 'gael', 'monfil', 'fra', 'bt', 'marat', 'safin', 'ru', 'andi', 'murray', 'gbr', 'bt', 'tim', 'henman', 'gbr', 'mikhail', 'youzhni', 'ru', 'bt', 'bjoern', 'phau', 'ger', 'max', 'mirnyi', 'blr', 'bt', 'xavier', 'maliss', 'bel', 'tommi', 'haa', 'ger', 'bt', 'fernando', 'verdasco', 'esp', 'gill', 'simon', 'fra', 'bt', 'luka', 'dlouhi', 'cze', 'wta', 'montreal', 'master', 'monday', 'round', 'ana', 'ivanov', 'scg', 'bt', 'tatiana', 'golovin', 'fra', 'marion', 'bartoli', 'fra', 'bt', 'anna', 'smashnova', 'isr', 'nathali', 'dechi', 'fra', 'bt', 'tzipora', 'obzil', 'isr', 'alberta', 'brianti', 'ita', 'bt', 'sania', 'mirza', 'ind', 'luci', 'safarova', 'cze', 'bt', 'virgini', 'razzano', 'fra', 'maria', 'kirilenko', 'ru', 'bt', 'jelena', 'kostan', 'cro', 'shahar', 'peer', 'isr', 'bt', 'varvara', 'lepchenko', 'uzb', 'flavia', 'pennetta', 'ita', 'bt', 'galina', 'voskoboeva', 'ru', 'mara', 'santangelo', 'ita', 'bt', 'sybil', 'bammer', 'aut', 'anabel', 'medina', 'esp', 'bt', 'laura', 'granvil', 'us', 'katarina', 'srebotnik', 'slo', 'bt', 'michaella', 'krajicek', 'ned', 'tuesday', 'round', 'ai', 'sugiyama', 'jpn', 'bt', 'aleksandra', 'wozniak', 'anna', 'chakvetadz', 'ru', 'bt', 'vera', 'dushevina', 'ru', 'jie', 'zheng', 'chn', 'bt', 'catalina', 'castano', 'col', 'jelena', 'jankov', 'scg', 'bt', 'alona', 'bondarenko', 'ukr', 'stephani', 'duboi', 'bt', 'tathiana', 'garbin', 'ita', 'daniela', 'hantuchova', 'svk', 'bt', 'gisela', 'dulko', 'arg', 'marta', 'domachowska', 'pol', 'bt', 'alicia', 'molik', 'au', 'annalena', 'groenefeld', 'ger', 'bt', 'julia', 'schruff', 'ger', 'nicol', 'pratt', 'au', 'bt', 'maria', 'jose', 'martinez', 'esp', 'jamea', 'jackson', 'us', 'bt', 'lourd', 'dominguez', 'esp', 'cara', 'black', 'zim', 'bt', 'neha', 'uberoi', 'us', 'shenay', 'perri', 'us', 'bt', 'kveta', 'peschk', 'cze', 'marieev', 'pelleti', 'bt', 'na', 'li', 'chn', 'round', 'ii', 'nicol', 'vaidisova', 'cze', 'bt', 'luci', 'safarova', 'cze', 'martina', 'hingi', 'sui', 'bt', 'mara', 'santangelo', 'ita', 'book', 'japanes', 'toru', 'kamikawa', 'becom', 'first', 'refere', 'asia', 'take', 'charg', 'russian', 'premier', 'leagu', 'match', 'leagu', 'offici', 'said', 'wednesday', 'kamikawa', 'japan', 'top', 'refere', 'offici', 'eastern', 'port', 'citi', 'vladivostok', 'match', 'local', 'side', 'luchenergiya', 'spartak', 'moscow', 'saturday']\n",
            "['telegraph', 'calcutta', 'sport', 'india', 'make', 'success', 'present', 'cgf', 'melbourn', 'india', 'pass', 'big', 'test', 'fli', 'colour', 'sunday', 'success', 'present', 'commonwealth', 'game', 'feder', 'cgf', 'gener', 'assembl', 'prepar', 'game', 'new', 'delhi', 'indian', 'olymp', 'associ', 'presid', 'suresh', 'kalmadi', 'slick', 'minut', 'present', 'india', 'request', 'three', 'disciplin', 'game', 'receiv', 'posit', 'respons', 'decis', 'add', 'archeri', 'cue', 'sport', 'tenni', 'taken', 'cgf', 'sport', 'committe', 'next', 'month', 'anoth', 'signific', 'move', 'cgf', 'pune', 'award', 'right', 'host', 'commonwealth', 'youth', 'game', 'interestingli', 'cgf', 'member', 'request', 'one', 'two', 'addit', 'disciplin', 'ad', 'schedul', 'six', 'disciplin', 'pune', 'game', 'athlet', 'badminton', 'box', 'shoot', 'tenni', 'weightlift', 'swim', 'could', 'addit', 'list', 'sonia', 'run', 'australia', 'meanwhil', 'irish', 'middledist', 'runner', 'sonia', 'sullivan', 'allow', 'run', 'australia', 'despit', 'decis', 'close', 'loophol', 'elig', 'rule', 'commonwealth', 'game', 'offici', 'said', 'sunday', 'sullivan', 'born', 'ireland', 'commonwealth', 'member', 'sullivan', 'grant', 'australian', 'citizenship', 'less', 'seven', 'week', 'ago', 'controversi', 'select', 'march', 'commonwealth', 'game', 'agenc']\n",
            "['telegraph', 'calcutta', 'sport', 'resurg', 'pakistan', 'dent', 'england', 'hope', 'first', 'test', 'moham', 'yousuf', 'bat', 'hit', 'th', 'test', 'centuri', 'moham', 'yousuf', 'reach', 'centuri', 'lord', 'saturday', 'ap', 'london', 'moham', 'yousuf', 'th', 'test', 'centuri', 'saturday', 'gave', 'pakistan', 'hope', 'draw', 'first', 'test', 'third', 'day', 'defend', 'yearold', 'unbeaten', 'seri', 'record', 'england', 'pakistan', 'end', 'seven', 'lord', 'still', 'trail', 'england', 'nine', 'declar', 'run', 'avoid', 'followon', 'mainli', 'due', 'yousuf', 'yousuf', 'face', 'ball', 'minut', 'hit', 'one', 'six', 'four', 'share', 'stand', 'inzamamul', 'haq', 'abdul', 'razzaq', 'kamran', 'akmal', 'shahid', 'afridi', 'yet', 'score', 'close', 'yousuf', 'chang', 'name', 'yousuf', 'youhana', 'convert', 'christian', 'islam', 'celebr', 'centuri', 'kneel', 'kiss', 'turf', 'last', 'time', 'play', 'england', 'score', 'decemb', 'pakistan', 'third', 'final', 'test', 'lahor', 'take', 'seri', 'pakistan', 'havent', 'lost', 'seri', 'england', 'five', 'tour', 'sinc', 'resum', 'three', 'ad', 'run', 'lunch', 'loss', 'nightwatchman', 'moham', 'sami', 'th', 'ball', 'day', 'sami', 'edg', 'legcutt', 'matthew', 'hoggard', 'wicketkeep', 'geraint', 'jone', 'two', 'run', 'ad', 'nick', 'previou', 'ball', 'andrew', 'strauss', 'bounc', 'front', 'standin', 'captain', 'second', 'slip', 'inzamam', 'yousuf', 'took', 'pakistan', 'lunch', 'four', 'pair', 'move', 'pakistan', 'captain', 'lost', 'concentr', 'one', 'ball', 'drink', 'break', 'bowl', 'liam', 'plunkett', 'inzamam', 'hit', 'four', 'offer', 'one', 'halfchanc', 'slash', 'ball', 'plunkett', 'outstretch', 'hand', 'leap', 'marcu', 'trescothick', 'first', 'slip', 'lunch', 'plunkett', 'look', 'like', 'dismiss', 'yousuf', 'second', 'session', 'twice', 'beat', 'outsid', 'edg', 'entic', 'scoop', 'ball', 'didnt', 'carri', 'paul', 'collingwood', 'dive', 'forward', 'short', 'midwicket', 'monti', 'panesar', 'start', 'extract', 'turn', 'pakistan', 'legspinn', 'danish', 'kaneria', 'use', 'take', 'three', 'eight', 'friday', 'second', 'session', 'hit', 'yousuf', 'six', 'longon', 'four', 'midon', 'razzaq', 'cost', 'run', 'pakistan', 'score', 'run', 'second', 'session', 'fourth', 'new', 'ball', 'tea', 'razzaq', 'nick', 'legcutt', 'steve', 'harmison', 'jone', 'pakistan', 'six', 'still', 'requir', 'run', 'make', 'england', 'bat', 'next', 'harmison', 'bowl', 'aggress', 'pin', 'akmal', 'creas', 'take', 'one', 'six', 'over', 'new', 'ball', 'pair', 'safe', 'reach', 'followon', 'mark', 'howev', 'akmal', 'drop', 'kevin', 'pietersen', 'cover', 'bowl', 'plunkett', 'pakistan', 'two', 'over', 'later', 'yousuf', 'reach', 'six', 'hour', 'four', 'panesar', 'pietersen', 'made', 'amend', 'drop', 'akmal', 'caught', 'behind', 'firstev', 'test', 'wicket', 'thirdev', 'spinner', 'third', 'last', 'day', 'harmison', 'took', 'three', 'plunkett', 'two', 'pietersen', 'one', 'hoggard', 'one', 'meanwhil', 'open', 'taufeeq', 'umar', 'paceman', 'rao', 'iftikhar', 'join', 'pakistan', 'injurydeplet', 'squad', 'england', 'tourist', 'decid', 'send', 'home', 'allround', 'shoaib', 'malik', 'fast', 'bowler', 'moham', 'asif', 'pcb', 'offici', 'abba', 'zaidi', 'said', 'saturday', 'replac', 'flown', 'britain', 'within', 'next', 'hour', 'strengthen', 'side', 'remain', 'three', 'test', 'fourmatch', 'seri', 'agenc']\n",
            "['telegraph', 'calcutta', 'sport', 'friday', 'decemb', 'play', 'grew', 'confid', 'sourav', 'disappoint', 'get', 'hundr', 'comeback', 'match', 'remain', 'im', 'happi', 'got', 'sourav', 'ganguli', 'reaction', 'telegraph', 'contact', 'willow', 'garden', 'hotel', 'potchefstro', 'downpour', 'lash', 'citi', 'sinc', 'thursday', 'morn', 'dampen', 'spirit', 'mani', 'soma', 'b', 'sourav', 'ganguli', 'prove', 'selector', 'right', 'shoulder', 'team', 'respons', 'fight', 'irfan', 'p', 'south', 'korean', 'event', 'kim', 'hyungchil', 'die', 'fall', 'hors', 'equestrian', 'competit', 'slipperi', 'cours', 'that', 'day', 'disast', 'asian', 'game', 'tragedi', 'struck', 'earli', 'day', 'doha', 'racin', 'shoot', 'gold', 'seem', 'mirag', 'india', 'asian', 'game', 'becam', 'realiti', 'thursd', 'get', 'finer', 'detail', 'world', 'sport', 'person', 'refer', 'file', 'score', 'superbazaar', 'follow', 'hottest', 'tip', 'around', 'countri', 'track', 'get', 'feel', 'paddock', 'insid', 'stori', 'world', 'hors', 'race']\n",
            "['telegraph', 'calcutta', 'sport', 'chess', 'cheat', 'ban', 'year', 'new', 'delhi', 'one', 'harshest', 'punish', 'chess', 'player', 'india', 'chess', 'feder', 'aicf', 'ban', 'umak', 'sharma', 'southern', 'railway', 'year', 'cheat', 'fide', 'rate', 'tournament', 'delhi', 'earli', 'month', 'aicf', 'central', 'council', 'meet', 'chennai', 'tuesday', 'decid', 'ban', 'umak', 'second', 'seed', 'air', 'marshal', 'subroto', 'tournament', 'caught', 'blue', 'tooth', 'devic', 'hidden', 'cap', 'aicf', 'treasur', 'delhi', 'chess', 'associ', 'presid', 'bharat', 'singh', 'chauhan', 'exhibit', 'cap', 'devic', 'meet', 'said', 'decis', 'taken', 'long', 'deliber', 'pro', 'con', 'natur', 'offenc', 'punish', 'besid', 'complet', 'record', 'player', 'climb', 'elo', 'rate', 'around', 'last', 'six', 'month', 'matter', 'discuss', 'length', 'meet', 'decid', 'act', 'welcom', 'chess', 'chauhan', 'said', 'council', 'also', 'check', 'umak', 'complet', 'record', 'includ', 'game', 'even', 'financi', 'background', 'surpris', 'learn', 'expens', 'mobil', 'set', 'despit', 'unemploy', 'said', 'recent', 'got', 'job', 'southern', 'railway', 'chennai', 'said', 'game', 'also', 'studi', 'extraordinari', 'player', 'could', 'natur', 'gain', 'heavili', 'rate', 'short', 'durat', 'said', 'pti']\n",
            "['telegraph', 'calcutta', 'sport', 'sunday', 'februari', 'invit', 'icon', 'jahangir', 'khan', 'one', 'alltim', 'great', 'sportsperson', 'last', 'centuri', 'dress', 'room', 'karachi', 'greg', 'chappellencourag', 'move', 'depart', 'routin', 'test', 'seri', 'histori', 'team', 'must', 'eagerli', 'wait', 'oneday', 'seri', 'commenc', 'ple', 'move', 'unwarr', 'critic', 'sachin', 'tendulkar', 'remain', 'jewel', 'india', 'bat', 'c', 'england', 'like', 'decid', 'tuesday', 'part', 'ashley', 'gile', 'play', 'forthcom', 'tour', 'india', 'gile', 'gile', 'may', 'play', 'latter', 'stage', 'india', 'tour', 'greg', 'chappel', 'isnt', 'one', 'sight', 'world', 'cup', 'bob', 'woolmer', 'shoaib', 'malik', 'lost', 'father', 'last', 'day', 'second', 'test', 'faisalabad', 'still', 'gri', 'get', 'finer', 'detail', 'world', 'sport', 'person', 'refer', 'file', 'score', 'superbazaar', 'follow', 'hottest', 'tip', 'around', 'countri', 'track', 'get', 'feel', 'paddock', 'insid', 'stori', 'world', 'hors', 'race']\n"
          ]
        }
      ]
    },
    {
      "cell_type": "markdown",
      "metadata": {
        "id": "Bo8PeBtCNOgE"
      },
      "source": [
        "### cbow model"
      ]
    },
    {
      "cell_type": "code",
      "metadata": {
        "id": "KX5dbXBS8-ZI"
      },
      "source": [
        "# CBOW Model \n",
        "w2v_model = gensim.models.Word2Vec(min_count=20,\n",
        "                                   window=5,\n",
        "                                   size=100,\n",
        "                                   sample=6e-5, \n",
        "                                   alpha=0.03, \n",
        "                                   min_alpha=0.0007, \n",
        "                                   negative=20,\n",
        "                                   workers=cores-1,\n",
        "                                   sg=0\n",
        "                                   )"
      ],
      "execution_count": null,
      "outputs": []
    },
    {
      "cell_type": "code",
      "metadata": {
        "id": "879KNYCY8-ZK"
      },
      "source": [
        "w2v_model.build_vocab(text_tokens, progress_per=10000)\n",
        "w2v_model.train(text_tokens, total_examples=w2v_model.corpus_count, epochs=5, report_delay=1)\n",
        "w2v_model.init_sims(replace=True)"
      ],
      "execution_count": null,
      "outputs": []
    },
    {
      "cell_type": "code",
      "metadata": {
        "id": "hYygqw0h8-ZL",
        "colab": {
          "base_uri": "https://localhost:8080/"
        },
        "outputId": "5105e078-20b6-495e-fee4-15f86e4764ba"
      },
      "source": [
        "# word vectors are stored in model.wv\n",
        "print(\"Size of the vocabulary: %d number of unique words have been considered\" % len(w2v_model.wv.vocab))\n",
        "\n",
        "example_word = 'woman'\n",
        "print(\"\\nWord vector of \" + example_word)\n",
        "print(w2v_model.wv[example_word].size)\n",
        "print(w2v_model.wv[example_word])\n",
        "print(\"\\nWords with most similar vector representations to \" + example_word)\n",
        "print(w2v_model.wv.most_similar(example_word))\n",
        "\n",
        "# similarity directly:\n",
        "print(\"\\nCosine similarity to other words:\")\n",
        "print(w2v_model.similarity('woman','man'))\n",
        "print(w2v_model.similarity('woman','tree'))"
      ],
      "execution_count": null,
      "outputs": [
        {
          "output_type": "stream",
          "name": "stdout",
          "text": [
            "Size of the vocabulary: 37231 number of unique words have been considered\n",
            "\n",
            "Word vector of woman\n",
            "100\n",
            "[ 6.36353940e-02  1.18012421e-01 -1.51836604e-01 -4.75290604e-03\n",
            " -1.91944420e-01  8.68941322e-02  9.28632095e-02  1.00673094e-01\n",
            " -1.38693795e-01  8.26979449e-05  2.66762346e-01  1.45558506e-01\n",
            " -1.79897055e-01 -2.68514156e-02  6.70778304e-02  8.37405547e-02\n",
            "  8.59311670e-02 -3.02767120e-02 -1.38722584e-01 -1.97500885e-01\n",
            "  1.28468797e-01 -4.30447496e-02  6.62310747e-03 -6.72670752e-02\n",
            " -9.81159136e-02  5.79101145e-02 -1.43320158e-01  1.28622264e-01\n",
            " -7.89580047e-02 -1.11073606e-01  6.01805896e-02 -2.75434226e-01\n",
            "  1.96634494e-02  2.91445758e-02  3.20910662e-02  3.67841609e-02\n",
            "  1.90692946e-01 -1.54307857e-01  7.57366344e-02 -5.03922291e-02\n",
            "  1.04580559e-01 -3.06135826e-02 -5.75922653e-02  9.79838297e-02\n",
            "  1.88134879e-01 -1.54758440e-02  9.26820859e-02 -6.14467710e-02\n",
            " -4.01611477e-02 -3.82382539e-03  6.86802119e-02 -7.86005557e-02\n",
            " -4.32714336e-02  1.36524662e-01 -2.58667469e-02 -9.97145101e-02\n",
            " -4.25584875e-02 -5.36668189e-02 -9.23699513e-02  1.09836124e-01\n",
            "  1.12081274e-01 -9.23750550e-02  3.02993488e-02  1.06411025e-01\n",
            " -1.38240248e-01 -6.87870085e-02  8.73957202e-02 -8.83236825e-02\n",
            " -1.36908934e-01 -7.85830542e-02 -1.49139419e-01 -7.27111921e-02\n",
            " -6.81142369e-03  2.04447526e-02 -6.57792687e-02  8.00001174e-02\n",
            "  1.01913460e-01 -1.02301233e-01  2.61874646e-02 -1.83074325e-02\n",
            " -7.68980384e-02  5.56585565e-02  8.16981867e-02 -1.02640547e-01\n",
            "  7.79646263e-02  7.58313686e-02 -5.86853288e-02  1.70812989e-03\n",
            "  3.80168669e-02 -3.28413397e-02  1.89426262e-02  7.57010579e-02\n",
            "  1.36371270e-01 -2.91189589e-02 -8.42756778e-02  1.46803454e-01\n",
            " -1.71218678e-01  2.48432513e-02 -1.13890916e-02 -4.26316522e-02]\n",
            "\n",
            "Words with most similar vector representations to woman\n",
            "[('middleag', 0.7329531908035278), ('man', 0.7298637628555298), ('teenag', 0.7204806804656982), ('pregnant', 0.7103569507598877), ('girl', 0.6999146938323975), ('unmarri', 0.6968926787376404), ('husband', 0.6857379078865051), ('housewif', 0.6803181171417236), ('daughter', 0.6757115721702576), ('schoolgirl', 0.6678164005279541)]\n",
            "\n",
            "Cosine similarity to other words:\n",
            "0.72986364\n",
            "0.09860565\n"
          ]
        }
      ]
    },
    {
      "cell_type": "code",
      "metadata": {
        "id": "vcgRWDX28-ZL",
        "colab": {
          "base_uri": "https://localhost:8080/"
        },
        "outputId": "8ffb3a78-4019-4772-c83f-24e6b13e6cf3"
      },
      "source": [
        "# words most similar to \"man\"\n",
        "w2v_model.wv.most_similar(\"man\")"
      ],
      "execution_count": null,
      "outputs": [
        {
          "output_type": "execute_result",
          "data": {
            "text/plain": [
              "[('woman', 0.7298637628555298),\n",
              " ('pretend', 0.6580207347869873),\n",
              " ('middleag', 0.6338212490081787),\n",
              " ('teenag', 0.6185839176177979),\n",
              " ('stranger', 0.6114965081214905),\n",
              " ('yearold', 0.6064582467079163),\n",
              " ('men', 0.6023073792457581),\n",
              " ('terrifi', 0.5963964462280273),\n",
              " ('somehow', 0.59483802318573),\n",
              " ('forgiv', 0.5899583697319031)]"
            ]
          },
          "metadata": {},
          "execution_count": 13
        }
      ]
    },
    {
      "cell_type": "code",
      "metadata": {
        "colab": {
          "base_uri": "https://localhost:8080/"
        },
        "id": "P9yVKQJ9_rh4",
        "outputId": "fc21465b-c6d2-464c-f922-0034179367c0"
      },
      "source": [
        "# words most similar to \"politician\"\n",
        "w2v_model.wv.most_similar(\"politician\")"
      ],
      "execution_count": null,
      "outputs": [
        {
          "output_type": "execute_result",
          "data": {
            "text/plain": [
              "[('bureaucrat', 0.7337076663970947),\n",
              " ('polit', 0.7128171920776367),\n",
              " ('corrupt', 0.6702496409416199),\n",
              " ('nepot', 0.6700968742370605),\n",
              " ('openli', 0.6591141223907471),\n",
              " ('petti', 0.6375821828842163),\n",
              " ('hypocrisi', 0.6344172358512878),\n",
              " ('cynic', 0.6306552886962891),\n",
              " ('partisan', 0.6145445108413696),\n",
              " ('congressmen', 0.6117047667503357)]"
            ]
          },
          "metadata": {},
          "execution_count": 20
        }
      ]
    },
    {
      "cell_type": "code",
      "metadata": {
        "id": "g5-PxPyx8-ZM",
        "colab": {
          "base_uri": "https://localhost:8080/"
        },
        "outputId": "c9c108ab-8869-4c27-c388-78a4eb98abf0"
      },
      "source": [
        "w2v_model.wv.most_similar(positive=[\"king\", \"girl\"], negative=[\"queen\"], topn=10)"
      ],
      "execution_count": null,
      "outputs": [
        {
          "output_type": "execute_result",
          "data": {
            "text/plain": [
              "[('boy', 0.6142615079879761),\n",
              " ('parent', 0.5492401123046875),\n",
              " ('teenag', 0.5333204865455627),\n",
              " ('brothel', 0.49687808752059937),\n",
              " ('father', 0.4950751066207886),\n",
              " ('prostitut', 0.4866122007369995),\n",
              " ('youth', 0.4748697280883789),\n",
              " ('guardian', 0.46173906326293945),\n",
              " ('kidnapp', 0.45759475231170654),\n",
              " ('classmat', 0.4561840295791626)]"
            ]
          },
          "metadata": {},
          "execution_count": 21
        }
      ]
    },
    {
      "cell_type": "code",
      "metadata": {
        "id": "B7C0BNuT8-ZN",
        "colab": {
          "base_uri": "https://localhost:8080/",
          "height": 353
        },
        "outputId": "ca0f7054-34d1-480c-98bb-e087d1a15324"
      },
      "source": [
        "import numpy as np\n",
        "labels = []\n",
        "count = 0\n",
        "max_count = 50\n",
        "X = np.zeros(shape=(max_count, len(w2v_model['car'])))\n",
        "\n",
        "for term in w2v_model.wv.vocab:\n",
        "    X[count] = w2v_model[term]\n",
        "    labels.append(term)\n",
        "    count+= 1\n",
        "    if count >= max_count: break\n",
        "\n",
        "# It is recommended to use PCA first to reduce to ~50 dimensions\n",
        "from sklearn.decomposition import PCA\n",
        "pca = PCA(n_components=50)\n",
        "X_50 = pca.fit_transform(X)\n",
        "\n",
        "# Using TSNE to further reduce to 2 dimensions\n",
        "from sklearn.manifold import TSNE\n",
        "model_tsne = TSNE(n_components=2, random_state=0)\n",
        "Y = model_tsne.fit_transform(X_50)\n",
        "\n",
        "\n",
        "# Show the scatter plot\n",
        "import matplotlib.pyplot as plt\n",
        "plt.scatter(Y[:,0], Y[:,1], 20)\n",
        "\n",
        "# Add labels\n",
        "for label, x, y in zip(labels, Y[:, 0], Y[:, 1]):\n",
        "    plt.annotate(label, xy = (x,y), xytext = (0, 0), textcoords = 'offset points', size = 10)\n",
        "\n",
        "plt.show()"
      ],
      "execution_count": null,
      "outputs": [
        {
          "output_type": "stream",
          "name": "stderr",
          "text": [
            "/usr/local/lib/python3.7/dist-packages/sklearn/manifold/_t_sne.py:783: FutureWarning: The default initialization in TSNE will change from 'random' to 'pca' in 1.2.\n",
            "  FutureWarning,\n",
            "/usr/local/lib/python3.7/dist-packages/sklearn/manifold/_t_sne.py:793: FutureWarning: The default learning rate in TSNE will change from 200.0 to 'auto' in 1.2.\n",
            "  FutureWarning,\n"
          ]
        },
        {
          "output_type": "display_data",
          "data": {
            "image/png": "[encoded data removed]",
            "text/plain": [
              "<Figure size 432x288 with 1 Axes>"
            ]
          },
          "metadata": {
            "needs_background": "light"
          }
        }
      ]
    },
    {
      "cell_type": "markdown",
      "metadata": {
        "id": "vQpadVxjNU-u"
      },
      "source": [
        "### skipgram model"
      ]
    },
    {
      "cell_type": "code",
      "metadata": {
        "id": "nsxx4U-Y8-ZP"
      },
      "source": [
        "# SkipGram Model \n",
        "w2v_model = gensim.models.Word2Vec(min_count=20,\n",
        "                                   window=5,\n",
        "                                   size=100,\n",
        "                                   sample=6e-5, \n",
        "                                   alpha=0.03, \n",
        "                                   min_alpha=0.0007, \n",
        "                                   negative=20,\n",
        "                                   workers=cores-1,\n",
        "                                   sg=1\n",
        "                                   )"
      ],
      "execution_count": null,
      "outputs": []
    },
    {
      "cell_type": "code",
      "metadata": {
        "id": "JEaMbwXaAn-n"
      },
      "source": [
        "w2v_model.build_vocab(text_tokens, progress_per=10000)\n",
        "w2v_model.train(text_tokens, total_examples=w2v_model.corpus_count, epochs=5, report_delay=1)\n",
        "w2v_model.init_sims(replace=True)"
      ],
      "execution_count": null,
      "outputs": []
    },
    {
      "cell_type": "code",
      "metadata": {
        "colab": {
          "base_uri": "https://localhost:8080/"
        },
        "id": "tPKS3tTqAspH",
        "outputId": "4e588197-e11d-4bc7-a69b-c4f892d52074"
      },
      "source": [
        "# word vectors are stored in model.wv\n",
        "print(\"Size of the vocabulary: %d number of unique words have been considered\" % len(w2v_model.wv.vocab))\n",
        "\n",
        "example_word = 'woman'\n",
        "print(\"\\nWord vector of \" + example_word)\n",
        "print(w2v_model.wv[example_word].size)\n",
        "print(w2v_model.wv[example_word])\n",
        "print(\"\\nWords with most similar vector representations to \" + example_word)\n",
        "print(w2v_model.wv.most_similar(example_word))\n",
        "\n",
        "# similarity directly:\n",
        "print(\"\\nCosine similarity to other words:\")\n",
        "print(w2v_model.similarity('woman','man'))\n",
        "print(w2v_model.similarity('woman','tree'))"
      ],
      "execution_count": null,
      "outputs": [
        {
          "output_type": "stream",
          "name": "stdout",
          "text": [
            "Size of the vocabulary: 37231 number of unique words have been considered\n",
            "\n",
            "Word vector of woman\n",
            "100\n",
            "[ 0.20888568  0.02737415  0.09096011 -0.09068958 -0.03622135  0.02913115\n",
            " -0.06685317  0.15616357  0.11949717  0.07687791  0.16022684  0.16081136\n",
            "  0.07205797  0.02098889 -0.11893652  0.0256019   0.15424688 -0.05425572\n",
            "  0.05402754  0.14650342  0.17975086 -0.09375731  0.02586257 -0.14226653\n",
            "  0.02420994  0.00837906  0.1324245  -0.02747981 -0.07025246  0.08474078\n",
            " -0.23859608 -0.07812609  0.02534412 -0.00844623 -0.01741578  0.2356396\n",
            " -0.00413785 -0.00551944 -0.08818627 -0.00512843  0.08693646 -0.1278764\n",
            " -0.05414504 -0.00371923  0.12828027  0.00809663 -0.09504739  0.00199978\n",
            " -0.05340042  0.07869313  0.07884455  0.1781668   0.21927612  0.12865216\n",
            " -0.07139372 -0.01382894 -0.0261934  -0.12434293 -0.08776408  0.01126127\n",
            " -0.0334066   0.06298133 -0.00475473  0.03233583  0.0639558   0.03937637\n",
            "  0.03405946 -0.15514056 -0.11455347 -0.05197909 -0.10834977 -0.09620244\n",
            "  0.12970681 -0.14850192  0.24437228  0.12543106 -0.09516431  0.02081273\n",
            "  0.03629345 -0.03336765 -0.14269456 -0.09391692  0.13356157 -0.04060303\n",
            "  0.10755657  0.1266526   0.03127637  0.04010591  0.18760218  0.01628049\n",
            "  0.02926285  0.05262624 -0.01366325  0.0189494   0.1613793   0.02249787\n",
            "  0.01653747  0.04173089 -0.00791463 -0.06164457]\n",
            "\n",
            "Words with most similar vector representations to woman\n",
            "[('child', 0.7487488985061646), ('husband', 0.7345316410064697), ('middleag', 0.731236457824707), ('man', 0.7239115238189697), ('girl', 0.715385913848877), ('mother', 0.7049391269683838), ('pregnant', 0.6992349624633789), ('daughter', 0.6823024153709412), ('wife', 0.6798959970474243), ('women', 0.677492618560791)]\n",
            "\n",
            "Cosine similarity to other words:\n",
            "0.7239116\n",
            "0.26370174\n"
          ]
        }
      ]
    },
    {
      "cell_type": "code",
      "metadata": {
        "colab": {
          "base_uri": "https://localhost:8080/"
        },
        "id": "5Eu8iNaAAzTp",
        "outputId": "8dc300ab-1656-49e0-d1b4-03484ba1ac4f"
      },
      "source": [
        "w2v_model.wv.most_similar(\"man\")"
      ],
      "execution_count": null,
      "outputs": [
        {
          "output_type": "execute_result",
          "data": {
            "text/plain": [
              "[('middleag', 0.7591733932495117),\n",
              " ('potbelli', 0.7323006391525269),\n",
              " ('yearold', 0.7246603965759277),\n",
              " ('woman', 0.7239115238189697),\n",
              " ('someon', 0.7099756598472595),\n",
              " ('welldress', 0.7054553627967834),\n",
              " ('father', 0.6931183338165283),\n",
              " ('mildmann', 0.6907799243927002),\n",
              " ('pretend', 0.6899071931838989),\n",
              " ('policeman', 0.6890074014663696)]"
            ]
          },
          "metadata": {},
          "execution_count": 26
        }
      ]
    },
    {
      "cell_type": "code",
      "metadata": {
        "colab": {
          "base_uri": "https://localhost:8080/"
        },
        "id": "yUBI5sMNA2zJ",
        "outputId": "8b34ce5d-12ff-4aeb-8bcc-724b727d1538"
      },
      "source": [
        "w2v_model.wv.most_similar(\"politician\")"
      ],
      "execution_count": null,
      "outputs": [
        {
          "output_type": "execute_result",
          "data": {
            "text/plain": [
              "[('bureaucrat', 0.7939152121543884),\n",
              " ('polit', 0.7865594625473022),\n",
              " ('corrupt', 0.7696572542190552),\n",
              " ('nepot', 0.7513159513473511),\n",
              " ('powerhungri', 0.7123661041259766),\n",
              " ('patronag', 0.7103352546691895),\n",
              " ('petti', 0.6953808069229126),\n",
              " ('businessmen', 0.6931336522102356),\n",
              " ('apparatchik', 0.6877325177192688),\n",
              " ('selfseek', 0.6858354210853577)]"
            ]
          },
          "metadata": {},
          "execution_count": 27
        }
      ]
    },
    {
      "cell_type": "code",
      "metadata": {
        "colab": {
          "base_uri": "https://localhost:8080/"
        },
        "id": "FuacMJIiA5Pa",
        "outputId": "c811fe12-0d8a-4d8e-876d-b2f4daa6229f"
      },
      "source": [
        "w2v_model.wv.most_similar(positive=[\"king\", \"girl\"], negative=[\"queen\"], topn=10)\n",
        "# probably not enough data?"
      ],
      "execution_count": null,
      "outputs": [
        {
          "output_type": "execute_result",
          "data": {
            "text/plain": [
              "[('boy', 0.5933575630187988),\n",
              " ('prostitut', 0.5589313507080078),\n",
              " ('teenag', 0.5303976535797119),\n",
              " ('child', 0.5263533592224121),\n",
              " ('parent', 0.5159709453582764),\n",
              " ('pregnant', 0.4966689944267273),\n",
              " ('rape', 0.4961240887641907),\n",
              " ('sarpanch', 0.4954252243041992),\n",
              " ('children', 0.49472835659980774),\n",
              " ('tamanna', 0.4940378665924072)]"
            ]
          },
          "metadata": {},
          "execution_count": 28
        }
      ]
    },
    {
      "cell_type": "code",
      "metadata": {
        "colab": {
          "base_uri": "https://localhost:8080/",
          "height": 357
        },
        "id": "gpgTxdnMA8PF",
        "outputId": "6d70d242-aae3-4b25-ea47-3c7afe6fb508"
      },
      "source": [
        "import numpy as np\n",
        "labels = []\n",
        "count = 0\n",
        "max_count = 50\n",
        "X = np.zeros(shape=(max_count, len(w2v_model['car'])))\n",
        "\n",
        "for term in w2v_model.wv.vocab:\n",
        "    X[count] = w2v_model[term]\n",
        "    labels.append(term)\n",
        "    count+= 1\n",
        "    if count >= max_count: break\n",
        "\n",
        "# It is recommended to use PCA first to reduce to ~50 dimensions\n",
        "from sklearn.decomposition import PCA\n",
        "pca = PCA(n_components=50)\n",
        "X_50 = pca.fit_transform(X)\n",
        "\n",
        "# Using TSNE to further reduce to 2 dimensions\n",
        "from sklearn.manifold import TSNE\n",
        "model_tsne = TSNE(n_components=2, random_state=0)\n",
        "Y = model_tsne.fit_transform(X_50)\n",
        "\n",
        "\n",
        "# Show the scatter plot\n",
        "import matplotlib.pyplot as plt\n",
        "plt.scatter(Y[:,0], Y[:,1], 20)\n",
        "\n",
        "# Add labels\n",
        "for label, x, y in zip(labels, Y[:, 0], Y[:, 1]):\n",
        "    plt.annotate(label, xy = (x,y), xytext = (0, 0), textcoords = 'offset points', size = 10)\n",
        "\n",
        "plt.show()"
      ],
      "execution_count": null,
      "outputs": [
        {
          "output_type": "stream",
          "name": "stderr",
          "text": [
            "/usr/local/lib/python3.7/dist-packages/sklearn/manifold/_t_sne.py:783: FutureWarning: The default initialization in TSNE will change from 'random' to 'pca' in 1.2.\n",
            "  FutureWarning,\n",
            "/usr/local/lib/python3.7/dist-packages/sklearn/manifold/_t_sne.py:793: FutureWarning: The default learning rate in TSNE will change from 200.0 to 'auto' in 1.2.\n",
            "  FutureWarning,\n"
          ]
        },
        {
          "output_type": "display_data",
          "data": {
            "image/png": "[encoded data removed]",
            "text/plain": [
              "<Figure size 432x288 with 1 Axes>"
            ]
          },
          "metadata": {
            "needs_background": "light"
          }
        }
      ]
    },
    {
      "cell_type": "markdown",
      "metadata": {
        "id": "3rmTSLi6IObj"
      },
      "source": [
        "## Part 2 - Training token classification models "
      ]
    },
    {
      "cell_type": "code",
      "metadata": {
        "colab": {
          "base_uri": "https://localhost:8080/"
        },
        "id": "HTEv4ACmBIBl",
        "outputId": "e59be1c6-912e-4044-a75e-63709f312597"
      },
      "source": [
        "import nltk \n",
        "nltk.download('opinion_lexicon')\n",
        "from nltk.corpus import opinion_lexicon\n",
        "import gensim.downloader "
      ],
      "execution_count": null,
      "outputs": [
        {
          "output_type": "stream",
          "name": "stdout",
          "text": [
            "[nltk_data] Downloading package opinion_lexicon to /root/nltk_data...\n",
            "[nltk_data]   Unzipping corpora/opinion_lexicon.zip.\n"
          ]
        }
      ]
    },
    {
      "cell_type": "markdown",
      "metadata": {
        "id": "f5oBufN0Nbif"
      },
      "source": [
        "### preparing data"
      ]
    },
    {
      "cell_type": "code",
      "metadata": {
        "id": "obJaBgqDOJJ-"
      },
      "source": [
        "positives = list(opinion_lexicon.positive())\n",
        "negatives = list(opinion_lexicon.negative())\n",
        "\n",
        "positives = [(tok, 1) for tok in positives ]\n",
        "negatives = [(tok, 0) for tok in negatives ]\n",
        "\n",
        "data = positives + negatives"
      ],
      "execution_count": null,
      "outputs": []
    },
    {
      "cell_type": "code",
      "metadata": {
        "id": "JYUZg6QfRNy4",
        "colab": {
          "base_uri": "https://localhost:8080/"
        },
        "outputId": "572696b5-682a-420e-f1f5-357fd1aee286"
      },
      "source": [
        "final_dataset = []\n",
        "categories = []\n",
        "\n",
        "for word, category in data:\n",
        "    try:\n",
        "        emb = wv_model.wv[word]\n",
        "        final_dataset.append(emb)\n",
        "        categories.append(category)\n",
        "    except:\n",
        "        continue"
      ],
      "execution_count": null,
      "outputs": [
        {
          "output_type": "stream",
          "name": "stderr",
          "text": [
            "/usr/local/lib/python3.7/dist-packages/ipykernel_launcher.py:6: DeprecationWarning: Call to deprecated `wv` (Attribute will be removed in 4.0.0, use self instead).\n",
            "  \n"
          ]
        }
      ]
    },
    {
      "cell_type": "markdown",
      "metadata": {
        "id": "ldHavGG9Nfcx"
      },
      "source": [
        "### SVC"
      ]
    },
    {
      "cell_type": "code",
      "metadata": {
        "id": "h3QdfWZ3Sky6"
      },
      "source": [
        "from sklearn.model_selection import train_test_split \n",
        "\n",
        "x_train, x_test, y_train, y_test = train_test_split(final_dataset, categories, test_size=0.25, stratify=categories)"
      ],
      "execution_count": null,
      "outputs": []
    },
    {
      "cell_type": "code",
      "metadata": {
        "colab": {
          "base_uri": "https://localhost:8080/"
        },
        "id": "sdpq2nc9Qrze",
        "outputId": "5823092d-6e59-4a9c-9bb2-588cde27e5b5"
      },
      "source": [
        "wv_model = gensim.downloader.load('glove-twitter-100')"
      ],
      "execution_count": null,
      "outputs": [
        {
          "output_type": "stream",
          "name": "stdout",
          "text": [
            "[==================================================] 100.0% 387.1/387.1MB downloaded\n"
          ]
        }
      ]
    },
    {
      "cell_type": "code",
      "metadata": {
        "colab": {
          "base_uri": "https://localhost:8080/"
        },
        "id": "HMgQx9lWUZrr",
        "outputId": "cef6faf8-e5dd-42f4-8c5a-dd6201a1890a"
      },
      "source": [
        "from sklearn.svm import SVC \n",
        "\n",
        "svc = SVC()\n",
        "svc.fit(x_train, y_train)\n",
        "print(f'Score: {svc.score(x_test, y_test)}')"
      ],
      "execution_count": null,
      "outputs": [
        {
          "output_type": "stream",
          "name": "stdout",
          "text": [
            "Score: 0.8982808022922636\n"
          ]
        }
      ]
    },
    {
      "cell_type": "markdown",
      "metadata": {
        "id": "bc8ovNalNmCB"
      },
      "source": [
        "### Feed Forward Neural net for classification  "
      ]
    },
    {
      "cell_type": "code",
      "metadata": {
        "id": "QiQDjaZ2WdNU"
      },
      "source": [
        "import numpy as np\n",
        "import tensorflow as tf\n",
        "from tensorflow.keras.models import Model \n",
        "from tensorflow.keras.layers import Input, Dense \n",
        "from tensorflow.keras.metrics import Precision, Recall \n",
        "\n",
        "vector_size = len(x_train[0])\n",
        "batch_size = 64\n",
        "epochs = 20 "
      ],
      "execution_count": null,
      "outputs": []
    },
    {
      "cell_type": "code",
      "metadata": {
        "id": "EAFxYudyYv3H"
      },
      "source": [
        "def NN(input_size, activation): \n",
        "    inputs = Input(shape=(input_size, ))\n",
        "    x = Dense(64, activation=activation)(inputs)\n",
        "    x = Dense(32, activation=activation)(x)\n",
        "    x = Dense(16, activation=activation)(x)\n",
        "    outputs = Dense(1, activation='sigmoid')(x)\n",
        "    return Model(inputs = inputs, outputs = outputs, name='token_classification')"
      ],
      "execution_count": null,
      "outputs": []
    },
    {
      "cell_type": "code",
      "metadata": {
        "id": "WSwGmy5TZ483"
      },
      "source": [
        "model = NN(100, 'relu')\n",
        "model.compile(loss='binary_crossentropy', optimizer='adam', metrics=[Precision(), Recall()])"
      ],
      "execution_count": null,
      "outputs": []
    },
    {
      "cell_type": "code",
      "metadata": {
        "colab": {
          "base_uri": "https://localhost:8080/"
        },
        "id": "nprrKURiadDH",
        "outputId": "b1b34aae-dc05-4a48-e98c-1a9558fa7837"
      },
      "source": [
        "H = model.fit(np.array(x_train), np.array(y_train), batch_size=batch_size, epochs=epochs, validation_split=0.1)"
      ],
      "execution_count": null,
      "outputs": [
        {
          "output_type": "stream",
          "name": "stdout",
          "text": [
            "Epoch 1/20\n",
            "59/59 [==============================] - 3s 14ms/step - loss: 0.5171 - precision_2: 0.9570 - recall_2: 0.0746 - val_loss: 0.4146 - val_precision_2: 0.9600 - val_recall_2: 0.3934\n",
            "Epoch 2/20\n",
            "59/59 [==============================] - 0s 7ms/step - loss: 0.3248 - precision_2: 0.8574 - recall_2: 0.6957 - val_loss: 0.3026 - val_precision_2: 0.8103 - val_recall_2: 0.7705\n",
            "Epoch 3/20\n",
            "59/59 [==============================] - 0s 7ms/step - loss: 0.2504 - precision_2: 0.8448 - recall_2: 0.8256 - val_loss: 0.3032 - val_precision_2: 0.8713 - val_recall_2: 0.7213\n",
            "Epoch 4/20\n",
            "59/59 [==============================] - 0s 6ms/step - loss: 0.2233 - precision_2: 0.8686 - recall_2: 0.8365 - val_loss: 0.2953 - val_precision_2: 0.8348 - val_recall_2: 0.7869\n",
            "Epoch 5/20\n",
            "59/59 [==============================] - 0s 7ms/step - loss: 0.2068 - precision_2: 0.8788 - recall_2: 0.8508 - val_loss: 0.3031 - val_precision_2: 0.8049 - val_recall_2: 0.8115\n",
            "Epoch 6/20\n",
            "59/59 [==============================] - 0s 7ms/step - loss: 0.1861 - precision_2: 0.8949 - recall_2: 0.8634 - val_loss: 0.3248 - val_precision_2: 0.8835 - val_recall_2: 0.7459\n",
            "Epoch 7/20\n",
            "59/59 [==============================] - 0s 7ms/step - loss: 0.1681 - precision_2: 0.9141 - recall_2: 0.8826 - val_loss: 0.3312 - val_precision_2: 0.8496 - val_recall_2: 0.7869\n",
            "Epoch 8/20\n",
            "59/59 [==============================] - 0s 7ms/step - loss: 0.1522 - precision_2: 0.9157 - recall_2: 0.9011 - val_loss: 0.3536 - val_precision_2: 0.8868 - val_recall_2: 0.7705\n",
            "Epoch 9/20\n",
            "59/59 [==============================] - 0s 7ms/step - loss: 0.1293 - precision_2: 0.9352 - recall_2: 0.9187 - val_loss: 0.3695 - val_precision_2: 0.8151 - val_recall_2: 0.7951\n",
            "Epoch 10/20\n",
            "59/59 [==============================] - 0s 7ms/step - loss: 0.1127 - precision_2: 0.9448 - recall_2: 0.9329 - val_loss: 0.3869 - val_precision_2: 0.8348 - val_recall_2: 0.7869\n",
            "Epoch 11/20\n",
            "59/59 [==============================] - 0s 7ms/step - loss: 0.0942 - precision_2: 0.9579 - recall_2: 0.9531 - val_loss: 0.4272 - val_precision_2: 0.8246 - val_recall_2: 0.7705\n",
            "Epoch 12/20\n",
            "59/59 [==============================] - 0s 7ms/step - loss: 0.0806 - precision_2: 0.9647 - recall_2: 0.9614 - val_loss: 0.4492 - val_precision_2: 0.8261 - val_recall_2: 0.7787\n",
            "Epoch 13/20\n",
            "59/59 [==============================] - 0s 7ms/step - loss: 0.0672 - precision_2: 0.9740 - recall_2: 0.9740 - val_loss: 0.5078 - val_precision_2: 0.8611 - val_recall_2: 0.7623\n",
            "Epoch 14/20\n",
            "59/59 [==============================] - 0s 7ms/step - loss: 0.0525 - precision_2: 0.9807 - recall_2: 0.9807 - val_loss: 0.5477 - val_precision_2: 0.8532 - val_recall_2: 0.7623\n",
            "Epoch 15/20\n",
            "59/59 [==============================] - 0s 7ms/step - loss: 0.0417 - precision_2: 0.9842 - recall_2: 0.9891 - val_loss: 0.5538 - val_precision_2: 0.8559 - val_recall_2: 0.7787\n",
            "Epoch 16/20\n",
            "59/59 [==============================] - 0s 7ms/step - loss: 0.0334 - precision_2: 0.9883 - recall_2: 0.9883 - val_loss: 0.5938 - val_precision_2: 0.8319 - val_recall_2: 0.7705\n",
            "Epoch 17/20\n",
            "59/59 [==============================] - 0s 6ms/step - loss: 0.0271 - precision_2: 0.9916 - recall_2: 0.9933 - val_loss: 0.6453 - val_precision_2: 0.8611 - val_recall_2: 0.7623\n",
            "Epoch 18/20\n",
            "59/59 [==============================] - 0s 7ms/step - loss: 0.0216 - precision_2: 0.9933 - recall_2: 0.9925 - val_loss: 0.6595 - val_precision_2: 0.8319 - val_recall_2: 0.7705\n",
            "Epoch 19/20\n",
            "59/59 [==============================] - 0s 7ms/step - loss: 0.0164 - precision_2: 0.9958 - recall_2: 0.9983 - val_loss: 0.7365 - val_precision_2: 0.8532 - val_recall_2: 0.7623\n",
            "Epoch 20/20\n",
            "59/59 [==============================] - 0s 7ms/step - loss: 0.0120 - precision_2: 0.9975 - recall_2: 0.9975 - val_loss: 0.7518 - val_precision_2: 0.8319 - val_recall_2: 0.7705\n"
          ]
        }
      ]
    },
    {
      "cell_type": "code",
      "metadata": {
        "id": "PRNXKfRpauwK",
        "colab": {
          "base_uri": "https://localhost:8080/"
        },
        "outputId": "3278830f-9032-4487-bf66-b03080420ead"
      },
      "source": [
        "l, p, r = model.evaluate(np.array(x_test), np.array(y_test))"
      ],
      "execution_count": null,
      "outputs": [
        {
          "output_type": "stream",
          "name": "stdout",
          "text": [
            "44/44 [==============================] - 0s 5ms/step - loss: 0.5982 - precision_2: 0.8088 - recall_2: 0.8014\n"
          ]
        }
      ]
    },
    {
      "cell_type": "code",
      "metadata": {
        "colab": {
          "base_uri": "https://localhost:8080/"
        },
        "id": "L8wKDARCn1KI",
        "outputId": "ec776236-4150-45c1-801c-7a36eb459c33"
      },
      "source": [
        "print(f'F1: {2 * p * r/ (p+r)}')"
      ],
      "execution_count": null,
      "outputs": [
        {
          "output_type": "stream",
          "name": "stdout",
          "text": [
            "F1: 0.8050458604580735\n"
          ]
        }
      ]
    }
  ]
}