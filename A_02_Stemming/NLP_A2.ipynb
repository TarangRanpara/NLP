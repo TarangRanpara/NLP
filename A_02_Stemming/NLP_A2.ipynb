{
  "nbformat": 4,
  "nbformat_minor": 0,
  "metadata": {
    "colab": {
      "name": "NLP_A2.ipynb",
      "provenance": [],
      "collapsed_sections": [
        "2gI-PNayFETx",
        "qBudmrwUHbr6",
        "xVnpUJTaHlJY"
      ]
    },
    "kernelspec": {
      "name": "python3",
      "display_name": "Python 3"
    },
    "language_info": {
      "name": "python"
    },
    "accelerator": "GPU"
  },
  "cells": [
    {
      "cell_type": "markdown",
      "metadata": {
        "id": "wfhMlOWRe3YM"
      },
      "source": [
        "# submitted by Tarang Ranpara (202011057)"
      ]
    },
    {
      "cell_type": "code",
      "metadata": {
        "colab": {
          "base_uri": "https://localhost:8080/"
        },
        "id": "y6vWBk343Soe",
        "outputId": "9631f9b2-980f-40c3-ebe7-a9d94be405ae"
      },
      "source": [
        "from google.colab import drive\n",
        "drive.mount('/content/drive')"
      ],
      "execution_count": 1,
      "outputs": [
        {
          "output_type": "stream",
          "text": [
            "Mounted at /content/drive\n"
          ],
          "name": "stdout"
        }
      ]
    },
    {
      "cell_type": "code",
      "metadata": {
        "id": "D2sBVzRq5CLd"
      },
      "source": [
        "! rm -rf pd_index \n",
        "! rm -rf pd2_index \n",
        "! rm -rf pd3_index \n",
        "! rm -rf data"
      ],
      "execution_count": null,
      "outputs": []
    },
    {
      "cell_type": "code",
      "metadata": {
        "colab": {
          "base_uri": "https://localhost:8080/"
        },
        "id": "NTio-onT5MsU",
        "outputId": "f04599b8-95f2-43a3-9a5b-54c8151d2300"
      },
      "source": [
        "!pip install python-terrier"
      ],
      "execution_count": 1,
      "outputs": [
        {
          "output_type": "stream",
          "text": [
            "Requirement already satisfied: python-terrier in /usr/local/lib/python3.7/dist-packages (0.6.0)\n",
            "Requirement already satisfied: tqdm in /usr/local/lib/python3.7/dist-packages (from python-terrier) (4.62.0)\n",
            "Requirement already satisfied: scipy in /usr/local/lib/python3.7/dist-packages (from python-terrier) (1.4.1)\n",
            "Requirement already satisfied: ir-datasets>=0.3.2 in /usr/local/lib/python3.7/dist-packages (from python-terrier) (0.4.2)\n",
            "Requirement already satisfied: nptyping in /usr/local/lib/python3.7/dist-packages (from python-terrier) (1.4.3)\n",
            "Requirement already satisfied: ir-measures>=0.1.4 in /usr/local/lib/python3.7/dist-packages (from python-terrier) (0.1.4)\n",
            "Requirement already satisfied: statsmodels in /usr/local/lib/python3.7/dist-packages (from python-terrier) (0.10.2)\n",
            "Requirement already satisfied: matchpy in /usr/local/lib/python3.7/dist-packages (from python-terrier) (0.5.4)\n",
            "Requirement already satisfied: numpy in /usr/local/lib/python3.7/dist-packages (from python-terrier) (1.19.5)\n",
            "Requirement already satisfied: pandas>=0.25.0 in /usr/local/lib/python3.7/dist-packages (from python-terrier) (1.1.5)\n",
            "Requirement already satisfied: deprecation in /usr/local/lib/python3.7/dist-packages (from python-terrier) (2.1.0)\n",
            "Requirement already satisfied: more-itertools in /usr/local/lib/python3.7/dist-packages (from python-terrier) (8.8.0)\n",
            "Requirement already satisfied: jinja2 in /usr/local/lib/python3.7/dist-packages (from python-terrier) (2.11.3)\n",
            "Requirement already satisfied: chest in /usr/local/lib/python3.7/dist-packages (from python-terrier) (0.2.3)\n",
            "Requirement already satisfied: pyjnius~=1.3.0 in /usr/local/lib/python3.7/dist-packages (from python-terrier) (1.3.0)\n",
            "Requirement already satisfied: sklearn in /usr/local/lib/python3.7/dist-packages (from python-terrier) (0.0)\n",
            "Requirement already satisfied: requests in /usr/local/lib/python3.7/dist-packages (from python-terrier) (2.23.0)\n",
            "Requirement already satisfied: wget in /usr/local/lib/python3.7/dist-packages (from python-terrier) (3.2)\n",
            "Requirement already satisfied: joblib in /usr/local/lib/python3.7/dist-packages (from python-terrier) (1.0.1)\n",
            "Requirement already satisfied: ijson>=3.1.3 in /usr/local/lib/python3.7/dist-packages (from ir-datasets>=0.3.2->python-terrier) (3.1.4)\n",
            "Requirement already satisfied: pyautocorpus>=0.1.1 in /usr/local/lib/python3.7/dist-packages (from ir-datasets>=0.3.2->python-terrier) (0.1.6)\n",
            "Requirement already satisfied: beautifulsoup4>=4.4.1 in /usr/local/lib/python3.7/dist-packages (from ir-datasets>=0.3.2->python-terrier) (4.6.3)\n",
            "Requirement already satisfied: warc3-wet>=0.2.3 in /usr/local/lib/python3.7/dist-packages (from ir-datasets>=0.3.2->python-terrier) (0.2.3)\n",
            "Requirement already satisfied: warc3-wet-clueweb09>=0.2.5 in /usr/local/lib/python3.7/dist-packages (from ir-datasets>=0.3.2->python-terrier) (0.2.5)\n",
            "Requirement already satisfied: pyyaml>=5.3.1 in /usr/local/lib/python3.7/dist-packages (from ir-datasets>=0.3.2->python-terrier) (5.4.1)\n",
            "Requirement already satisfied: lz4>=3.1.1 in /usr/local/lib/python3.7/dist-packages (from ir-datasets>=0.3.2->python-terrier) (3.1.3)\n",
            "Requirement already satisfied: trec-car-tools>=2.5.4 in /usr/local/lib/python3.7/dist-packages (from ir-datasets>=0.3.2->python-terrier) (2.5.4)\n",
            "Requirement already satisfied: zlib-state>=0.1.3 in /usr/local/lib/python3.7/dist-packages (from ir-datasets>=0.3.2->python-terrier) (0.1.3)\n",
            "Requirement already satisfied: lxml>=4.5.2 in /usr/local/lib/python3.7/dist-packages (from ir-datasets>=0.3.2->python-terrier) (4.6.3)\n",
            "Requirement already satisfied: pytrec-eval-terrier==0.5.1 in /usr/local/lib/python3.7/dist-packages (from ir-measures>=0.1.4->python-terrier) (0.5.1)\n",
            "Requirement already satisfied: python-dateutil>=2.7.3 in /usr/local/lib/python3.7/dist-packages (from pandas>=0.25.0->python-terrier) (2.8.2)\n",
            "Requirement already satisfied: pytz>=2017.2 in /usr/local/lib/python3.7/dist-packages (from pandas>=0.25.0->python-terrier) (2018.9)\n",
            "Requirement already satisfied: cython in /usr/local/lib/python3.7/dist-packages (from pyjnius~=1.3.0->python-terrier) (0.29.24)\n",
            "Requirement already satisfied: six>=1.7.0 in /usr/local/lib/python3.7/dist-packages (from pyjnius~=1.3.0->python-terrier) (1.15.0)\n",
            "Requirement already satisfied: idna<3,>=2.5 in /usr/local/lib/python3.7/dist-packages (from requests->python-terrier) (2.10)\n",
            "Requirement already satisfied: chardet<4,>=3.0.2 in /usr/local/lib/python3.7/dist-packages (from requests->python-terrier) (3.0.4)\n",
            "Requirement already satisfied: certifi>=2017.4.17 in /usr/local/lib/python3.7/dist-packages (from requests->python-terrier) (2021.5.30)\n",
            "Requirement already satisfied: urllib3!=1.25.0,!=1.25.1,<1.26,>=1.21.1 in /usr/local/lib/python3.7/dist-packages (from requests->python-terrier) (1.24.3)\n",
            "Requirement already satisfied: cbor>=1.0.0 in /usr/local/lib/python3.7/dist-packages (from trec-car-tools>=2.5.4->ir-datasets>=0.3.2->python-terrier) (1.0.0)\n",
            "Requirement already satisfied: heapdict in /usr/local/lib/python3.7/dist-packages (from chest->python-terrier) (1.0.1)\n",
            "Requirement already satisfied: packaging in /usr/local/lib/python3.7/dist-packages (from deprecation->python-terrier) (21.0)\n",
            "Requirement already satisfied: MarkupSafe>=0.23 in /usr/local/lib/python3.7/dist-packages (from jinja2->python-terrier) (2.0.1)\n",
            "Requirement already satisfied: multiset<3.0,>=2.0 in /usr/local/lib/python3.7/dist-packages (from matchpy->python-terrier) (2.1.1)\n",
            "Requirement already satisfied: typish>=1.7.0 in /usr/local/lib/python3.7/dist-packages (from nptyping->python-terrier) (1.9.3)\n",
            "Requirement already satisfied: pyparsing>=2.0.2 in /usr/local/lib/python3.7/dist-packages (from packaging->deprecation->python-terrier) (2.4.7)\n",
            "Requirement already satisfied: scikit-learn in /usr/local/lib/python3.7/dist-packages (from sklearn->python-terrier) (0.22.2.post1)\n",
            "Requirement already satisfied: patsy>=0.4.0 in /usr/local/lib/python3.7/dist-packages (from statsmodels->python-terrier) (0.5.1)\n"
          ],
          "name": "stdout"
        }
      ]
    },
    {
      "cell_type": "code",
      "metadata": {
        "colab": {
          "base_uri": "https://localhost:8080/"
        },
        "id": "zrSstvCa46bQ",
        "outputId": "a127f709-c6db-435f-c263-fa092e4e480c"
      },
      "source": [
        "import pyterrier as pt\n",
        "if not pt.started():\n",
        "    pt.init()"
      ],
      "execution_count": 2,
      "outputs": [
        {
          "output_type": "stream",
          "text": [
            "PyTerrier 0.6.0 has loaded Terrier 5.5 (built by craigmacdonald on 2021-05-20 13:12)\n"
          ],
          "name": "stdout"
        }
      ]
    },
    {
      "cell_type": "code",
      "metadata": {
        "colab": {
          "base_uri": "https://localhost:8080/"
        },
        "id": "zRiJ-z1t3dJR",
        "outputId": "63f9145d-b720-4d0b-86d7-2fd2d8d4a828"
      },
      "source": [
        "import os\n",
        "import re\n",
        "import pickle\n",
        "import numpy as np\n",
        "from tqdm import tqdm\n",
        "import pandas as pd\n",
        "import nltk\n",
        "from nltk.corpus import brown\n",
        "from nltk.stem import PorterStemmer\n",
        "from bs4 import BeautifulSoup as bs\n",
        "from sklearn.feature_extraction.text import TfidfVectorizer\n",
        "from sklearn.cluster import AgglomerativeClustering\n",
        "import pickle\n",
        "import gensim\n",
        "from gensim.models import Word2Vec\n",
        "from gensim.test.utils import common_texts\n",
        "from sklearn.metrics.pairwise import cosine_similarity\n",
        "import gensim.downloader as api\n",
        "import matplotlib.pyplot as plt\n",
        "\n",
        "# downloading essentials\n",
        "nltk.download('stopwords')\n",
        "nltk.download('wordnet')\n",
        "nltk.download('punkt')\n",
        "nltk.download('averaged_perceptron_tagger')\n",
        "nltk.download('brown')"
      ],
      "execution_count": 3,
      "outputs": [
        {
          "output_type": "stream",
          "text": [
            "[nltk_data] Downloading package stopwords to /root/nltk_data...\n",
            "[nltk_data]   Package stopwords is already up-to-date!\n",
            "[nltk_data] Downloading package wordnet to /root/nltk_data...\n",
            "[nltk_data]   Package wordnet is already up-to-date!\n",
            "[nltk_data] Downloading package punkt to /root/nltk_data...\n",
            "[nltk_data]   Package punkt is already up-to-date!\n",
            "[nltk_data] Downloading package averaged_perceptron_tagger to\n",
            "[nltk_data]     /root/nltk_data...\n",
            "[nltk_data]   Package averaged_perceptron_tagger is already up-to-\n",
            "[nltk_data]       date!\n",
            "[nltk_data] Downloading package brown to /root/nltk_data...\n",
            "[nltk_data]   Package brown is already up-to-date!\n"
          ],
          "name": "stdout"
        },
        {
          "output_type": "execute_result",
          "data": {
            "text/plain": [
              "True"
            ]
          },
          "metadata": {},
          "execution_count": 3
        }
      ]
    },
    {
      "cell_type": "code",
      "metadata": {
        "id": "81ja7rLZ5gDa"
      },
      "source": [
        "class StemmerCorpus:\n",
        "    def __init__(self, word_lst):\n",
        "        self.word_lst = word_lst\n",
        "        self.stop_words = set(nltk.corpus.stopwords.words('english'))\n",
        "        self.processed_words = []\n",
        "\n",
        "    def process(self):\n",
        "        for word in tqdm(self.word_lst):\n",
        "            word = word.lower()\n",
        "            if (word.isalpha()) and (word not in self.stop_words):\n",
        "                self.processed_words.append(word)\n",
        "\n",
        "        self.processed_words = list(set(self.processed_words))\n",
        "\n",
        "    def get_processed_words(self):\n",
        "        if self.processed_words == []:\n",
        "            self.process()\n",
        "\n",
        "        return self.processed_words"
      ],
      "execution_count": 4,
      "outputs": []
    },
    {
      "cell_type": "code",
      "metadata": {
        "id": "7x5Qg_BU8bdp"
      },
      "source": [
        "class DistanceMeasures:\n",
        "    def __init__(self):\n",
        "        self.inf = 9999\n",
        "\n",
        "    def pi(self, s1, s2):\n",
        "        l1 = len(s1)\n",
        "        l2 = len(s2)\n",
        "\n",
        "        min_ind = min(l1, l2)\n",
        "\n",
        "        answer = []\n",
        "        index = None\n",
        "        for i in range(max(l1, l2)):\n",
        "            if i < min_ind and s1[i] == s2[i]:\n",
        "                answer.append(0)\n",
        "            else:\n",
        "                if index == None:\n",
        "                    index = i\n",
        "                answer.append(1)\n",
        "        if sum(answer) == 0:\n",
        "            index = 0\n",
        "\n",
        "        return answer, l1, l2, index, len(answer)\n",
        "    \n",
        "    def d1(self, s1, s2):\n",
        "        answer, l1, l2, m, n = self.pi(s1, s2)\n",
        "        if m == None:\n",
        "            return self.inf\n",
        "        else:\n",
        "            distance = 0\n",
        "            for i in range(m, n):\n",
        "                distance += (1/2**i) * answer[i]\n",
        "\n",
        "            return distance\n",
        "\n",
        "    def d2(self, s1, s2):\n",
        "        answer, l1, l2, m, n = self.pi(s1, s2)\n",
        "        if m == None or m==0 or sum(answer) == 0:\n",
        "            return self.inf\n",
        "        else:\n",
        "            return (1/m) * (1 - (0.5)**(n-m))/(0.5)\n",
        "\n",
        "    def d3(self, s1, s2):\n",
        "        answer, l1, l2, m, n = self.pi(s1, s2)\n",
        "        if m == None or m==0 or sum(answer) == 0:\n",
        "            return self.inf\n",
        "        else:\n",
        "            return (n-m)/(m) * (1 - (0.5)**(n-m))/(0.5)\n",
        "\n",
        "    def d4(self, s1, s2):\n",
        "        answer, l1, l2, m, n = self.pi(s1, s2)\n",
        "        if m == None:\n",
        "            return self.inf\n",
        "        else:\n",
        "            if sum(answer) == 0:\n",
        "                return 0\n",
        "            return (n-m)/(n) * (1 - (0.5)**(n-m))/(0.5)\n",
        "\n",
        "    def memoize(func):\n",
        "        mem = {}\n",
        "        def memoizer(*args, **kwargs):\n",
        "            key = str(args) + str(kwargs)\n",
        "            if key not in mem:\n",
        "                mem[key] = func(*args, **kwargs)\n",
        "            return mem[key]\n",
        "        return memoizer\n",
        "\n",
        "\n",
        "    @memoize    \n",
        "    def levenshtein(self, s, t):\n",
        "        if s == \"\":\n",
        "            return len(t)\n",
        "        if t == \"\":\n",
        "            return len(s)\n",
        "        if s[-1] == t[-1]:\n",
        "            cost = 0\n",
        "        else:\n",
        "            cost = 1\n",
        "\n",
        "        res = min([self.levenshtein(s[:-1], t)+1,\n",
        "                  self.levenshtein(s, t[:-1])+1, \n",
        "                  self.levenshtein(s[:-1], t[:-1]) + cost])\n",
        "\n",
        "        return res"
      ],
      "execution_count": 5,
      "outputs": []
    },
    {
      "cell_type": "code",
      "metadata": {
        "id": "qK6nirLnb0tp"
      },
      "source": [
        "root_dir =  './drive/MyDrive/NLP/A2'\n",
        "\n",
        "def get_np_arr_path(root_dir, distance_measure):\n",
        "        return root_dir + f'/{distance_measure}.npy'\n",
        "\n",
        "def get_clusters_path(root_dir, distance_measure):\n",
        "        return root_dir + f'/{distance_measure}'"
      ],
      "execution_count": 7,
      "outputs": []
    },
    {
      "cell_type": "code",
      "metadata": {
        "id": "TPOkgzB87mSl"
      },
      "source": [
        "def gen_clusters(threshold, mat, dm):\n",
        "    dir = get_clusters_path(root_dir, dm)\n",
        "    print(f'dumping clusters in: {dir}')\n",
        "\n",
        "    for th in tqdm(threshold):\n",
        "      clustering = AgglomerativeClustering(affinity = 'precomputed', linkage='single', distance_threshold = th, compute_full_tree = True, n_clusters = None)\n",
        "      cl_obj = clustering.fit(mat)\n",
        "      path = f'{dir}/{int(th*100)}'\n",
        "      with open(path, 'wb') as file:\n",
        "          pickle.dump(cl_obj, file)"
      ],
      "execution_count": 9,
      "outputs": []
    },
    {
      "cell_type": "code",
      "metadata": {
        "id": "NtfelQrFd_oP"
      },
      "source": [
        "def plot_clusters(dm):\n",
        "    dir_path = get_clusters_path(root_dir, dm)\n",
        "    d_files = os.listdir(dir_path)\n",
        "\n",
        "    labels = []\n",
        "    th = []\n",
        "    for fil in d_files:\n",
        "        th.append(int(fil) / 100)\n",
        "        obj = pickle.load(open(os.path.join(dir_path, fil), 'rb'))\n",
        "        labels.append(np.max(obj.labels_)+1)\n",
        "\n",
        "    plt.plot(th, labels)\n",
        "    plt.show()"
      ],
      "execution_count": 10,
      "outputs": []
    },
    {
      "cell_type": "code",
      "metadata": {
        "id": "TJ5vKFlNt8_R"
      },
      "source": [
        "class YASS_Stemmer:\n",
        "    def __init__(self, data, dm, threshold):\n",
        "        # YASS stemmer by d4 and threshold = 3\n",
        "        self.d_obj = pickle.load(open(os.path.join(get_clusters_path(root_dir, dm), str(threshold)),'rb'))\n",
        "\n",
        "        self.clusters = self.d_obj.labels_\n",
        "        self.cluster_word_dict = dict()\n",
        "        for i in range(len(self.clusters)):\n",
        "            cluster_no = self.clusters[i]\n",
        "\n",
        "            if cluster_no in self.cluster_word_dict:\n",
        "                self.cluster_word_dict[cluster_no].append(data[i])\n",
        "            else:\n",
        "                self.cluster_word_dict[cluster_no] = [data[i]]\n",
        "\n",
        "        self.cluster_root_dict = dict()\n",
        "        for key, val in self.cluster_word_dict.items():\n",
        "            self.cluster_root_dict[key] = min(val, key = len)\n",
        "\n",
        "    def stem(self, word):\n",
        "        for key, value in self.cluster_word_dict.items():\n",
        "            if word in value:\n",
        "                return self.cluster_root_dict[key]\n",
        "\n",
        "        return word"
      ],
      "execution_count": 11,
      "outputs": []
    },
    {
      "cell_type": "code",
      "metadata": {
        "id": "9iOKix1Xyj8l"
      },
      "source": [
        "class PreProcessString:\n",
        "    def __init__(self, \n",
        "                 lower=True, \n",
        "                 remove_nums_special_chars=True, \n",
        "                 stemmer = PorterStemmer(), \n",
        "                 remove_stop_words=True):\n",
        "\n",
        "        self.text = None\n",
        "        self.lower = lower\n",
        "        self.stemmer = stemmer\n",
        "        self.remove_nums_special_chars = remove_nums_special_chars\n",
        "        self.remove_stop_words = remove_stop_words\n",
        "\n",
        "    def setText(self, text):\n",
        "        self.text = text\n",
        "\n",
        "    def preProcess(self):\n",
        "        temp_text_data = self.text \n",
        "\n",
        "        if self.text == None:\n",
        "            raise Exception(\"text can not be None\")\n",
        "\n",
        "        if self.lower:\n",
        "            temp_text_data = temp_text_data.lower()\n",
        "        \n",
        "        if self.remove_nums_special_chars:\n",
        "            temp_text_data = re.sub(r'[^\\w\\s]', '', temp_text_data)\n",
        "            temp_text_data = re.sub(r'\\d+', '', temp_text_data)\n",
        "\n",
        "        tokens = nltk.word_tokenize(temp_text_data)\n",
        "\n",
        "        if self.remove_stop_words:\n",
        "            stopwords = set(nltk.corpus.stopwords.words('english'))\n",
        "            tokens = [token for token in tokens if token not in stopwords]\n",
        "\n",
        "        tokens = list(map(self.stemmer.stem,tokens))\n",
        "\n",
        "        if len(tokens) > 0:\n",
        "            return ' '.join(tokens)\n",
        "        else:\n",
        "            return ''"
      ],
      "execution_count": 12,
      "outputs": []
    },
    {
      "cell_type": "code",
      "metadata": {
        "id": "PV0MelRZzY43"
      },
      "source": [
        "class CorporaReader:\n",
        "    def __init__(self, rootDir, stemmer = PorterStemmer()):\n",
        "        self.rootDir = rootDir\n",
        "        self.preProcessor = PreProcessString(stemmer=stemmer)\n",
        "        self.files, self.fileNames = self.listFiles()\n",
        "\n",
        "    # returns file names with full path and list of file names \n",
        "    def listFiles(self):\n",
        "        print('Indexing all the data files')\n",
        "        listOfFiles = []\n",
        "        listOfFileNames = []\n",
        "        topDirs = os.listdir(self.rootDir)\n",
        "        for topDir in topDirs:\n",
        "            topDir = os.path.join(self.rootDir, topDir)\n",
        "            internalDirs = os.listdir(topDir)\n",
        "            for internalDir in internalDirs:\n",
        "                internalDir = os.path.join(topDir, internalDir)\n",
        "                for fileName in os.listdir(internalDir):\n",
        "                    listOfFiles.append(os.path.join(internalDir, fileName))\n",
        "                    listOfFileNames.append(fileName)\n",
        "\n",
        "        return listOfFiles, listOfFileNames\n",
        "\n",
        "    # returns data in the pyterrier format\n",
        "    def read(self):\n",
        "        fileNames, fileContents = [], []\n",
        "        numFiles = len(self.files)\n",
        "        for i in tqdm(range(numFiles)):\n",
        "            fileName = self.files[i]\n",
        "            with open(fileName,'r') as fobj:\n",
        "                content = fobj.read()\n",
        "\n",
        "            soup = bs(content, \"lxml\")\n",
        "            temp_text_data = soup.find('text').text\n",
        "\n",
        "            self.preProcessor.setText(temp_text_data)\n",
        "            text = self.preProcessor.preProcess()\n",
        "\n",
        "            if text != '':\n",
        "                fileNames.append(self.fileNames[i])\n",
        "                fileContents.append(text)\n",
        "\n",
        "        return pd.DataFrame({'docno': fileNames, 'text': fileContents})"
      ],
      "execution_count": 13,
      "outputs": []
    },
    {
      "cell_type": "code",
      "metadata": {
        "id": "i0rM_foOzhfX"
      },
      "source": [
        "class QrelsReader:\n",
        "    def __init__(self, filePath):\n",
        "        self.filePath = filePath\n",
        "\n",
        "    # returns qrels in the pyterrier format\n",
        "    def read(self):\n",
        "        return pt.io.read_qrels(self.filePath)"
      ],
      "execution_count": 14,
      "outputs": []
    },
    {
      "cell_type": "code",
      "metadata": {
        "id": "4wfWEw3rzj27"
      },
      "source": [
        "class QueryReader:\n",
        "    def __init__(self, file_path, stemmer = PorterStemmer()):\n",
        "        self.file_path = file_path\n",
        "        self.preProcessor = PreProcessString(stemmer=stemmer)\n",
        "\n",
        "    # returns queries in the pyterrier format\n",
        "    def read(self):\n",
        "        with open(self.file_path,'r') as f:\n",
        "            content = f.read()\n",
        "\n",
        "        soup = bs(content, \"lxml\")\n",
        "        qNum = [int(num.text) for num in soup.find_all('num')]\n",
        "        queries = [desc.text for desc in soup.find_all('desc')]\n",
        "\n",
        "        for i in tqdm(range(len(queries))):\n",
        "            self.preProcessor.setText(queries[i])\n",
        "            queries[i] = self.preProcessor.preProcess()\n",
        "        \n",
        "        return pd.DataFrame({'qid':qNum, 'query':queries})"
      ],
      "execution_count": 15,
      "outputs": []
    },
    {
      "cell_type": "code",
      "metadata": {
        "id": "zzNpSg0bzmP5"
      },
      "source": [
        "class IndexUtil:\n",
        "    def __init__(self, \n",
        "                 pt,\n",
        "                 index_loc):\n",
        "        self.pt = pt \n",
        "        self.index_loc = index_loc \n",
        "        self.index_ref = None\n",
        "\n",
        "    # builds the index from given index columns and meta columns \n",
        "    def buildIndex(self, data, index_column, meta_columns):\n",
        "        pd_indexer = pt.DFIndexer(self.index_loc)\n",
        "        meta_data = dict()\n",
        "        for meta_column in meta_columns:\n",
        "            meta_data[meta_column] = data[meta_column]\n",
        "\n",
        "        \n",
        "        self.index_ref = pd_indexer.index(data[index_column], **meta_data)\n",
        "\n",
        "    # returns the evaluation metrics as per given queries & qrels \n",
        "    def evaluate(self, wv_models, topics, qrels, metrics):\n",
        "        batchRetrieval = [self.pt.BatchRetrieve(self.index_ref, wmodel=wv_model) for wv_model in wv_models]\n",
        "        return self.pt.Experiment(\n",
        "          batchRetrieval,\n",
        "          topics,\n",
        "          qrels,\n",
        "          metrics\n",
        "        )"
      ],
      "execution_count": 16,
      "outputs": []
    },
    {
      "cell_type": "markdown",
      "metadata": {
        "id": "2gI-PNayFETx"
      },
      "source": [
        "## Driver code"
      ]
    },
    {
      "cell_type": "code",
      "metadata": {
        "id": "rhSnQNhuwZ-5"
      },
      "source": [
        "! mkdir data\n",
        "! cp 'drive/MyDrive/IRLAB/A3/FIRE_Dataset_EN_2010.rar' './data/FIRE_Dataset_EN_2010.rar' >/dev/null\n",
        "! unrar x data/FIRE_Dataset_EN_2010.rar data >/dev/null\n",
        "! tar -xvf  './data/FIRE_Dataset_EN_2010/English-Data.tgz' -C './data/FIRE_Dataset_EN_2010/' >/dev/null\n",
        "! gzip -d ./data/FIRE_Dataset_EN_2010/en.qrels.76-125.2010.txt.gz >/dev/null"
      ],
      "execution_count": 11,
      "outputs": []
    },
    {
      "cell_type": "code",
      "metadata": {
        "id": "VH5yFi9Rzomy"
      },
      "source": [
        "# defining dataset global vars\n",
        "DATASET_TOPICS = './data/FIRE_Dataset_EN_2010/en.topics.76-125.2010.txt'\n",
        "DATASET_QRELS = './data/FIRE_Dataset_EN_2010/en.qrels.76-125.2010.txt'\n",
        "DATASET_ROOT  = './data/FIRE_Dataset_EN_2010/TELEGRAPH_UTF8/'"
      ],
      "execution_count": 17,
      "outputs": []
    },
    {
      "cell_type": "code",
      "metadata": {
        "colab": {
          "base_uri": "https://localhost:8080/"
        },
        "id": "itfGR0H58L42",
        "outputId": "c624fddb-31ca-4b92-87a0-1c53b364a646"
      },
      "source": [
        "dm = DistanceMeasures()\n",
        "\n",
        "# cross verification of values from paper\n",
        "print(f\"D1: {dm.d1('astronomer', 'astronomically')}\")\n",
        "print(f\"D2: {dm.d2('astronomer', 'astronomically')}\")\n",
        "print(f\"D3: {dm.d3('astronomer', 'astronomically')}\")\n",
        "print(f\"D4: {dm.d4('astronomer', 'astronomically')}\")\n",
        "print(f\"levenshtein: {dm.levenshtein('astronomer', 'astronomically')}\")"
      ],
      "execution_count": 6,
      "outputs": [
        {
          "output_type": "stream",
          "text": [
            "D1: 0.0076904296875\n",
            "D2: 0.24609375\n",
            "D3: 1.4765625\n",
            "D4: 0.84375\n",
            "levenshtein: 6\n"
          ],
          "name": "stdout"
        }
      ]
    },
    {
      "cell_type": "code",
      "metadata": {
        "colab": {
          "base_uri": "https://localhost:8080/"
        },
        "id": "9jZLTNhngp-1",
        "outputId": "a72a3291-9e06-4b5d-ac36-59534331540e"
      },
      "source": [
        "stemmer_corpus = brown.words(categories='news')\n",
        "sc = StemmerCorpus(stemmer_corpus) \n",
        "data = sc.get_processed_words()"
      ],
      "execution_count": 8,
      "outputs": [
        {
          "output_type": "stream",
          "text": [
            "100%|██████████| 100554/100554 [00:00<00:00, 274378.67it/s]\n"
          ],
          "name": "stderr"
        }
      ]
    },
    {
      "cell_type": "markdown",
      "metadata": {
        "id": "oyo2NtMUGK1j"
      },
      "source": [
        "### Generating Distance Matrices"
      ]
    },
    {
      "cell_type": "code",
      "metadata": {
        "id": "OI13ETuMgnEo",
        "colab": {
          "base_uri": "https://localhost:8080/"
        },
        "outputId": "9c42d14f-928e-4847-8b91-c3d7a4ef9535"
      },
      "source": [
        "d1_p = np.zeros((len(data), len(data)))\n",
        " \n",
        "for i in range(len(data)):\n",
        "    for j in range(i+1, len(data)):\n",
        "        temp = dm.d1(data[i], data[j])\n",
        "        d1_p[i,j], d1_p[j, i] = temp, temp\n",
        "\n",
        "with open(get_np_arr_path(root_dir, 'd1'), 'wb') as f:\n",
        "    np.save(f, d1_p)"
      ],
      "execution_count": 1,
      "outputs": [
        {
          "output_type": "stream",
          "text": [
            "\n"
          ],
          "name": "stdout"
        }
      ]
    },
    {
      "cell_type": "code",
      "metadata": {
        "id": "tFWGESA223wX"
      },
      "source": [
        "d2_p = np.zeros((len(data), len(data)))\n",
        " \n",
        "for i in range(len(data)):\n",
        "    for j in range(i+1, len(data)):\n",
        "        temp = dm.d2(data[i], data[j])\n",
        "        d2_p[i,j], d2_p[j, i] = temp, temp\n",
        "\n",
        "with open(get_np_arr_path(root_dir, 'd2'), 'wb') as f:\n",
        "    np.save(f, d2_p)"
      ],
      "execution_count": null,
      "outputs": []
    },
    {
      "cell_type": "code",
      "metadata": {
        "id": "fazmGGU03Iu3"
      },
      "source": [
        "d3_p = np.zeros((len(data), len(data)))\n",
        " \n",
        "for i in range(len(data)):\n",
        "    for j in range(i+1, len(data)):\n",
        "        temp = dm.d3(data[i], data[j])\n",
        "        d3_p[i,j], d3_p[j, i] = temp, temp\n",
        "\n",
        "with open(get_np_arr_path(root_dir, 'd3'), 'wb') as f:\n",
        "    np.save(f, d3_p)"
      ],
      "execution_count": null,
      "outputs": []
    },
    {
      "cell_type": "code",
      "metadata": {
        "id": "Cic7lv403Oth"
      },
      "source": [
        "d4_p = np.zeros((len(data), len(data)))\n",
        " \n",
        "for i in range(len(data)):\n",
        "    for j in range(i+1, len(data)):\n",
        "        temp = dm.d4(data[i], data[j])\n",
        "        d4_p[i,j], d4_p[j, i] = temp, temp\n",
        "\n",
        "with open(get_np_arr_path(root_dir, 'd4'), 'wb') as f:\n",
        "    np.save(f, d4_p)"
      ],
      "execution_count": null,
      "outputs": []
    },
    {
      "cell_type": "code",
      "metadata": {
        "id": "Mqtx0VLg53R9"
      },
      "source": [
        "levenshtein_p = np.zeros((len(data), len(data)))\n",
        " \n",
        "for i in range(len(data)):\n",
        "    for j in range(i+1, len(data)):\n",
        "        temp = dm.d4(data[i], data[j])\n",
        "        levenshtein_p[i,j], levenshtein_p[j, i] = temp, temp\n",
        "\n",
        "with open(get_np_arr_path(root_dir, 'levenshtein'), 'wb') as f:\n",
        "    np.save(f, levenshtein_p)"
      ],
      "execution_count": 10,
      "outputs": []
    },
    {
      "cell_type": "markdown",
      "metadata": {
        "id": "udenXImWGgI_"
      },
      "source": [
        "### Calculating clusters "
      ]
    },
    {
      "cell_type": "code",
      "metadata": {
        "colab": {
          "base_uri": "https://localhost:8080/"
        },
        "id": "RufvloJc81ot",
        "outputId": "e4b4298b-9ea7-4ab7-e510-9d221acef5c8"
      },
      "source": [
        "t1 = [0.05, 0.1, 0.15, 0.20, 0.25, 0.30, 0.35, 0.4, 0.45, 0.5, 0.55, 0.6, 0.65, 0.7, 0.75, 0.8, 0.85, 0.9, 0.95, 1.0]\n",
        "gen_clusters(t1, d1_p, 'd1')"
      ],
      "execution_count": null,
      "outputs": [
        {
          "output_type": "stream",
          "text": [
            "dumping clusters in: ./drive/MyDrive/NLP/A2/d1\n"
          ],
          "name": "stdout"
        },
        {
          "output_type": "stream",
          "text": [
            "100%|██████████| 20/20 [00:44<00:00,  2.22s/it]\n"
          ],
          "name": "stderr"
        }
      ]
    },
    {
      "cell_type": "code",
      "metadata": {
        "colab": {
          "base_uri": "https://localhost:8080/"
        },
        "id": "9ME0KVVy-Ja9",
        "outputId": "6beffb3e-31e5-4971-ae43-5e9753a468d4"
      },
      "source": [
        "t2 = [0.05, 0.1, 0.15, 0.20, 0.25, 0.30, 0.35, 0.4, 0.45, 0.5, 0.55, 0.6, 0.65, 0.7, 0.75, 0.8, 0.85, 0.9, 0.95, 1.0]\n",
        "gen_clusters(t2, d2_p, 'd2')"
      ],
      "execution_count": null,
      "outputs": [
        {
          "output_type": "stream",
          "text": [
            "dumping clusters in: ./drive/MyDrive/NLP/A2/d2\n"
          ],
          "name": "stdout"
        },
        {
          "output_type": "stream",
          "text": [
            "100%|██████████| 20/20 [00:43<00:00,  2.19s/it]\n"
          ],
          "name": "stderr"
        }
      ]
    },
    {
      "cell_type": "code",
      "metadata": {
        "colab": {
          "base_uri": "https://localhost:8080/"
        },
        "id": "LM-N_Ni3_Yd-",
        "outputId": "bdb4e5a7-2f60-44f9-c0a6-1fd89ba88997"
      },
      "source": [
        "t3 = [0.25, 0.50, 0.75, 1, 1.25, 1.5, 1.75, 2, 2.25, 2.5, 2.75, 3]\n",
        "d3_p = np.load(get_np_arr_path(root_dir, 'd3'), mmap_mode = 'r')\n",
        "gen_clusters(t3, d3_p, 'd3')"
      ],
      "execution_count": null,
      "outputs": [
        {
          "output_type": "stream",
          "text": [
            "dumping clusters in: ./drive/MyDrive/NLP/A2/d3\n"
          ],
          "name": "stdout"
        },
        {
          "output_type": "stream",
          "text": [
            "100%|██████████| 12/12 [00:34<00:00,  2.87s/it]\n"
          ],
          "name": "stderr"
        }
      ]
    },
    {
      "cell_type": "code",
      "metadata": {
        "colab": {
          "base_uri": "https://localhost:8080/"
        },
        "id": "ctuzjSv8dHi9",
        "outputId": "8f99fd68-b543-4619-bf6e-6622940460f0"
      },
      "source": [
        "t4 = [0.15, 0.2, 0.25, 0.30, 0.35, 0.40, 0.45, 0.5, 0.55, 0.6, 0.65, 0.7, 0.75, 0.8, 0.85, 0.9, 0.95, 1]\n",
        "d4_p = np.load(get_np_arr_path(root_dir, 'd4'), mmap_mode = 'r')\n",
        "gen_clusters(t4, d4_p, 'd4')"
      ],
      "execution_count": null,
      "outputs": [
        {
          "output_type": "stream",
          "text": [
            "dumping clusters in: ./drive/MyDrive/NLP/A2/d4\n"
          ],
          "name": "stdout"
        },
        {
          "output_type": "stream",
          "text": [
            "100%|██████████| 18/18 [00:46<00:00,  2.56s/it]\n"
          ],
          "name": "stderr"
        }
      ]
    },
    {
      "cell_type": "code",
      "metadata": {
        "colab": {
          "base_uri": "https://localhost:8080/"
        },
        "id": "umLmb9ML8mbe",
        "outputId": "c3a61621-b91c-4131-d623-301cef497088"
      },
      "source": [
        "l = [0.15, 0.2, 0.25, 0.30, 0.35, 0.40, 0.45, 0.5, 0.55, 0.6, 0.65, 0.7, 0.75, 0.8, 0.85, 0.9, 0.95, 1]\n",
        "gen_clusters(l, levenshtein_p, 'levenshtein')"
      ],
      "execution_count": 14,
      "outputs": [
        {
          "output_type": "stream",
          "text": [
            "dumping clusters in: ./drive/MyDrive/NLP/A2/levenshtein\n"
          ],
          "name": "stdout"
        },
        {
          "output_type": "stream",
          "text": [
            "100%|██████████| 18/18 [00:52<00:00,  2.90s/it]\n"
          ],
          "name": "stderr"
        }
      ]
    },
    {
      "cell_type": "markdown",
      "metadata": {
        "id": "zIkK_2CGGmSm"
      },
      "source": [
        "### plotting number of clusters vs threshold"
      ]
    },
    {
      "cell_type": "code",
      "metadata": {
        "colab": {
          "base_uri": "https://localhost:8080/",
          "height": 268
        },
        "id": "d9DqyYlqsBmH",
        "outputId": "d0cc2a24-1355-437f-e33d-55839b6f66da"
      },
      "source": [
        "plot_clusters('d1')"
      ],
      "execution_count": null,
      "outputs": [
        {
          "output_type": "display_data",
          "data": {
            "image/png": "[encoded data removed]",
            "text/plain": [
              "<Figure size 432x288 with 1 Axes>"
            ]
          },
          "metadata": {
            "needs_background": "light"
          }
        }
      ]
    },
    {
      "cell_type": "code",
      "metadata": {
        "colab": {
          "base_uri": "https://localhost:8080/",
          "height": 265
        },
        "id": "dtSZXgWmtr0F",
        "outputId": "7f6a85ef-f035-4d39-db81-5ca308ede6f8"
      },
      "source": [
        "plot_clusters('d2')"
      ],
      "execution_count": null,
      "outputs": [
        {
          "output_type": "display_data",
          "data": {
            "image/png": "[encoded data removed]",
            "text/plain": [
              "<Figure size 432x288 with 1 Axes>"
            ]
          },
          "metadata": {
            "needs_background": "light"
          }
        }
      ]
    },
    {
      "cell_type": "code",
      "metadata": {
        "colab": {
          "base_uri": "https://localhost:8080/",
          "height": 267
        },
        "id": "VdKDEnTMtyJW",
        "outputId": "dae521eb-4403-4eab-90d4-94680ab242e5"
      },
      "source": [
        "plot_clusters('d3')"
      ],
      "execution_count": null,
      "outputs": [
        {
          "output_type": "display_data",
          "data": {
            "image/png": "[encoded data removed]",
            "text/plain": [
              "<Figure size 432x288 with 1 Axes>"
            ]
          },
          "metadata": {
            "needs_background": "light"
          }
        }
      ]
    },
    {
      "cell_type": "code",
      "metadata": {
        "colab": {
          "base_uri": "https://localhost:8080/",
          "height": 265
        },
        "id": "KueLO3L0t4Yq",
        "outputId": "bda79f81-7c3a-4f95-8bd7-83e25621407e"
      },
      "source": [
        "plot_clusters('d4')"
      ],
      "execution_count": null,
      "outputs": [
        {
          "output_type": "display_data",
          "data": {
            "image/png": "[encoded data removed]",
            "text/plain": [
              "<Figure size 432x288 with 1 Axes>"
            ]
          },
          "metadata": {
            "needs_background": "light"
          }
        }
      ]
    },
    {
      "cell_type": "code",
      "metadata": {
        "colab": {
          "base_uri": "https://localhost:8080/",
          "height": 265
        },
        "id": "lfNO4_fa9Pw5",
        "outputId": "2b630312-6724-4917-c30b-37194ac88991"
      },
      "source": [
        "plot_clusters('levenshtein')"
      ],
      "execution_count": 16,
      "outputs": [
        {
          "output_type": "display_data",
          "data": {
            "image/png": "[encoded data removed]",
            "text/plain": [
              "<Figure size 432x288 with 1 Axes>"
            ]
          },
          "metadata": {
            "needs_background": "light"
          }
        }
      ]
    },
    {
      "cell_type": "markdown",
      "metadata": {
        "id": "PGqnWqurG-QR"
      },
      "source": [
        "### Porter Stemmer "
      ]
    },
    {
      "cell_type": "code",
      "metadata": {
        "colab": {
          "base_uri": "https://localhost:8080/",
          "height": 238
        },
        "id": "-e0Hl38Pzr-G",
        "outputId": "747e4ff6-a09e-44ee-e249-74474d08f386"
      },
      "source": [
        "cr = CorporaReader(DATASET_ROOT)\n",
        "corpora = cr.read()\n",
        "corpora.head()"
      ],
      "execution_count": null,
      "outputs": [
        {
          "output_type": "stream",
          "text": [
            "Indexing all the data files\n"
          ],
          "name": "stdout"
        },
        {
          "output_type": "stream",
          "text": [
            "100%|██████████| 125586/125586 [15:06<00:00, 138.51it/s]\n"
          ],
          "name": "stderr"
        },
        {
          "output_type": "execute_result",
          "data": {
            "text/html": [
              "<div>\n",
              "<style scoped>\n",
              "    .dataframe tbody tr th:only-of-type {\n",
              "        vertical-align: middle;\n",
              "    }\n",
              "\n",
              "    .dataframe tbody tr th {\n",
              "        vertical-align: top;\n",
              "    }\n",
              "\n",
              "    .dataframe thead th {\n",
              "        text-align: right;\n",
              "    }\n",
              "</style>\n",
              "<table border=\"1\" class=\"dataframe\">\n",
              "  <thead>\n",
              "    <tr style=\"text-align: right;\">\n",
              "      <th></th>\n",
              "      <th>docno</th>\n",
              "      <th>text</th>\n",
              "    </tr>\n",
              "  </thead>\n",
              "  <tbody>\n",
              "    <tr>\n",
              "      <th>0</th>\n",
              "      <td>1060823_frontpage_story_6645719.utf8</td>\n",
              "      <td>telegraph calcutta frontpag want cream cure te...</td>\n",
              "    </tr>\n",
              "    <tr>\n",
              "      <th>1</th>\n",
              "      <td>1060619_frontpage_story_6371858.utf8</td>\n",
              "      <td>telegraph calcutta frontpag indian busi invas ...</td>\n",
              "    </tr>\n",
              "    <tr>\n",
              "      <th>2</th>\n",
              "      <td>1060129_frontpage_story_5777824.utf8</td>\n",
              "      <td>telegraph calcutta frontpag bryan adam u time ...</td>\n",
              "    </tr>\n",
              "    <tr>\n",
              "      <th>3</th>\n",
              "      <td>1061130_frontpage_index.utf8</td>\n",
              "      <td>telegraph calcutta frontpag shibu soren case m...</td>\n",
              "    </tr>\n",
              "    <tr>\n",
              "      <th>4</th>\n",
              "      <td>1061119_frontpage_story_7022387.utf8</td>\n",
              "      <td>telegraph calcutta frontpag student dead assam...</td>\n",
              "    </tr>\n",
              "  </tbody>\n",
              "</table>\n",
              "</div>"
            ],
            "text/plain": [
              "                                  docno                                               text\n",
              "0  1060823_frontpage_story_6645719.utf8  telegraph calcutta frontpag want cream cure te...\n",
              "1  1060619_frontpage_story_6371858.utf8  telegraph calcutta frontpag indian busi invas ...\n",
              "2  1060129_frontpage_story_5777824.utf8  telegraph calcutta frontpag bryan adam u time ...\n",
              "3          1061130_frontpage_index.utf8  telegraph calcutta frontpag shibu soren case m...\n",
              "4  1061119_frontpage_story_7022387.utf8  telegraph calcutta frontpag student dead assam..."
            ]
          },
          "metadata": {},
          "execution_count": 60
        }
      ]
    },
    {
      "cell_type": "code",
      "metadata": {
        "colab": {
          "base_uri": "https://localhost:8080/",
          "height": 204
        },
        "id": "M_Akryq0zuQd",
        "outputId": "fa4c9378-7b93-4dd0-86ba-38bb0cb33d47"
      },
      "source": [
        "qr = QrelsReader(DATASET_QRELS)\n",
        "qrels = qr.read()\n",
        "qrels.head()"
      ],
      "execution_count": null,
      "outputs": [
        {
          "output_type": "execute_result",
          "data": {
            "text/html": [
              "<div>\n",
              "<style scoped>\n",
              "    .dataframe tbody tr th:only-of-type {\n",
              "        vertical-align: middle;\n",
              "    }\n",
              "\n",
              "    .dataframe tbody tr th {\n",
              "        vertical-align: top;\n",
              "    }\n",
              "\n",
              "    .dataframe thead th {\n",
              "        text-align: right;\n",
              "    }\n",
              "</style>\n",
              "<table border=\"1\" class=\"dataframe\">\n",
              "  <thead>\n",
              "    <tr style=\"text-align: right;\">\n",
              "      <th></th>\n",
              "      <th>qid</th>\n",
              "      <th>docno</th>\n",
              "      <th>label</th>\n",
              "    </tr>\n",
              "  </thead>\n",
              "  <tbody>\n",
              "    <tr>\n",
              "      <th>0</th>\n",
              "      <td>76</td>\n",
              "      <td>1040901_nation_story_3702283.utf8</td>\n",
              "      <td>0</td>\n",
              "    </tr>\n",
              "    <tr>\n",
              "      <th>1</th>\n",
              "      <td>76</td>\n",
              "      <td>1040901_opinion_story_3675790.utf8</td>\n",
              "      <td>0</td>\n",
              "    </tr>\n",
              "    <tr>\n",
              "      <th>2</th>\n",
              "      <td>76</td>\n",
              "      <td>1040902_nation_story_3707291.utf8</td>\n",
              "      <td>0</td>\n",
              "    </tr>\n",
              "    <tr>\n",
              "      <th>3</th>\n",
              "      <td>76</td>\n",
              "      <td>1040904_opinion_story_3713095.utf8</td>\n",
              "      <td>0</td>\n",
              "    </tr>\n",
              "    <tr>\n",
              "      <th>4</th>\n",
              "      <td>76</td>\n",
              "      <td>1040908_calcutta_story_3729202.utf8</td>\n",
              "      <td>0</td>\n",
              "    </tr>\n",
              "  </tbody>\n",
              "</table>\n",
              "</div>"
            ],
            "text/plain": [
              "  qid                                docno  label\n",
              "0  76    1040901_nation_story_3702283.utf8      0\n",
              "1  76   1040901_opinion_story_3675790.utf8      0\n",
              "2  76    1040902_nation_story_3707291.utf8      0\n",
              "3  76   1040904_opinion_story_3713095.utf8      0\n",
              "4  76  1040908_calcutta_story_3729202.utf8      0"
            ]
          },
          "metadata": {},
          "execution_count": 61
        }
      ]
    },
    {
      "cell_type": "code",
      "metadata": {
        "colab": {
          "base_uri": "https://localhost:8080/",
          "height": 221
        },
        "id": "JG_frQNR5-P0",
        "outputId": "e1372e34-baa7-4238-92a6-d3ec907f8e94"
      },
      "source": [
        "q = QueryReader(DATASET_TOPICS)\n",
        "topics = q.read()\n",
        "topics.head()"
      ],
      "execution_count": null,
      "outputs": [
        {
          "output_type": "stream",
          "text": [
            "100%|██████████| 50/50 [00:00<00:00, 1871.27it/s]\n"
          ],
          "name": "stderr"
        },
        {
          "output_type": "execute_result",
          "data": {
            "text/html": [
              "<div>\n",
              "<style scoped>\n",
              "    .dataframe tbody tr th:only-of-type {\n",
              "        vertical-align: middle;\n",
              "    }\n",
              "\n",
              "    .dataframe tbody tr th {\n",
              "        vertical-align: top;\n",
              "    }\n",
              "\n",
              "    .dataframe thead th {\n",
              "        text-align: right;\n",
              "    }\n",
              "</style>\n",
              "<table border=\"1\" class=\"dataframe\">\n",
              "  <thead>\n",
              "    <tr style=\"text-align: right;\">\n",
              "      <th></th>\n",
              "      <th>qid</th>\n",
              "      <th>query</th>\n",
              "    </tr>\n",
              "  </thead>\n",
              "  <tbody>\n",
              "    <tr>\n",
              "      <th>0</th>\n",
              "      <td>76</td>\n",
              "      <td>reason behind protest meena leader inclus gurj...</td>\n",
              "    </tr>\n",
              "    <tr>\n",
              "      <th>1</th>\n",
              "      <td>77</td>\n",
              "      <td>attack hezbollah guerrilla indian isra forc</td>\n",
              "    </tr>\n",
              "    <tr>\n",
              "      <th>2</th>\n",
              "      <td>78</td>\n",
              "      <td>conflict ashok singhal presid vishwa hindu par...</td>\n",
              "    </tr>\n",
              "    <tr>\n",
              "      <th>3</th>\n",
              "      <td>79</td>\n",
              "      <td>plan build road china mount everest</td>\n",
              "    </tr>\n",
              "    <tr>\n",
              "      <th>4</th>\n",
              "      <td>80</td>\n",
              "      <td>initi legal proceed advani involv demolit babr...</td>\n",
              "    </tr>\n",
              "  </tbody>\n",
              "</table>\n",
              "</div>"
            ],
            "text/plain": [
              "   qid                                              query\n",
              "0   76  reason behind protest meena leader inclus gurj...\n",
              "1   77        attack hezbollah guerrilla indian isra forc\n",
              "2   78  conflict ashok singhal presid vishwa hindu par...\n",
              "3   79                plan build road china mount everest\n",
              "4   80  initi legal proceed advani involv demolit babr..."
            ]
          },
          "metadata": {},
          "execution_count": 62
        }
      ]
    },
    {
      "cell_type": "code",
      "metadata": {
        "id": "PYhYd8gW6EZ3"
      },
      "source": [
        "index = IndexUtil(pt, \"./pd_index\")"
      ],
      "execution_count": null,
      "outputs": []
    },
    {
      "cell_type": "code",
      "metadata": {
        "id": "Paoyr7876HYs"
      },
      "source": [
        "index.buildIndex(\n",
        "    corpora, \n",
        "    'text', \n",
        "    ['docno']\n",
        ")"
      ],
      "execution_count": null,
      "outputs": []
    },
    {
      "cell_type": "code",
      "metadata": {
        "colab": {
          "base_uri": "https://localhost:8080/",
          "height": 97
        },
        "id": "cfB5tUYr6KLT",
        "outputId": "a1ed6f59-1e7b-457b-a05a-972737be618e"
      },
      "source": [
        "print('Porter Stemmer results: ')\n",
        "index.evaluate(\n",
        "    ['TF_IDF'], \n",
        "    topics, \n",
        "    qrels, \n",
        "    ['map']\n",
        ")"
      ],
      "execution_count": null,
      "outputs": [
        {
          "output_type": "stream",
          "text": [
            "Porter Stemmer results: \n"
          ],
          "name": "stdout"
        },
        {
          "output_type": "execute_result",
          "data": {
            "text/html": [
              "<div>\n",
              "<style scoped>\n",
              "    .dataframe tbody tr th:only-of-type {\n",
              "        vertical-align: middle;\n",
              "    }\n",
              "\n",
              "    .dataframe tbody tr th {\n",
              "        vertical-align: top;\n",
              "    }\n",
              "\n",
              "    .dataframe thead th {\n",
              "        text-align: right;\n",
              "    }\n",
              "</style>\n",
              "<table border=\"1\" class=\"dataframe\">\n",
              "  <thead>\n",
              "    <tr style=\"text-align: right;\">\n",
              "      <th></th>\n",
              "      <th>name</th>\n",
              "      <th>map</th>\n",
              "    </tr>\n",
              "  </thead>\n",
              "  <tbody>\n",
              "    <tr>\n",
              "      <th>0</th>\n",
              "      <td>BR(TF_IDF)</td>\n",
              "      <td>0.441776</td>\n",
              "    </tr>\n",
              "  </tbody>\n",
              "</table>\n",
              "</div>"
            ],
            "text/plain": [
              "         name       map\n",
              "0  BR(TF_IDF)  0.441776"
            ]
          },
          "metadata": {},
          "execution_count": 65
        }
      ]
    },
    {
      "cell_type": "markdown",
      "metadata": {
        "id": "eLxLK-plHE5E"
      },
      "source": [
        "### YASS - d1 distance Measure"
      ]
    },
    {
      "cell_type": "code",
      "metadata": {
        "colab": {
          "base_uri": "https://localhost:8080/",
          "height": 238
        },
        "id": "vvAl9WGG7mBk",
        "outputId": "8260982a-f6b9-4c4c-c87c-368e18a9df79"
      },
      "source": [
        "cr = CorporaReader(DATASET_ROOT, stemmer=YASS_Stemmer(data, 'd1', 55))\n",
        "corpora = cr.read()\n",
        "corpora.head()"
      ],
      "execution_count": null,
      "outputs": [
        {
          "output_type": "stream",
          "text": [
            "Indexing all the data files\n"
          ],
          "name": "stdout"
        },
        {
          "output_type": "stream",
          "text": [
            "100%|██████████| 125586/125586 [1:24:10<00:00, 24.87it/s]\n"
          ],
          "name": "stderr"
        },
        {
          "output_type": "execute_result",
          "data": {
            "text/html": [
              "<div>\n",
              "<style scoped>\n",
              "    .dataframe tbody tr th:only-of-type {\n",
              "        vertical-align: middle;\n",
              "    }\n",
              "\n",
              "    .dataframe tbody tr th {\n",
              "        vertical-align: top;\n",
              "    }\n",
              "\n",
              "    .dataframe thead th {\n",
              "        text-align: right;\n",
              "    }\n",
              "</style>\n",
              "<table border=\"1\" class=\"dataframe\">\n",
              "  <thead>\n",
              "    <tr style=\"text-align: right;\">\n",
              "      <th></th>\n",
              "      <th>docno</th>\n",
              "      <th>text</th>\n",
              "    </tr>\n",
              "  </thead>\n",
              "  <tbody>\n",
              "    <tr>\n",
              "      <th>0</th>\n",
              "      <td>1060823_frontpage_story_6645719.utf8</td>\n",
              "      <td>telegraph calcutta frontpage f de cure nw rabi...</td>\n",
              "    </tr>\n",
              "    <tr>\n",
              "      <th>1</th>\n",
              "      <td>1060619_frontpage_story_6371858.utf8</td>\n",
              "      <td>telegraph calcutta frontpage sw r sw bay l ku ...</td>\n",
              "    </tr>\n",
              "    <tr>\n",
              "      <th>2</th>\n",
              "      <td>1060129_frontpage_story_5777824.utf8</td>\n",
              "      <td>telegraph calcutta frontpage oil nw u r l gigg...</td>\n",
              "    </tr>\n",
              "    <tr>\n",
              "      <th>3</th>\n",
              "      <td>1061130_frontpage_index.utf8</td>\n",
              "      <td>telegraph calcutta frontpage shibu soren sw sw...</td>\n",
              "    </tr>\n",
              "    <tr>\n",
              "      <th>4</th>\n",
              "      <td>1061119_frontpage_story_7022387.utf8</td>\n",
              "      <td>telegraph calcutta frontpage met cd assam sw r...</td>\n",
              "    </tr>\n",
              "  </tbody>\n",
              "</table>\n",
              "</div>"
            ],
            "text/plain": [
              "                                  docno                                               text\n",
              "0  1060823_frontpage_story_6645719.utf8  telegraph calcutta frontpage f de cure nw rabi...\n",
              "1  1060619_frontpage_story_6371858.utf8  telegraph calcutta frontpage sw r sw bay l ku ...\n",
              "2  1060129_frontpage_story_5777824.utf8  telegraph calcutta frontpage oil nw u r l gigg...\n",
              "3          1061130_frontpage_index.utf8  telegraph calcutta frontpage shibu soren sw sw...\n",
              "4  1061119_frontpage_story_7022387.utf8  telegraph calcutta frontpage met cd assam sw r..."
            ]
          },
          "metadata": {},
          "execution_count": 70
        }
      ]
    },
    {
      "cell_type": "code",
      "metadata": {
        "colab": {
          "base_uri": "https://localhost:8080/",
          "height": 204
        },
        "id": "VTD_Cye-9LiU",
        "outputId": "d440b18e-0cd4-48bc-eab2-f7ce0c90b01d"
      },
      "source": [
        "qr = QrelsReader(DATASET_QRELS)\n",
        "qrels = qr.read()\n",
        "qrels.head()"
      ],
      "execution_count": null,
      "outputs": [
        {
          "output_type": "execute_result",
          "data": {
            "text/html": [
              "<div>\n",
              "<style scoped>\n",
              "    .dataframe tbody tr th:only-of-type {\n",
              "        vertical-align: middle;\n",
              "    }\n",
              "\n",
              "    .dataframe tbody tr th {\n",
              "        vertical-align: top;\n",
              "    }\n",
              "\n",
              "    .dataframe thead th {\n",
              "        text-align: right;\n",
              "    }\n",
              "</style>\n",
              "<table border=\"1\" class=\"dataframe\">\n",
              "  <thead>\n",
              "    <tr style=\"text-align: right;\">\n",
              "      <th></th>\n",
              "      <th>qid</th>\n",
              "      <th>docno</th>\n",
              "      <th>label</th>\n",
              "    </tr>\n",
              "  </thead>\n",
              "  <tbody>\n",
              "    <tr>\n",
              "      <th>0</th>\n",
              "      <td>76</td>\n",
              "      <td>1040901_nation_story_3702283.utf8</td>\n",
              "      <td>0</td>\n",
              "    </tr>\n",
              "    <tr>\n",
              "      <th>1</th>\n",
              "      <td>76</td>\n",
              "      <td>1040901_opinion_story_3675790.utf8</td>\n",
              "      <td>0</td>\n",
              "    </tr>\n",
              "    <tr>\n",
              "      <th>2</th>\n",
              "      <td>76</td>\n",
              "      <td>1040902_nation_story_3707291.utf8</td>\n",
              "      <td>0</td>\n",
              "    </tr>\n",
              "    <tr>\n",
              "      <th>3</th>\n",
              "      <td>76</td>\n",
              "      <td>1040904_opinion_story_3713095.utf8</td>\n",
              "      <td>0</td>\n",
              "    </tr>\n",
              "    <tr>\n",
              "      <th>4</th>\n",
              "      <td>76</td>\n",
              "      <td>1040908_calcutta_story_3729202.utf8</td>\n",
              "      <td>0</td>\n",
              "    </tr>\n",
              "  </tbody>\n",
              "</table>\n",
              "</div>"
            ],
            "text/plain": [
              "  qid                                docno  label\n",
              "0  76    1040901_nation_story_3702283.utf8      0\n",
              "1  76   1040901_opinion_story_3675790.utf8      0\n",
              "2  76    1040902_nation_story_3707291.utf8      0\n",
              "3  76   1040904_opinion_story_3713095.utf8      0\n",
              "4  76  1040908_calcutta_story_3729202.utf8      0"
            ]
          },
          "metadata": {},
          "execution_count": 75
        }
      ]
    },
    {
      "cell_type": "code",
      "metadata": {
        "colab": {
          "base_uri": "https://localhost:8080/",
          "height": 221
        },
        "id": "bhwSUFRg9Qal",
        "outputId": "a970ddb3-154d-4943-8bff-85d205e20df9"
      },
      "source": [
        "q = QueryReader(DATASET_TOPICS)\n",
        "topics = q.read()\n",
        "topics.head()"
      ],
      "execution_count": null,
      "outputs": [
        {
          "output_type": "stream",
          "text": [
            "100%|██████████| 50/50 [00:00<00:00, 1779.52it/s]\n"
          ],
          "name": "stderr"
        },
        {
          "output_type": "execute_result",
          "data": {
            "text/html": [
              "<div>\n",
              "<style scoped>\n",
              "    .dataframe tbody tr th:only-of-type {\n",
              "        vertical-align: middle;\n",
              "    }\n",
              "\n",
              "    .dataframe tbody tr th {\n",
              "        vertical-align: top;\n",
              "    }\n",
              "\n",
              "    .dataframe thead th {\n",
              "        text-align: right;\n",
              "    }\n",
              "</style>\n",
              "<table border=\"1\" class=\"dataframe\">\n",
              "  <thead>\n",
              "    <tr style=\"text-align: right;\">\n",
              "      <th></th>\n",
              "      <th>qid</th>\n",
              "      <th>query</th>\n",
              "    </tr>\n",
              "  </thead>\n",
              "  <tbody>\n",
              "    <tr>\n",
              "      <th>0</th>\n",
              "      <td>76</td>\n",
              "      <td>reason behind protest meena leader inclus gurj...</td>\n",
              "    </tr>\n",
              "    <tr>\n",
              "      <th>1</th>\n",
              "      <td>77</td>\n",
              "      <td>attack hezbollah guerrilla indian isra forc</td>\n",
              "    </tr>\n",
              "    <tr>\n",
              "      <th>2</th>\n",
              "      <td>78</td>\n",
              "      <td>conflict ashok singhal presid vishwa hindu par...</td>\n",
              "    </tr>\n",
              "    <tr>\n",
              "      <th>3</th>\n",
              "      <td>79</td>\n",
              "      <td>plan build road china mount everest</td>\n",
              "    </tr>\n",
              "    <tr>\n",
              "      <th>4</th>\n",
              "      <td>80</td>\n",
              "      <td>initi legal proceed advani involv demolit babr...</td>\n",
              "    </tr>\n",
              "  </tbody>\n",
              "</table>\n",
              "</div>"
            ],
            "text/plain": [
              "   qid                                              query\n",
              "0   76  reason behind protest meena leader inclus gurj...\n",
              "1   77        attack hezbollah guerrilla indian isra forc\n",
              "2   78  conflict ashok singhal presid vishwa hindu par...\n",
              "3   79                plan build road china mount everest\n",
              "4   80  initi legal proceed advani involv demolit babr..."
            ]
          },
          "metadata": {},
          "execution_count": 76
        }
      ]
    },
    {
      "cell_type": "code",
      "metadata": {
        "id": "JjAURRD49Sya"
      },
      "source": [
        "index = IndexUtil(pt, \"./pd2_index\")"
      ],
      "execution_count": null,
      "outputs": []
    },
    {
      "cell_type": "code",
      "metadata": {
        "id": "Xwtygq1R9VUp"
      },
      "source": [
        "index.buildIndex(\n",
        "    corpora, \n",
        "    'text', \n",
        "    ['docno']\n",
        ")"
      ],
      "execution_count": null,
      "outputs": []
    },
    {
      "cell_type": "code",
      "metadata": {
        "colab": {
          "base_uri": "https://localhost:8080/",
          "height": 97
        },
        "id": "8kTD6G8w9XcH",
        "outputId": "973e4452-a923-47a2-9e52-3fbd7dda8e80"
      },
      "source": [
        "print('yass - d1 distance: ')\n",
        "index.evaluate(\n",
        "    ['TF_IDF'], \n",
        "    topics, \n",
        "    qrels, \n",
        "    ['map']\n",
        ")"
      ],
      "execution_count": null,
      "outputs": [
        {
          "output_type": "stream",
          "text": [
            "yass - d1 distance: \n"
          ],
          "name": "stdout"
        },
        {
          "output_type": "execute_result",
          "data": {
            "text/html": [
              "<div>\n",
              "<style scoped>\n",
              "    .dataframe tbody tr th:only-of-type {\n",
              "        vertical-align: middle;\n",
              "    }\n",
              "\n",
              "    .dataframe tbody tr th {\n",
              "        vertical-align: top;\n",
              "    }\n",
              "\n",
              "    .dataframe thead th {\n",
              "        text-align: right;\n",
              "    }\n",
              "</style>\n",
              "<table border=\"1\" class=\"dataframe\">\n",
              "  <thead>\n",
              "    <tr style=\"text-align: right;\">\n",
              "      <th></th>\n",
              "      <th>name</th>\n",
              "      <th>map</th>\n",
              "    </tr>\n",
              "  </thead>\n",
              "  <tbody>\n",
              "    <tr>\n",
              "      <th>0</th>\n",
              "      <td>BR(TF_IDF)</td>\n",
              "      <td>0.326328</td>\n",
              "    </tr>\n",
              "  </tbody>\n",
              "</table>\n",
              "</div>"
            ],
            "text/plain": [
              "         name       map\n",
              "0  BR(TF_IDF)  0.326328"
            ]
          },
          "metadata": {},
          "execution_count": 80
        }
      ]
    },
    {
      "cell_type": "markdown",
      "metadata": {
        "id": "EeT6nCZhHMnE"
      },
      "source": [
        "### YASS - d2 distance Measure"
      ]
    },
    {
      "cell_type": "code",
      "metadata": {
        "colab": {
          "base_uri": "https://localhost:8080/",
          "height": 238
        },
        "id": "YCacJ2_z9iK3",
        "outputId": "06f77e89-4a9e-43c7-8ab5-64b705c98a98"
      },
      "source": [
        "cr = CorporaReader(DATASET_ROOT, stemmer=YASS_Stemmer(data, 'd2', 100))\n",
        "corpora = cr.read()\n",
        "corpora.head()"
      ],
      "execution_count": null,
      "outputs": [
        {
          "output_type": "stream",
          "text": [
            "Indexing all the data files\n"
          ],
          "name": "stdout"
        },
        {
          "output_type": "stream",
          "text": [
            "100%|██████████| 125586/125586 [1:28:13<00:00, 23.73it/s]\n"
          ],
          "name": "stderr"
        },
        {
          "output_type": "execute_result",
          "data": {
            "text/html": [
              "<div>\n",
              "<style scoped>\n",
              "    .dataframe tbody tr th:only-of-type {\n",
              "        vertical-align: middle;\n",
              "    }\n",
              "\n",
              "    .dataframe tbody tr th {\n",
              "        vertical-align: top;\n",
              "    }\n",
              "\n",
              "    .dataframe thead th {\n",
              "        text-align: right;\n",
              "    }\n",
              "</style>\n",
              "<table border=\"1\" class=\"dataframe\">\n",
              "  <thead>\n",
              "    <tr style=\"text-align: right;\">\n",
              "      <th></th>\n",
              "      <th>docno</th>\n",
              "      <th>text</th>\n",
              "    </tr>\n",
              "  </thead>\n",
              "  <tbody>\n",
              "    <tr>\n",
              "      <th>0</th>\n",
              "      <td>1060823_frontpage_story_6645719.utf8</td>\n",
              "      <td>telegraph calcutta frontpage dud pal cure mac ...</td>\n",
              "    </tr>\n",
              "    <tr>\n",
              "      <th>1</th>\n",
              "      <td>1060619_frontpage_story_6371858.utf8</td>\n",
              "      <td>telegraph calcutta frontpage bow ye may bay l ...</td>\n",
              "    </tr>\n",
              "    <tr>\n",
              "      <th>2</th>\n",
              "      <td>1060129_frontpage_story_5777824.utf8</td>\n",
              "      <td>telegraph calcutta frontpage oil nw u nut go g...</td>\n",
              "    </tr>\n",
              "    <tr>\n",
              "      <th>3</th>\n",
              "      <td>1061130_frontpage_index.utf8</td>\n",
              "      <td>telegraph calcutta frontpage shibu soren bow m...</td>\n",
              "    </tr>\n",
              "    <tr>\n",
              "      <th>4</th>\n",
              "      <td>1061119_frontpage_story_7022387.utf8</td>\n",
              "      <td>telegraph calcutta frontpage buy cd assam may ...</td>\n",
              "    </tr>\n",
              "  </tbody>\n",
              "</table>\n",
              "</div>"
            ],
            "text/plain": [
              "                                  docno                                               text\n",
              "0  1060823_frontpage_story_6645719.utf8  telegraph calcutta frontpage dud pal cure mac ...\n",
              "1  1060619_frontpage_story_6371858.utf8  telegraph calcutta frontpage bow ye may bay l ...\n",
              "2  1060129_frontpage_story_5777824.utf8  telegraph calcutta frontpage oil nw u nut go g...\n",
              "3          1061130_frontpage_index.utf8  telegraph calcutta frontpage shibu soren bow m...\n",
              "4  1061119_frontpage_story_7022387.utf8  telegraph calcutta frontpage buy cd assam may ..."
            ]
          },
          "metadata": {},
          "execution_count": 82
        }
      ]
    },
    {
      "cell_type": "code",
      "metadata": {
        "colab": {
          "base_uri": "https://localhost:8080/",
          "height": 204
        },
        "id": "TnNelQoQSdOQ",
        "outputId": "d5265043-3221-46ee-861f-8d861ef3bd61"
      },
      "source": [
        "qr = QrelsReader(DATASET_QRELS)\n",
        "qrels = qr.read()\n",
        "qrels.head()"
      ],
      "execution_count": null,
      "outputs": [
        {
          "output_type": "execute_result",
          "data": {
            "text/html": [
              "<div>\n",
              "<style scoped>\n",
              "    .dataframe tbody tr th:only-of-type {\n",
              "        vertical-align: middle;\n",
              "    }\n",
              "\n",
              "    .dataframe tbody tr th {\n",
              "        vertical-align: top;\n",
              "    }\n",
              "\n",
              "    .dataframe thead th {\n",
              "        text-align: right;\n",
              "    }\n",
              "</style>\n",
              "<table border=\"1\" class=\"dataframe\">\n",
              "  <thead>\n",
              "    <tr style=\"text-align: right;\">\n",
              "      <th></th>\n",
              "      <th>qid</th>\n",
              "      <th>docno</th>\n",
              "      <th>label</th>\n",
              "    </tr>\n",
              "  </thead>\n",
              "  <tbody>\n",
              "    <tr>\n",
              "      <th>0</th>\n",
              "      <td>76</td>\n",
              "      <td>1040901_nation_story_3702283.utf8</td>\n",
              "      <td>0</td>\n",
              "    </tr>\n",
              "    <tr>\n",
              "      <th>1</th>\n",
              "      <td>76</td>\n",
              "      <td>1040901_opinion_story_3675790.utf8</td>\n",
              "      <td>0</td>\n",
              "    </tr>\n",
              "    <tr>\n",
              "      <th>2</th>\n",
              "      <td>76</td>\n",
              "      <td>1040902_nation_story_3707291.utf8</td>\n",
              "      <td>0</td>\n",
              "    </tr>\n",
              "    <tr>\n",
              "      <th>3</th>\n",
              "      <td>76</td>\n",
              "      <td>1040904_opinion_story_3713095.utf8</td>\n",
              "      <td>0</td>\n",
              "    </tr>\n",
              "    <tr>\n",
              "      <th>4</th>\n",
              "      <td>76</td>\n",
              "      <td>1040908_calcutta_story_3729202.utf8</td>\n",
              "      <td>0</td>\n",
              "    </tr>\n",
              "  </tbody>\n",
              "</table>\n",
              "</div>"
            ],
            "text/plain": [
              "  qid                                docno  label\n",
              "0  76    1040901_nation_story_3702283.utf8      0\n",
              "1  76   1040901_opinion_story_3675790.utf8      0\n",
              "2  76    1040902_nation_story_3707291.utf8      0\n",
              "3  76   1040904_opinion_story_3713095.utf8      0\n",
              "4  76  1040908_calcutta_story_3729202.utf8      0"
            ]
          },
          "metadata": {},
          "execution_count": 84
        }
      ]
    },
    {
      "cell_type": "code",
      "metadata": {
        "colab": {
          "base_uri": "https://localhost:8080/",
          "height": 221
        },
        "id": "vzxqK9UoSjuf",
        "outputId": "98341fbf-6454-4184-a76b-ffd2d5c5f366"
      },
      "source": [
        "q = QueryReader(DATASET_TOPICS, stemmer=YASS_Stemmer(data, 'd2', 100))\n",
        "topics = q.read()\n",
        "topics.head()"
      ],
      "execution_count": null,
      "outputs": [
        {
          "output_type": "stream",
          "text": [
            "100%|██████████| 50/50 [00:00<00:00, 464.75it/s]\n"
          ],
          "name": "stderr"
        },
        {
          "output_type": "execute_result",
          "data": {
            "text/html": [
              "<div>\n",
              "<style scoped>\n",
              "    .dataframe tbody tr th:only-of-type {\n",
              "        vertical-align: middle;\n",
              "    }\n",
              "\n",
              "    .dataframe tbody tr th {\n",
              "        vertical-align: top;\n",
              "    }\n",
              "\n",
              "    .dataframe thead th {\n",
              "        text-align: right;\n",
              "    }\n",
              "</style>\n",
              "<table border=\"1\" class=\"dataframe\">\n",
              "  <thead>\n",
              "    <tr style=\"text-align: right;\">\n",
              "      <th></th>\n",
              "      <th>qid</th>\n",
              "      <th>query</th>\n",
              "    </tr>\n",
              "  </thead>\n",
              "  <tbody>\n",
              "    <tr>\n",
              "      <th>0</th>\n",
              "      <td>76</td>\n",
              "      <td>oil da rex meena ah inclusion gurjars ed dud</td>\n",
              "    </tr>\n",
              "    <tr>\n",
              "      <th>1</th>\n",
              "      <td>77</td>\n",
              "      <td>icy hezbollah guerrillas bow israeli ye</td>\n",
              "    </tr>\n",
              "    <tr>\n",
              "      <th>2</th>\n",
              "      <td>78</td>\n",
              "      <td>roof ashok singhal lou vishwa hindu parishad l...</td>\n",
              "    </tr>\n",
              "    <tr>\n",
              "      <th>3</th>\n",
              "      <td>79</td>\n",
              "      <td>tv fil cry en mount everest</td>\n",
              "    </tr>\n",
              "    <tr>\n",
              "      <th>4</th>\n",
              "      <td>80</td>\n",
              "      <td>initiation cry ap advani involvement demolitio...</td>\n",
              "    </tr>\n",
              "  </tbody>\n",
              "</table>\n",
              "</div>"
            ],
            "text/plain": [
              "   qid                                              query\n",
              "0   76       oil da rex meena ah inclusion gurjars ed dud\n",
              "1   77            icy hezbollah guerrillas bow israeli ye\n",
              "2   78  roof ashok singhal lou vishwa hindu parishad l...\n",
              "3   79                        tv fil cry en mount everest\n",
              "4   80  initiation cry ap advani involvement demolitio..."
            ]
          },
          "metadata": {},
          "execution_count": 85
        }
      ]
    },
    {
      "cell_type": "code",
      "metadata": {
        "id": "e8Nhw4KVTGXJ"
      },
      "source": [
        "index = IndexUtil(pt, \"./pd3_index\")"
      ],
      "execution_count": null,
      "outputs": []
    },
    {
      "cell_type": "code",
      "metadata": {
        "id": "ACFRq_vvTLDF"
      },
      "source": [
        "index.buildIndex(\n",
        "    corpora, \n",
        "    'text', \n",
        "    ['docno']\n",
        ")"
      ],
      "execution_count": null,
      "outputs": []
    },
    {
      "cell_type": "code",
      "metadata": {
        "colab": {
          "base_uri": "https://localhost:8080/",
          "height": 97
        },
        "id": "Bm9If-WJTNdk",
        "outputId": "f6863cd9-3e75-440d-9652-e7eb8df29a01"
      },
      "source": [
        "print('yass - d2 distance: ')\n",
        "index.evaluate(\n",
        "    ['TF_IDF'], \n",
        "    topics, \n",
        "    qrels, \n",
        "    ['map']\n",
        ")"
      ],
      "execution_count": null,
      "outputs": [
        {
          "output_type": "stream",
          "text": [
            "yass - d2 distance: \n"
          ],
          "name": "stdout"
        },
        {
          "output_type": "execute_result",
          "data": {
            "text/html": [
              "<div>\n",
              "<style scoped>\n",
              "    .dataframe tbody tr th:only-of-type {\n",
              "        vertical-align: middle;\n",
              "    }\n",
              "\n",
              "    .dataframe tbody tr th {\n",
              "        vertical-align: top;\n",
              "    }\n",
              "\n",
              "    .dataframe thead th {\n",
              "        text-align: right;\n",
              "    }\n",
              "</style>\n",
              "<table border=\"1\" class=\"dataframe\">\n",
              "  <thead>\n",
              "    <tr style=\"text-align: right;\">\n",
              "      <th></th>\n",
              "      <th>name</th>\n",
              "      <th>map</th>\n",
              "    </tr>\n",
              "  </thead>\n",
              "  <tbody>\n",
              "    <tr>\n",
              "      <th>0</th>\n",
              "      <td>BR(TF_IDF)</td>\n",
              "      <td>0.356716</td>\n",
              "    </tr>\n",
              "  </tbody>\n",
              "</table>\n",
              "</div>"
            ],
            "text/plain": [
              "         name       map\n",
              "0  BR(TF_IDF)  0.356716"
            ]
          },
          "metadata": {},
          "execution_count": 88
        }
      ]
    },
    {
      "cell_type": "markdown",
      "metadata": {
        "id": "MdPnOXA6HPVp"
      },
      "source": [
        "### YASS - d3 distance Measure"
      ]
    },
    {
      "cell_type": "code",
      "metadata": {
        "colab": {
          "base_uri": "https://localhost:8080/",
          "height": 238
        },
        "id": "1GBoclaXnSWd",
        "outputId": "f05c0f15-c104-4d65-9d17-1912b7781f8c"
      },
      "source": [
        "cr = CorporaReader(DATASET_ROOT, stemmer=YASS_Stemmer(data, 'd3', 300))\n",
        "corpora = cr.read()\n",
        "corpora.head()"
      ],
      "execution_count": null,
      "outputs": [
        {
          "output_type": "stream",
          "text": [
            "Indexing all the data files\n"
          ],
          "name": "stdout"
        },
        {
          "output_type": "stream",
          "text": [
            "100%|██████████| 125586/125586 [2:11:16<00:00, 15.94it/s]\n"
          ],
          "name": "stderr"
        },
        {
          "output_type": "execute_result",
          "data": {
            "text/html": [
              "<div>\n",
              "<style scoped>\n",
              "    .dataframe tbody tr th:only-of-type {\n",
              "        vertical-align: middle;\n",
              "    }\n",
              "\n",
              "    .dataframe tbody tr th {\n",
              "        vertical-align: top;\n",
              "    }\n",
              "\n",
              "    .dataframe thead th {\n",
              "        text-align: right;\n",
              "    }\n",
              "</style>\n",
              "<table border=\"1\" class=\"dataframe\">\n",
              "  <thead>\n",
              "    <tr style=\"text-align: right;\">\n",
              "      <th></th>\n",
              "      <th>docno</th>\n",
              "      <th>text</th>\n",
              "    </tr>\n",
              "  </thead>\n",
              "  <tbody>\n",
              "    <tr>\n",
              "      <th>0</th>\n",
              "      <td>1070213_bengal_story_7386574.utf8</td>\n",
              "      <td>telegraph calcutta bengal mamata sit spy land ...</td>\n",
              "    </tr>\n",
              "    <tr>\n",
              "      <th>1</th>\n",
              "      <td>1070809_bengal_index.utf8</td>\n",
              "      <td>telegraph calcutta bengal sells fill sky gals ...</td>\n",
              "    </tr>\n",
              "    <tr>\n",
              "      <th>2</th>\n",
              "      <td>1070617_bengal_index.utf8</td>\n",
              "      <td>telegraph calcutta bengal vow r nandigram hoyt...</td>\n",
              "    </tr>\n",
              "    <tr>\n",
              "      <th>3</th>\n",
              "      <td>1070927_bengal_story_8366827.utf8</td>\n",
              "      <td>telegraph calcutta bengal hot calcutta sept gr...</td>\n",
              "    </tr>\n",
              "    <tr>\n",
              "      <th>4</th>\n",
              "      <td>1070317_bengal_story_7529474.utf8</td>\n",
              "      <td>telegraph calcutta bengal bandh guiding nap se...</td>\n",
              "    </tr>\n",
              "  </tbody>\n",
              "</table>\n",
              "</div>"
            ],
            "text/plain": [
              "                               docno                                               text\n",
              "0  1070213_bengal_story_7386574.utf8  telegraph calcutta bengal mamata sit spy land ...\n",
              "1          1070809_bengal_index.utf8  telegraph calcutta bengal sells fill sky gals ...\n",
              "2          1070617_bengal_index.utf8  telegraph calcutta bengal vow r nandigram hoyt...\n",
              "3  1070927_bengal_story_8366827.utf8  telegraph calcutta bengal hot calcutta sept gr...\n",
              "4  1070317_bengal_story_7529474.utf8  telegraph calcutta bengal bandh guiding nap se..."
            ]
          },
          "metadata": {},
          "execution_count": 21
        }
      ]
    },
    {
      "cell_type": "code",
      "metadata": {
        "colab": {
          "base_uri": "https://localhost:8080/",
          "height": 204
        },
        "id": "jMshuSODosfT",
        "outputId": "d664f198-a6fa-407f-94c2-c1ebd3d99e53"
      },
      "source": [
        "qr = QrelsReader(DATASET_QRELS)\n",
        "qrels = qr.read()\n",
        "qrels.head()"
      ],
      "execution_count": null,
      "outputs": [
        {
          "output_type": "execute_result",
          "data": {
            "text/html": [
              "<div>\n",
              "<style scoped>\n",
              "    .dataframe tbody tr th:only-of-type {\n",
              "        vertical-align: middle;\n",
              "    }\n",
              "\n",
              "    .dataframe tbody tr th {\n",
              "        vertical-align: top;\n",
              "    }\n",
              "\n",
              "    .dataframe thead th {\n",
              "        text-align: right;\n",
              "    }\n",
              "</style>\n",
              "<table border=\"1\" class=\"dataframe\">\n",
              "  <thead>\n",
              "    <tr style=\"text-align: right;\">\n",
              "      <th></th>\n",
              "      <th>qid</th>\n",
              "      <th>docno</th>\n",
              "      <th>label</th>\n",
              "    </tr>\n",
              "  </thead>\n",
              "  <tbody>\n",
              "    <tr>\n",
              "      <th>0</th>\n",
              "      <td>76</td>\n",
              "      <td>1040901_nation_story_3702283.utf8</td>\n",
              "      <td>0</td>\n",
              "    </tr>\n",
              "    <tr>\n",
              "      <th>1</th>\n",
              "      <td>76</td>\n",
              "      <td>1040901_opinion_story_3675790.utf8</td>\n",
              "      <td>0</td>\n",
              "    </tr>\n",
              "    <tr>\n",
              "      <th>2</th>\n",
              "      <td>76</td>\n",
              "      <td>1040902_nation_story_3707291.utf8</td>\n",
              "      <td>0</td>\n",
              "    </tr>\n",
              "    <tr>\n",
              "      <th>3</th>\n",
              "      <td>76</td>\n",
              "      <td>1040904_opinion_story_3713095.utf8</td>\n",
              "      <td>0</td>\n",
              "    </tr>\n",
              "    <tr>\n",
              "      <th>4</th>\n",
              "      <td>76</td>\n",
              "      <td>1040908_calcutta_story_3729202.utf8</td>\n",
              "      <td>0</td>\n",
              "    </tr>\n",
              "  </tbody>\n",
              "</table>\n",
              "</div>"
            ],
            "text/plain": [
              "  qid                                docno  label\n",
              "0  76    1040901_nation_story_3702283.utf8      0\n",
              "1  76   1040901_opinion_story_3675790.utf8      0\n",
              "2  76    1040902_nation_story_3707291.utf8      0\n",
              "3  76   1040904_opinion_story_3713095.utf8      0\n",
              "4  76  1040908_calcutta_story_3729202.utf8      0"
            ]
          },
          "metadata": {},
          "execution_count": 22
        }
      ]
    },
    {
      "cell_type": "code",
      "metadata": {
        "colab": {
          "base_uri": "https://localhost:8080/",
          "height": 221
        },
        "id": "TC0zb0tnozii",
        "outputId": "7a257827-323d-4c9f-dfea-543f754bd25f"
      },
      "source": [
        "q = QueryReader(DATASET_TOPICS, stemmer=YASS_Stemmer(data, 'd3', 300))\n",
        "topics = q.read()\n",
        "topics.head()"
      ],
      "execution_count": null,
      "outputs": [
        {
          "output_type": "stream",
          "text": [
            "100%|██████████| 50/50 [00:00<00:00, 281.66it/s]\n"
          ],
          "name": "stderr"
        },
        {
          "output_type": "execute_result",
          "data": {
            "text/html": [
              "<div>\n",
              "<style scoped>\n",
              "    .dataframe tbody tr th:only-of-type {\n",
              "        vertical-align: middle;\n",
              "    }\n",
              "\n",
              "    .dataframe tbody tr th {\n",
              "        vertical-align: top;\n",
              "    }\n",
              "\n",
              "    .dataframe thead th {\n",
              "        text-align: right;\n",
              "    }\n",
              "</style>\n",
              "<table border=\"1\" class=\"dataframe\">\n",
              "  <thead>\n",
              "    <tr style=\"text-align: right;\">\n",
              "      <th></th>\n",
              "      <th>qid</th>\n",
              "      <th>query</th>\n",
              "    </tr>\n",
              "  </thead>\n",
              "  <tbody>\n",
              "    <tr>\n",
              "      <th>0</th>\n",
              "      <td>76</td>\n",
              "      <td>key spy protests meena leaders inclusion gurja...</td>\n",
              "    </tr>\n",
              "    <tr>\n",
              "      <th>1</th>\n",
              "      <td>77</td>\n",
              "      <td>van hezbollah guerrillas w israeli ties</td>\n",
              "    </tr>\n",
              "    <tr>\n",
              "      <th>2</th>\n",
              "      <td>78</td>\n",
              "      <td>hunt ashok singhal catchers vishwa hindu paris...</td>\n",
              "    </tr>\n",
              "    <tr>\n",
              "      <th>3</th>\n",
              "      <td>79</td>\n",
              "      <td>cooke low sad china sky everest</td>\n",
              "    </tr>\n",
              "    <tr>\n",
              "      <th>4</th>\n",
              "      <td>80</td>\n",
              "      <td>initiation deaf nab advani involvement demolit...</td>\n",
              "    </tr>\n",
              "  </tbody>\n",
              "</table>\n",
              "</div>"
            ],
            "text/plain": [
              "   qid                                              query\n",
              "0   76  key spy protests meena leaders inclusion gurja...\n",
              "1   77            van hezbollah guerrillas w israeli ties\n",
              "2   78  hunt ashok singhal catchers vishwa hindu paris...\n",
              "3   79                    cooke low sad china sky everest\n",
              "4   80  initiation deaf nab advani involvement demolit..."
            ]
          },
          "metadata": {},
          "execution_count": 23
        }
      ]
    },
    {
      "cell_type": "code",
      "metadata": {
        "id": "CyxRuRj-o9Qo"
      },
      "source": [
        "index = IndexUtil(pt, \"./pd4_index\")"
      ],
      "execution_count": null,
      "outputs": []
    },
    {
      "cell_type": "code",
      "metadata": {
        "id": "8qf1R5oQpG05"
      },
      "source": [
        "index.buildIndex(\n",
        "    corpora, \n",
        "    'text', \n",
        "    ['docno']\n",
        ")"
      ],
      "execution_count": null,
      "outputs": []
    },
    {
      "cell_type": "code",
      "metadata": {
        "colab": {
          "base_uri": "https://localhost:8080/",
          "height": 97
        },
        "id": "O896FOgRpLAi",
        "outputId": "34df0296-fea8-424b-ed8f-9c8bad67a279"
      },
      "source": [
        "print('yass - d3 distance: ')\n",
        "index.evaluate(\n",
        "    ['TF_IDF'], \n",
        "    topics, \n",
        "    qrels, \n",
        "    ['map']\n",
        ")"
      ],
      "execution_count": null,
      "outputs": [
        {
          "output_type": "stream",
          "text": [
            "yass - d3 distance: \n"
          ],
          "name": "stdout"
        },
        {
          "output_type": "execute_result",
          "data": {
            "text/html": [
              "<div>\n",
              "<style scoped>\n",
              "    .dataframe tbody tr th:only-of-type {\n",
              "        vertical-align: middle;\n",
              "    }\n",
              "\n",
              "    .dataframe tbody tr th {\n",
              "        vertical-align: top;\n",
              "    }\n",
              "\n",
              "    .dataframe thead th {\n",
              "        text-align: right;\n",
              "    }\n",
              "</style>\n",
              "<table border=\"1\" class=\"dataframe\">\n",
              "  <thead>\n",
              "    <tr style=\"text-align: right;\">\n",
              "      <th></th>\n",
              "      <th>name</th>\n",
              "      <th>map</th>\n",
              "    </tr>\n",
              "  </thead>\n",
              "  <tbody>\n",
              "    <tr>\n",
              "      <th>0</th>\n",
              "      <td>BR(TF_IDF)</td>\n",
              "      <td>0.382259</td>\n",
              "    </tr>\n",
              "  </tbody>\n",
              "</table>\n",
              "</div>"
            ],
            "text/plain": [
              "         name       map\n",
              "0  BR(TF_IDF)  0.382259"
            ]
          },
          "metadata": {},
          "execution_count": 26
        }
      ]
    },
    {
      "cell_type": "markdown",
      "metadata": {
        "id": "Smf5ZbgzHTtT"
      },
      "source": [
        "### YASS - d4 distance Measure"
      ]
    },
    {
      "cell_type": "code",
      "metadata": {
        "colab": {
          "base_uri": "https://localhost:8080/",
          "height": 238
        },
        "id": "7xoC7OzgpPx6",
        "outputId": "ddc66df0-eaf4-4a7d-aa81-781051104997"
      },
      "source": [
        "cr = CorporaReader(DATASET_ROOT, stemmer=YASS_Stemmer(data, 'd4', 100))\n",
        "corpora = cr.read()\n",
        "corpora.head()"
      ],
      "execution_count": 26,
      "outputs": [
        {
          "output_type": "stream",
          "text": [
            "Indexing all the data files\n"
          ],
          "name": "stdout"
        },
        {
          "output_type": "stream",
          "text": [
            "100%|██████████| 125586/125586 [2:41:12<00:00, 12.98it/s]\n"
          ],
          "name": "stderr"
        },
        {
          "output_type": "execute_result",
          "data": {
            "text/html": [
              "<div>\n",
              "<style scoped>\n",
              "    .dataframe tbody tr th:only-of-type {\n",
              "        vertical-align: middle;\n",
              "    }\n",
              "\n",
              "    .dataframe tbody tr th {\n",
              "        vertical-align: top;\n",
              "    }\n",
              "\n",
              "    .dataframe thead th {\n",
              "        text-align: right;\n",
              "    }\n",
              "</style>\n",
              "<table border=\"1\" class=\"dataframe\">\n",
              "  <thead>\n",
              "    <tr style=\"text-align: right;\">\n",
              "      <th></th>\n",
              "      <th>docno</th>\n",
              "      <th>text</th>\n",
              "    </tr>\n",
              "  </thead>\n",
              "  <tbody>\n",
              "    <tr>\n",
              "      <th>0</th>\n",
              "      <td>1070213_bengal_story_7386574.utf8</td>\n",
              "      <td>telegraph calcutta bengal mamata ad woodland l...</td>\n",
              "    </tr>\n",
              "    <tr>\n",
              "      <th>1</th>\n",
              "      <td>1070809_bengal_index.utf8</td>\n",
              "      <td>telegraph calcutta bengal thursday coles hospi...</td>\n",
              "    </tr>\n",
              "    <tr>\n",
              "      <th>2</th>\n",
              "      <td>1070617_bengal_index.utf8</td>\n",
              "      <td>telegraph calcutta bengal voter june nandigram...</td>\n",
              "    </tr>\n",
              "    <tr>\n",
              "      <th>3</th>\n",
              "      <td>1070927_bengal_story_8366827.utf8</td>\n",
              "      <td>telegraph calcutta bengal un calcutta sept cup...</td>\n",
              "    </tr>\n",
              "    <tr>\n",
              "      <th>4</th>\n",
              "      <td>1070317_bengal_story_7529474.utf8</td>\n",
              "      <td>telegraph calcutta bengal bandh try march se m...</td>\n",
              "    </tr>\n",
              "  </tbody>\n",
              "</table>\n",
              "</div>"
            ],
            "text/plain": [
              "                               docno                                               text\n",
              "0  1070213_bengal_story_7386574.utf8  telegraph calcutta bengal mamata ad woodland l...\n",
              "1          1070809_bengal_index.utf8  telegraph calcutta bengal thursday coles hospi...\n",
              "2          1070617_bengal_index.utf8  telegraph calcutta bengal voter june nandigram...\n",
              "3  1070927_bengal_story_8366827.utf8  telegraph calcutta bengal un calcutta sept cup...\n",
              "4  1070317_bengal_story_7529474.utf8  telegraph calcutta bengal bandh try march se m..."
            ]
          },
          "metadata": {},
          "execution_count": 26
        }
      ]
    },
    {
      "cell_type": "code",
      "metadata": {
        "id": "TO-5aJyqplf_",
        "colab": {
          "base_uri": "https://localhost:8080/",
          "height": 204
        },
        "outputId": "ad2370b6-a9d6-49ef-a12f-46c280c05067"
      },
      "source": [
        "qr = QrelsReader(DATASET_QRELS)\n",
        "qrels = qr.read()\n",
        "qrels.head()"
      ],
      "execution_count": 27,
      "outputs": [
        {
          "output_type": "execute_result",
          "data": {
            "text/html": [
              "<div>\n",
              "<style scoped>\n",
              "    .dataframe tbody tr th:only-of-type {\n",
              "        vertical-align: middle;\n",
              "    }\n",
              "\n",
              "    .dataframe tbody tr th {\n",
              "        vertical-align: top;\n",
              "    }\n",
              "\n",
              "    .dataframe thead th {\n",
              "        text-align: right;\n",
              "    }\n",
              "</style>\n",
              "<table border=\"1\" class=\"dataframe\">\n",
              "  <thead>\n",
              "    <tr style=\"text-align: right;\">\n",
              "      <th></th>\n",
              "      <th>qid</th>\n",
              "      <th>docno</th>\n",
              "      <th>label</th>\n",
              "    </tr>\n",
              "  </thead>\n",
              "  <tbody>\n",
              "    <tr>\n",
              "      <th>0</th>\n",
              "      <td>76</td>\n",
              "      <td>1040901_nation_story_3702283.utf8</td>\n",
              "      <td>0</td>\n",
              "    </tr>\n",
              "    <tr>\n",
              "      <th>1</th>\n",
              "      <td>76</td>\n",
              "      <td>1040901_opinion_story_3675790.utf8</td>\n",
              "      <td>0</td>\n",
              "    </tr>\n",
              "    <tr>\n",
              "      <th>2</th>\n",
              "      <td>76</td>\n",
              "      <td>1040902_nation_story_3707291.utf8</td>\n",
              "      <td>0</td>\n",
              "    </tr>\n",
              "    <tr>\n",
              "      <th>3</th>\n",
              "      <td>76</td>\n",
              "      <td>1040904_opinion_story_3713095.utf8</td>\n",
              "      <td>0</td>\n",
              "    </tr>\n",
              "    <tr>\n",
              "      <th>4</th>\n",
              "      <td>76</td>\n",
              "      <td>1040908_calcutta_story_3729202.utf8</td>\n",
              "      <td>0</td>\n",
              "    </tr>\n",
              "  </tbody>\n",
              "</table>\n",
              "</div>"
            ],
            "text/plain": [
              "  qid                                docno  label\n",
              "0  76    1040901_nation_story_3702283.utf8      0\n",
              "1  76   1040901_opinion_story_3675790.utf8      0\n",
              "2  76    1040902_nation_story_3707291.utf8      0\n",
              "3  76   1040904_opinion_story_3713095.utf8      0\n",
              "4  76  1040908_calcutta_story_3729202.utf8      0"
            ]
          },
          "metadata": {},
          "execution_count": 27
        }
      ]
    },
    {
      "cell_type": "code",
      "metadata": {
        "id": "qx4e7GurpoX7",
        "colab": {
          "base_uri": "https://localhost:8080/",
          "height": 221
        },
        "outputId": "587a2b69-f7cc-4dac-93a3-3a4acc02645e"
      },
      "source": [
        "q = QueryReader(DATASET_TOPICS, stemmer=YASS_Stemmer(data, 'd4', 100))\n",
        "topics = q.read()\n",
        "topics.head()"
      ],
      "execution_count": 28,
      "outputs": [
        {
          "output_type": "stream",
          "text": [
            "100%|██████████| 50/50 [00:00<00:00, 215.59it/s]\n"
          ],
          "name": "stderr"
        },
        {
          "output_type": "execute_result",
          "data": {
            "text/html": [
              "<div>\n",
              "<style scoped>\n",
              "    .dataframe tbody tr th:only-of-type {\n",
              "        vertical-align: middle;\n",
              "    }\n",
              "\n",
              "    .dataframe tbody tr th {\n",
              "        vertical-align: top;\n",
              "    }\n",
              "\n",
              "    .dataframe thead th {\n",
              "        text-align: right;\n",
              "    }\n",
              "</style>\n",
              "<table border=\"1\" class=\"dataframe\">\n",
              "  <thead>\n",
              "    <tr style=\"text-align: right;\">\n",
              "      <th></th>\n",
              "      <th>qid</th>\n",
              "      <th>query</th>\n",
              "    </tr>\n",
              "  </thead>\n",
              "  <tbody>\n",
              "    <tr>\n",
              "      <th>0</th>\n",
              "      <td>76</td>\n",
              "      <td>thus behind lost meena leaders inclusion gurja...</td>\n",
              "    </tr>\n",
              "    <tr>\n",
              "      <th>1</th>\n",
              "      <td>77</td>\n",
              "      <td>attacks hezbollah guerrillas cup israeli chat</td>\n",
              "    </tr>\n",
              "    <tr>\n",
              "      <th>2</th>\n",
              "      <td>78</td>\n",
              "      <td>due ashok singhal awe vishwa hindu parishad lk...</td>\n",
              "    </tr>\n",
              "    <tr>\n",
              "      <th>3</th>\n",
              "      <td>79</td>\n",
              "      <td>nae b ffa give b everest</td>\n",
              "    </tr>\n",
              "    <tr>\n",
              "      <th>4</th>\n",
              "      <td>80</td>\n",
              "      <td>initiation legal impact advani involvement dem...</td>\n",
              "    </tr>\n",
              "  </tbody>\n",
              "</table>\n",
              "</div>"
            ],
            "text/plain": [
              "   qid                                              query\n",
              "0   76  thus behind lost meena leaders inclusion gurja...\n",
              "1   77      attacks hezbollah guerrillas cup israeli chat\n",
              "2   78  due ashok singhal awe vishwa hindu parishad lk...\n",
              "3   79                           nae b ffa give b everest\n",
              "4   80  initiation legal impact advani involvement dem..."
            ]
          },
          "metadata": {},
          "execution_count": 28
        }
      ]
    },
    {
      "cell_type": "code",
      "metadata": {
        "id": "JoRQQcsRqMVp"
      },
      "source": [
        "! rm -rf pd4_index"
      ],
      "execution_count": null,
      "outputs": []
    },
    {
      "cell_type": "code",
      "metadata": {
        "id": "8g2cvqB2prMx"
      },
      "source": [
        "index = IndexUtil(pt, \"./pd5_index\")"
      ],
      "execution_count": 29,
      "outputs": []
    },
    {
      "cell_type": "code",
      "metadata": {
        "id": "mHkYroiipycl"
      },
      "source": [
        "index.buildIndex(\n",
        "    corpora, \n",
        "    'text', \n",
        "    ['docno']\n",
        ")"
      ],
      "execution_count": 30,
      "outputs": []
    },
    {
      "cell_type": "code",
      "metadata": {
        "id": "Z0N8VDSip2uM",
        "colab": {
          "base_uri": "https://localhost:8080/",
          "height": 97
        },
        "outputId": "15164f6c-3c26-4059-ede2-601aaf3d52c2"
      },
      "source": [
        "print('yass - d4 distance: ')\n",
        "index.evaluate(\n",
        "    ['TF_IDF'], \n",
        "    topics, \n",
        "    qrels, \n",
        "    ['map']\n",
        ")"
      ],
      "execution_count": 31,
      "outputs": [
        {
          "output_type": "stream",
          "text": [
            "yass - d4 distance: \n"
          ],
          "name": "stdout"
        },
        {
          "output_type": "execute_result",
          "data": {
            "text/html": [
              "<div>\n",
              "<style scoped>\n",
              "    .dataframe tbody tr th:only-of-type {\n",
              "        vertical-align: middle;\n",
              "    }\n",
              "\n",
              "    .dataframe tbody tr th {\n",
              "        vertical-align: top;\n",
              "    }\n",
              "\n",
              "    .dataframe thead th {\n",
              "        text-align: right;\n",
              "    }\n",
              "</style>\n",
              "<table border=\"1\" class=\"dataframe\">\n",
              "  <thead>\n",
              "    <tr style=\"text-align: right;\">\n",
              "      <th></th>\n",
              "      <th>name</th>\n",
              "      <th>map</th>\n",
              "    </tr>\n",
              "  </thead>\n",
              "  <tbody>\n",
              "    <tr>\n",
              "      <th>0</th>\n",
              "      <td>BR(TF_IDF)</td>\n",
              "      <td>0.393111</td>\n",
              "    </tr>\n",
              "  </tbody>\n",
              "</table>\n",
              "</div>"
            ],
            "text/plain": [
              "         name       map\n",
              "0  BR(TF_IDF)  0.393111"
            ]
          },
          "metadata": {},
          "execution_count": 31
        }
      ]
    },
    {
      "cell_type": "markdown",
      "metadata": {
        "id": "alJEwIE0HWrU"
      },
      "source": [
        "### YASS - levenshtein distance Measure"
      ]
    },
    {
      "cell_type": "code",
      "metadata": {
        "id": "PIe5RMNrqWyS",
        "colab": {
          "base_uri": "https://localhost:8080/",
          "height": 238
        },
        "outputId": "f28426cc-fb7c-4b7f-c865-53c9d86ba503"
      },
      "source": [
        "cr = CorporaReader(DATASET_ROOT, stemmer=YASS_Stemmer(data, 'levenshtein', 100))\n",
        "corpora = cr.read()\n",
        "corpora.head()"
      ],
      "execution_count": 18,
      "outputs": [
        {
          "output_type": "stream",
          "text": [
            "Indexing all the data files\n"
          ],
          "name": "stdout"
        },
        {
          "output_type": "stream",
          "text": [
            "100%|██████████| 125586/125586 [2:33:21<00:00, 13.65it/s]\n"
          ],
          "name": "stderr"
        },
        {
          "output_type": "execute_result",
          "data": {
            "text/html": [
              "<div>\n",
              "<style scoped>\n",
              "    .dataframe tbody tr th:only-of-type {\n",
              "        vertical-align: middle;\n",
              "    }\n",
              "\n",
              "    .dataframe tbody tr th {\n",
              "        vertical-align: top;\n",
              "    }\n",
              "\n",
              "    .dataframe thead th {\n",
              "        text-align: right;\n",
              "    }\n",
              "</style>\n",
              "<table border=\"1\" class=\"dataframe\">\n",
              "  <thead>\n",
              "    <tr style=\"text-align: right;\">\n",
              "      <th></th>\n",
              "      <th>docno</th>\n",
              "      <th>text</th>\n",
              "    </tr>\n",
              "  </thead>\n",
              "  <tbody>\n",
              "    <tr>\n",
              "      <th>0</th>\n",
              "      <td>1061219_frontpage_index.utf8</td>\n",
              "      <td>telegraph calcutta frontpage son senior ips lo...</td>\n",
              "    </tr>\n",
              "    <tr>\n",
              "      <th>1</th>\n",
              "      <td>1060711_frontpage_index.utf8</td>\n",
              "      <td>telegraph calcutta frontpage</td>\n",
              "    </tr>\n",
              "    <tr>\n",
              "      <th>2</th>\n",
              "      <td>1060321_frontpage_story_5993623.utf8</td>\n",
              "      <td>telegraph calcutta frontpage twin bs rush spec...</td>\n",
              "    </tr>\n",
              "    <tr>\n",
              "      <th>3</th>\n",
              "      <td>1060411_frontpage_story_6084638.utf8</td>\n",
              "      <td>telegraph calcutta frontpage subhas slip red a...</td>\n",
              "    </tr>\n",
              "    <tr>\n",
              "      <th>4</th>\n",
              "      <td>1061209_frontpage_story_7117673.utf8</td>\n",
              "      <td>telegraph calcutta frontpage end turn ice age ...</td>\n",
              "    </tr>\n",
              "  </tbody>\n",
              "</table>\n",
              "</div>"
            ],
            "text/plain": [
              "                                  docno                                               text\n",
              "0          1061219_frontpage_index.utf8  telegraph calcutta frontpage son senior ips lo...\n",
              "1          1060711_frontpage_index.utf8                       telegraph calcutta frontpage\n",
              "2  1060321_frontpage_story_5993623.utf8  telegraph calcutta frontpage twin bs rush spec...\n",
              "3  1060411_frontpage_story_6084638.utf8  telegraph calcutta frontpage subhas slip red a...\n",
              "4  1061209_frontpage_story_7117673.utf8  telegraph calcutta frontpage end turn ice age ..."
            ]
          },
          "metadata": {},
          "execution_count": 18
        }
      ]
    },
    {
      "cell_type": "code",
      "metadata": {
        "colab": {
          "base_uri": "https://localhost:8080/",
          "height": 204
        },
        "id": "u1xiQqv3-L89",
        "outputId": "a2a87b22-4726-4e14-e3d0-cfd7ce04fc7e"
      },
      "source": [
        "qr = QrelsReader(DATASET_QRELS)\n",
        "qrels = qr.read()\n",
        "qrels.head()"
      ],
      "execution_count": 24,
      "outputs": [
        {
          "output_type": "execute_result",
          "data": {
            "text/html": [
              "<div>\n",
              "<style scoped>\n",
              "    .dataframe tbody tr th:only-of-type {\n",
              "        vertical-align: middle;\n",
              "    }\n",
              "\n",
              "    .dataframe tbody tr th {\n",
              "        vertical-align: top;\n",
              "    }\n",
              "\n",
              "    .dataframe thead th {\n",
              "        text-align: right;\n",
              "    }\n",
              "</style>\n",
              "<table border=\"1\" class=\"dataframe\">\n",
              "  <thead>\n",
              "    <tr style=\"text-align: right;\">\n",
              "      <th></th>\n",
              "      <th>qid</th>\n",
              "      <th>docno</th>\n",
              "      <th>label</th>\n",
              "    </tr>\n",
              "  </thead>\n",
              "  <tbody>\n",
              "    <tr>\n",
              "      <th>0</th>\n",
              "      <td>76</td>\n",
              "      <td>1040901_nation_story_3702283.utf8</td>\n",
              "      <td>0</td>\n",
              "    </tr>\n",
              "    <tr>\n",
              "      <th>1</th>\n",
              "      <td>76</td>\n",
              "      <td>1040901_opinion_story_3675790.utf8</td>\n",
              "      <td>0</td>\n",
              "    </tr>\n",
              "    <tr>\n",
              "      <th>2</th>\n",
              "      <td>76</td>\n",
              "      <td>1040902_nation_story_3707291.utf8</td>\n",
              "      <td>0</td>\n",
              "    </tr>\n",
              "    <tr>\n",
              "      <th>3</th>\n",
              "      <td>76</td>\n",
              "      <td>1040904_opinion_story_3713095.utf8</td>\n",
              "      <td>0</td>\n",
              "    </tr>\n",
              "    <tr>\n",
              "      <th>4</th>\n",
              "      <td>76</td>\n",
              "      <td>1040908_calcutta_story_3729202.utf8</td>\n",
              "      <td>0</td>\n",
              "    </tr>\n",
              "  </tbody>\n",
              "</table>\n",
              "</div>"
            ],
            "text/plain": [
              "  qid                                docno  label\n",
              "0  76    1040901_nation_story_3702283.utf8      0\n",
              "1  76   1040901_opinion_story_3675790.utf8      0\n",
              "2  76    1040902_nation_story_3707291.utf8      0\n",
              "3  76   1040904_opinion_story_3713095.utf8      0\n",
              "4  76  1040908_calcutta_story_3729202.utf8      0"
            ]
          },
          "metadata": {},
          "execution_count": 24
        }
      ]
    },
    {
      "cell_type": "code",
      "metadata": {
        "colab": {
          "base_uri": "https://localhost:8080/",
          "height": 221
        },
        "id": "AUxt0U63-PPi",
        "outputId": "ac5e4abc-5775-4caf-a748-bd3bdff21e93"
      },
      "source": [
        "q = QueryReader(DATASET_TOPICS, stemmer=YASS_Stemmer(data, 'levenshtein', 100))\n",
        "topics = q.read()\n",
        "topics.head()"
      ],
      "execution_count": 25,
      "outputs": [
        {
          "output_type": "stream",
          "text": [
            "100%|██████████| 50/50 [00:00<00:00, 251.72it/s]\n"
          ],
          "name": "stderr"
        },
        {
          "output_type": "execute_result",
          "data": {
            "text/html": [
              "<div>\n",
              "<style scoped>\n",
              "    .dataframe tbody tr th:only-of-type {\n",
              "        vertical-align: middle;\n",
              "    }\n",
              "\n",
              "    .dataframe tbody tr th {\n",
              "        vertical-align: top;\n",
              "    }\n",
              "\n",
              "    .dataframe thead th {\n",
              "        text-align: right;\n",
              "    }\n",
              "</style>\n",
              "<table border=\"1\" class=\"dataframe\">\n",
              "  <thead>\n",
              "    <tr style=\"text-align: right;\">\n",
              "      <th></th>\n",
              "      <th>qid</th>\n",
              "      <th>query</th>\n",
              "    </tr>\n",
              "  </thead>\n",
              "  <tbody>\n",
              "    <tr>\n",
              "      <th>0</th>\n",
              "      <td>76</td>\n",
              "      <td>mar r sow meena lie inclusion gurjars schedule...</td>\n",
              "    </tr>\n",
              "    <tr>\n",
              "      <th>1</th>\n",
              "      <td>77</td>\n",
              "      <td>kkk hezbollah guerrillas indian israeli ton</td>\n",
              "    </tr>\n",
              "    <tr>\n",
              "      <th>2</th>\n",
              "      <td>78</td>\n",
              "      <td>ad ashok singhal du vishwa hindu parishad lk a...</td>\n",
              "    </tr>\n",
              "    <tr>\n",
              "      <th>3</th>\n",
              "      <td>79</td>\n",
              "      <td>jones build pi china tax everest</td>\n",
              "    </tr>\n",
              "    <tr>\n",
              "      <th>4</th>\n",
              "      <td>80</td>\n",
              "      <td>initiation run janet advani involvement demoli...</td>\n",
              "    </tr>\n",
              "  </tbody>\n",
              "</table>\n",
              "</div>"
            ],
            "text/plain": [
              "   qid                                              query\n",
              "0   76  mar r sow meena lie inclusion gurjars schedule...\n",
              "1   77        kkk hezbollah guerrillas indian israeli ton\n",
              "2   78  ad ashok singhal du vishwa hindu parishad lk a...\n",
              "3   79                   jones build pi china tax everest\n",
              "4   80  initiation run janet advani involvement demoli..."
            ]
          },
          "metadata": {},
          "execution_count": 25
        }
      ]
    },
    {
      "cell_type": "code",
      "metadata": {
        "id": "jJZvtfnL-Tt6"
      },
      "source": [
        "index = IndexUtil(pt, \"./pd6_index\")"
      ],
      "execution_count": 26,
      "outputs": []
    },
    {
      "cell_type": "code",
      "metadata": {
        "colab": {
          "base_uri": "https://localhost:8080/"
        },
        "id": "_AXdc4Bt-UdJ",
        "outputId": "24c3789a-0c40-4131-8ac3-8a7dcab60014"
      },
      "source": [
        "index.buildIndex(\n",
        "    corpora, \n",
        "    'text', \n",
        "    ['docno']\n",
        ")"
      ],
      "execution_count": 29,
      "outputs": [
        {
          "output_type": "stream",
          "text": [
            "\n"
          ],
          "name": "stdout"
        }
      ]
    },
    {
      "cell_type": "code",
      "metadata": {
        "colab": {
          "base_uri": "https://localhost:8080/",
          "height": 97
        },
        "id": "RMcDW-5v-adf",
        "outputId": "8db23b85-8cca-42a1-c418-86c8918527e1"
      },
      "source": [
        "print('yass - levenshtein distance: ')\n",
        "index.evaluate(\n",
        "    ['TF_IDF'], \n",
        "    topics, \n",
        "    qrels, \n",
        "    ['map']\n",
        ")"
      ],
      "execution_count": 23,
      "outputs": [
        {
          "output_type": "stream",
          "text": [
            "yass - levenshtein distance: \n"
          ],
          "name": "stdout"
        },
        {
          "output_type": "execute_result",
          "data": {
            "text/html": [
              "<div>\n",
              "<style scoped>\n",
              "    .dataframe tbody tr th:only-of-type {\n",
              "        vertical-align: middle;\n",
              "    }\n",
              "\n",
              "    .dataframe tbody tr th {\n",
              "        vertical-align: top;\n",
              "    }\n",
              "\n",
              "    .dataframe thead th {\n",
              "        text-align: right;\n",
              "    }\n",
              "</style>\n",
              "<table border=\"1\" class=\"dataframe\">\n",
              "  <thead>\n",
              "    <tr style=\"text-align: right;\">\n",
              "      <th></th>\n",
              "      <th>name</th>\n",
              "      <th>map</th>\n",
              "    </tr>\n",
              "  </thead>\n",
              "  <tbody>\n",
              "    <tr>\n",
              "      <th>0</th>\n",
              "      <td>BR(TF_IDF)</td>\n",
              "      <td>0.402057</td>\n",
              "    </tr>\n",
              "  </tbody>\n",
              "</table>\n",
              "</div>"
            ],
            "text/plain": [
              "         name       map\n",
              "0  BR(TF_IDF)  0.402057"
            ]
          },
          "metadata": {},
          "execution_count": 23
        }
      ]
    },
    {
      "cell_type": "markdown",
      "metadata": {
        "id": "qBudmrwUHbr6"
      },
      "source": [
        "## Word2vec Clustering"
      ]
    },
    {
      "cell_type": "code",
      "metadata": {
        "colab": {
          "base_uri": "https://localhost:8080/"
        },
        "id": "jj3Dwiq0d6_E",
        "outputId": "8cb2d232-d528-41c8-e37b-7ecf657ab335"
      },
      "source": [
        "path = api.load(\"word2vec-google-news-300\", return_path=True)"
      ],
      "execution_count": 19,
      "outputs": [
        {
          "output_type": "stream",
          "text": [
            "[==================================================] 100.0% 1662.8/1662.8MB downloaded\n"
          ],
          "name": "stdout"
        }
      ]
    },
    {
      "cell_type": "code",
      "metadata": {
        "id": "2MVMyvDkeIOz"
      },
      "source": [
        "model = gensim.models.KeyedVectors.load_word2vec_format(path, binary=True)"
      ],
      "execution_count": 20,
      "outputs": []
    },
    {
      "cell_type": "code",
      "metadata": {
        "colab": {
          "base_uri": "https://localhost:8080/"
        },
        "id": "K2_Aa0TDh14P",
        "outputId": "84d783aa-c7f8-45aa-9351-75f77b7322a8"
      },
      "source": [
        "wv_vocab = []\n",
        "for word in data:\n",
        "    try:\n",
        "        model.wv[word]\n",
        "        wv_vocab.append(word)\n",
        "    except:\n",
        "        continue"
      ],
      "execution_count": 47,
      "outputs": [
        {
          "output_type": "stream",
          "text": [
            "/usr/local/lib/python3.7/dist-packages/ipykernel_launcher.py:4: DeprecationWarning: Call to deprecated `wv` (Attribute will be removed in 4.0.0, use self instead).\n",
            "  after removing the cwd from sys.path.\n"
          ],
          "name": "stderr"
        }
      ]
    },
    {
      "cell_type": "code",
      "metadata": {
        "id": "o2os7LJolwCT"
      },
      "source": [
        "wvm = np.zeros((len(wv_vocab), len(wv_vocab)))\n",
        " \n",
        "for i in range(len(wv_vocab)):\n",
        "    for j in range(i+1, len(wv_vocab)):\n",
        "        temp = 1 - model.similarity(wv_vocab[i], wv_vocab[j])\n",
        "        wvm[i,j], wvm[j, i] = temp, temp\n",
        "\n",
        "with open(get_np_arr_path(root_dir, 'wv'), 'wb') as f:\n",
        "    np.save(f, wvm)"
      ],
      "execution_count": 49,
      "outputs": []
    },
    {
      "cell_type": "code",
      "metadata": {
        "colab": {
          "base_uri": "https://localhost:8080/"
        },
        "id": "wVp-IJDzouBr",
        "outputId": "8231cae1-cae6-45af-9c6c-c3b64acadb60"
      },
      "source": [
        "t = [0.05, 0.1, 0.15, 0.20, 0.25, 0.30, 0.35, 0.4, 0.45, 0.5, 0.55, 0.6, 0.65, 0.7, 0.75, 0.8, 0.85, 0.9, 0.95, 1.0]\n",
        "gen_clusters(t, wvm, 'wv')"
      ],
      "execution_count": 50,
      "outputs": [
        {
          "output_type": "stream",
          "text": [
            "dumping clusters in: ./drive/MyDrive/NLP/A2/wv\n"
          ],
          "name": "stdout"
        },
        {
          "output_type": "stream",
          "text": [
            "100%|██████████| 20/20 [00:41<00:00,  2.08s/it]\n"
          ],
          "name": "stderr"
        }
      ]
    },
    {
      "cell_type": "code",
      "metadata": {
        "colab": {
          "base_uri": "https://localhost:8080/",
          "height": 265
        },
        "id": "CDgfZxCouB2L",
        "outputId": "b0b510c1-0079-423c-d9f5-a1eb8a67c86e"
      },
      "source": [
        "plot_clusters('wv')"
      ],
      "execution_count": 51,
      "outputs": [
        {
          "output_type": "display_data",
          "data": {
            "image/png": "[encoded data removed]",
            "text/plain": [
              "<Figure size 432x288 with 1 Axes>"
            ]
          },
          "metadata": {
            "needs_background": "light"
          }
        }
      ]
    },
    {
      "cell_type": "code",
      "metadata": {
        "colab": {
          "base_uri": "https://localhost:8080/",
          "height": 238
        },
        "id": "i5mwQFbcuYQQ",
        "outputId": "06e9114a-ba7d-4181-fe4b-5a2e4893b6af"
      },
      "source": [
        "cr = CorporaReader(DATASET_ROOT, stemmer=YASS_Stemmer(wv_vocab, 'wv', 80))\n",
        "corpora = cr.read()\n",
        "corpora.head()"
      ],
      "execution_count": 52,
      "outputs": [
        {
          "output_type": "stream",
          "text": [
            "Indexing all the data files\n"
          ],
          "name": "stdout"
        },
        {
          "output_type": "stream",
          "text": [
            "100%|██████████| 125586/125586 [1:26:10<00:00, 24.29it/s]\n"
          ],
          "name": "stderr"
        },
        {
          "output_type": "execute_result",
          "data": {
            "text/html": [
              "<div>\n",
              "<style scoped>\n",
              "    .dataframe tbody tr th:only-of-type {\n",
              "        vertical-align: middle;\n",
              "    }\n",
              "\n",
              "    .dataframe tbody tr th {\n",
              "        vertical-align: top;\n",
              "    }\n",
              "\n",
              "    .dataframe thead th {\n",
              "        text-align: right;\n",
              "    }\n",
              "</style>\n",
              "<table border=\"1\" class=\"dataframe\">\n",
              "  <thead>\n",
              "    <tr style=\"text-align: right;\">\n",
              "      <th></th>\n",
              "      <th>docno</th>\n",
              "      <th>text</th>\n",
              "    </tr>\n",
              "  </thead>\n",
              "  <tbody>\n",
              "    <tr>\n",
              "      <th>0</th>\n",
              "      <td>1061219_frontpage_index.utf8</td>\n",
              "      <td>telegraph calcutta frontpage l l ips l orissa ...</td>\n",
              "    </tr>\n",
              "    <tr>\n",
              "      <th>1</th>\n",
              "      <td>1060711_frontpage_index.utf8</td>\n",
              "      <td>telegraph calcutta frontpage</td>\n",
              "    </tr>\n",
              "    <tr>\n",
              "      <th>2</th>\n",
              "      <td>1060321_frontpage_story_5993623.utf8</td>\n",
              "      <td>telegraph calcutta frontpage l bs l l l buddha...</td>\n",
              "    </tr>\n",
              "    <tr>\n",
              "      <th>3</th>\n",
              "      <td>1060411_frontpage_story_6084638.utf8</td>\n",
              "      <td>telegraph calcutta frontpage subhas l l l ec l...</td>\n",
              "    </tr>\n",
              "    <tr>\n",
              "      <th>4</th>\n",
              "      <td>1061209_frontpage_story_7117673.utf8</td>\n",
              "      <td>telegraph calcutta frontpage l l ice l l l opt...</td>\n",
              "    </tr>\n",
              "  </tbody>\n",
              "</table>\n",
              "</div>"
            ],
            "text/plain": [
              "                                  docno                                               text\n",
              "0          1061219_frontpage_index.utf8  telegraph calcutta frontpage l l ips l orissa ...\n",
              "1          1060711_frontpage_index.utf8                       telegraph calcutta frontpage\n",
              "2  1060321_frontpage_story_5993623.utf8  telegraph calcutta frontpage l bs l l l buddha...\n",
              "3  1060411_frontpage_story_6084638.utf8  telegraph calcutta frontpage subhas l l l ec l...\n",
              "4  1061209_frontpage_story_7117673.utf8  telegraph calcutta frontpage l l ice l l l opt..."
            ]
          },
          "metadata": {},
          "execution_count": 52
        }
      ]
    },
    {
      "cell_type": "code",
      "metadata": {
        "colab": {
          "base_uri": "https://localhost:8080/",
          "height": 204
        },
        "id": "W9NP93TDvORX",
        "outputId": "ddee39d2-58d1-4ae1-d590-dd6b09de5a74"
      },
      "source": [
        "qr = QrelsReader(DATASET_QRELS)\n",
        "qrels = qr.read()\n",
        "qrels.head()"
      ],
      "execution_count": 53,
      "outputs": [
        {
          "output_type": "execute_result",
          "data": {
            "text/html": [
              "<div>\n",
              "<style scoped>\n",
              "    .dataframe tbody tr th:only-of-type {\n",
              "        vertical-align: middle;\n",
              "    }\n",
              "\n",
              "    .dataframe tbody tr th {\n",
              "        vertical-align: top;\n",
              "    }\n",
              "\n",
              "    .dataframe thead th {\n",
              "        text-align: right;\n",
              "    }\n",
              "</style>\n",
              "<table border=\"1\" class=\"dataframe\">\n",
              "  <thead>\n",
              "    <tr style=\"text-align: right;\">\n",
              "      <th></th>\n",
              "      <th>qid</th>\n",
              "      <th>docno</th>\n",
              "      <th>label</th>\n",
              "    </tr>\n",
              "  </thead>\n",
              "  <tbody>\n",
              "    <tr>\n",
              "      <th>0</th>\n",
              "      <td>76</td>\n",
              "      <td>1040901_nation_story_3702283.utf8</td>\n",
              "      <td>0</td>\n",
              "    </tr>\n",
              "    <tr>\n",
              "      <th>1</th>\n",
              "      <td>76</td>\n",
              "      <td>1040901_opinion_story_3675790.utf8</td>\n",
              "      <td>0</td>\n",
              "    </tr>\n",
              "    <tr>\n",
              "      <th>2</th>\n",
              "      <td>76</td>\n",
              "      <td>1040902_nation_story_3707291.utf8</td>\n",
              "      <td>0</td>\n",
              "    </tr>\n",
              "    <tr>\n",
              "      <th>3</th>\n",
              "      <td>76</td>\n",
              "      <td>1040904_opinion_story_3713095.utf8</td>\n",
              "      <td>0</td>\n",
              "    </tr>\n",
              "    <tr>\n",
              "      <th>4</th>\n",
              "      <td>76</td>\n",
              "      <td>1040908_calcutta_story_3729202.utf8</td>\n",
              "      <td>0</td>\n",
              "    </tr>\n",
              "  </tbody>\n",
              "</table>\n",
              "</div>"
            ],
            "text/plain": [
              "  qid                                docno  label\n",
              "0  76    1040901_nation_story_3702283.utf8      0\n",
              "1  76   1040901_opinion_story_3675790.utf8      0\n",
              "2  76    1040902_nation_story_3707291.utf8      0\n",
              "3  76   1040904_opinion_story_3713095.utf8      0\n",
              "4  76  1040908_calcutta_story_3729202.utf8      0"
            ]
          },
          "metadata": {},
          "execution_count": 53
        }
      ]
    },
    {
      "cell_type": "code",
      "metadata": {
        "colab": {
          "base_uri": "https://localhost:8080/",
          "height": 221
        },
        "id": "goQOhoiGvWtK",
        "outputId": "fdc0fb2a-5063-451d-ef7d-e229f8500dc3"
      },
      "source": [
        "q = QueryReader(DATASET_TOPICS, stemmer=YASS_Stemmer(data, 'levenshtein', 100))\n",
        "topics = q.read()\n",
        "topics.head()"
      ],
      "execution_count": 54,
      "outputs": [
        {
          "output_type": "stream",
          "text": [
            "100%|██████████| 50/50 [00:00<00:00, 292.09it/s]\n"
          ],
          "name": "stderr"
        },
        {
          "output_type": "execute_result",
          "data": {
            "text/html": [
              "<div>\n",
              "<style scoped>\n",
              "    .dataframe tbody tr th:only-of-type {\n",
              "        vertical-align: middle;\n",
              "    }\n",
              "\n",
              "    .dataframe tbody tr th {\n",
              "        vertical-align: top;\n",
              "    }\n",
              "\n",
              "    .dataframe thead th {\n",
              "        text-align: right;\n",
              "    }\n",
              "</style>\n",
              "<table border=\"1\" class=\"dataframe\">\n",
              "  <thead>\n",
              "    <tr style=\"text-align: right;\">\n",
              "      <th></th>\n",
              "      <th>qid</th>\n",
              "      <th>query</th>\n",
              "    </tr>\n",
              "  </thead>\n",
              "  <tbody>\n",
              "    <tr>\n",
              "      <th>0</th>\n",
              "      <td>76</td>\n",
              "      <td>met behind gay meena ok inclusion gurjars flor...</td>\n",
              "    </tr>\n",
              "    <tr>\n",
              "      <th>1</th>\n",
              "      <td>77</td>\n",
              "      <td>attacks hezbollah guerrillas indian israeli cecil</td>\n",
              "    </tr>\n",
              "    <tr>\n",
              "      <th>2</th>\n",
              "      <td>78</td>\n",
              "      <td>ted ashok singhal city vishwa hindu parishad l...</td>\n",
              "    </tr>\n",
              "    <tr>\n",
              "      <th>3</th>\n",
              "      <td>79</td>\n",
              "      <td>ants build ed god mount everest</td>\n",
              "    </tr>\n",
              "    <tr>\n",
              "      <th>4</th>\n",
              "      <td>80</td>\n",
              "      <td>initiation reds along advani involvement demol...</td>\n",
              "    </tr>\n",
              "  </tbody>\n",
              "</table>\n",
              "</div>"
            ],
            "text/plain": [
              "   qid                                              query\n",
              "0   76  met behind gay meena ok inclusion gurjars flor...\n",
              "1   77  attacks hezbollah guerrillas indian israeli cecil\n",
              "2   78  ted ashok singhal city vishwa hindu parishad l...\n",
              "3   79                    ants build ed god mount everest\n",
              "4   80  initiation reds along advani involvement demol..."
            ]
          },
          "metadata": {},
          "execution_count": 54
        }
      ]
    },
    {
      "cell_type": "code",
      "metadata": {
        "id": "FFGuRGePvZ9f"
      },
      "source": [
        "index = IndexUtil(pt, \"./pd7_index\")"
      ],
      "execution_count": 55,
      "outputs": []
    },
    {
      "cell_type": "code",
      "metadata": {
        "id": "YZCBuqyAviaE"
      },
      "source": [
        "index.buildIndex(\n",
        "    corpora, \n",
        "    'text', \n",
        "    ['docno']\n",
        ")"
      ],
      "execution_count": 56,
      "outputs": []
    },
    {
      "cell_type": "code",
      "metadata": {
        "colab": {
          "base_uri": "https://localhost:8080/",
          "height": 97
        },
        "id": "b2-8zG1Dvl4O",
        "outputId": "576103e8-f5df-487e-c9e5-bc4c12f8ee4a"
      },
      "source": [
        "print('Word2vec: ')\n",
        "index.evaluate(\n",
        "    ['TF_IDF'], \n",
        "    topics, \n",
        "    qrels, \n",
        "    ['map']\n",
        ")"
      ],
      "execution_count": 57,
      "outputs": [
        {
          "output_type": "stream",
          "text": [
            "Word2vec: \n"
          ],
          "name": "stdout"
        },
        {
          "output_type": "execute_result",
          "data": {
            "text/html": [
              "<div>\n",
              "<style scoped>\n",
              "    .dataframe tbody tr th:only-of-type {\n",
              "        vertical-align: middle;\n",
              "    }\n",
              "\n",
              "    .dataframe tbody tr th {\n",
              "        vertical-align: top;\n",
              "    }\n",
              "\n",
              "    .dataframe thead th {\n",
              "        text-align: right;\n",
              "    }\n",
              "</style>\n",
              "<table border=\"1\" class=\"dataframe\">\n",
              "  <thead>\n",
              "    <tr style=\"text-align: right;\">\n",
              "      <th></th>\n",
              "      <th>name</th>\n",
              "      <th>map</th>\n",
              "    </tr>\n",
              "  </thead>\n",
              "  <tbody>\n",
              "    <tr>\n",
              "      <th>0</th>\n",
              "      <td>BR(TF_IDF)</td>\n",
              "      <td>0.3129</td>\n",
              "    </tr>\n",
              "  </tbody>\n",
              "</table>\n",
              "</div>"
            ],
            "text/plain": [
              "         name     map\n",
              "0  BR(TF_IDF)  0.3129"
            ]
          },
          "metadata": {},
          "execution_count": 57
        }
      ]
    },
    {
      "cell_type": "markdown",
      "metadata": {
        "id": "xVnpUJTaHlJY"
      },
      "source": [
        "# Overall Results"
      ]
    },
    {
      "cell_type": "code",
      "metadata": {
        "colab": {
          "base_uri": "https://localhost:8080/",
          "height": 266
        },
        "id": "HWXOL-FIHnHU",
        "outputId": "e050ad90-4513-4936-e2de-896709bacaee"
      },
      "source": [
        "pd.DataFrame({\n",
        "    'stemmer':['Porter', 'YASS - D1', 'YASS - D2', 'YASS - D3', 'YASS - D4', 'YASS - Levenshtein', 'Word2vec'], \n",
        "    'mAP':[0.441776,0.326328,0.356716,0.382259,0.393111,0.402057, 0.3129]\n",
        "})"
      ],
      "execution_count": 4,
      "outputs": [
        {
          "output_type": "execute_result",
          "data": {
            "text/html": [
              "<div>\n",
              "<style scoped>\n",
              "    .dataframe tbody tr th:only-of-type {\n",
              "        vertical-align: middle;\n",
              "    }\n",
              "\n",
              "    .dataframe tbody tr th {\n",
              "        vertical-align: top;\n",
              "    }\n",
              "\n",
              "    .dataframe thead th {\n",
              "        text-align: right;\n",
              "    }\n",
              "</style>\n",
              "<table border=\"1\" class=\"dataframe\">\n",
              "  <thead>\n",
              "    <tr style=\"text-align: right;\">\n",
              "      <th></th>\n",
              "      <th>stemmer</th>\n",
              "      <th>mAP</th>\n",
              "    </tr>\n",
              "  </thead>\n",
              "  <tbody>\n",
              "    <tr>\n",
              "      <th>0</th>\n",
              "      <td>Porter</td>\n",
              "      <td>0.441776</td>\n",
              "    </tr>\n",
              "    <tr>\n",
              "      <th>1</th>\n",
              "      <td>YASS - D1</td>\n",
              "      <td>0.326328</td>\n",
              "    </tr>\n",
              "    <tr>\n",
              "      <th>2</th>\n",
              "      <td>YASS - D2</td>\n",
              "      <td>0.356716</td>\n",
              "    </tr>\n",
              "    <tr>\n",
              "      <th>3</th>\n",
              "      <td>YASS - D3</td>\n",
              "      <td>0.382259</td>\n",
              "    </tr>\n",
              "    <tr>\n",
              "      <th>4</th>\n",
              "      <td>YASS - D4</td>\n",
              "      <td>0.393111</td>\n",
              "    </tr>\n",
              "    <tr>\n",
              "      <th>5</th>\n",
              "      <td>YASS - Levenshtein</td>\n",
              "      <td>0.402057</td>\n",
              "    </tr>\n",
              "    <tr>\n",
              "      <th>6</th>\n",
              "      <td>Word2vec</td>\n",
              "      <td>0.312900</td>\n",
              "    </tr>\n",
              "  </tbody>\n",
              "</table>\n",
              "</div>"
            ],
            "text/plain": [
              "              stemmer       mAP\n",
              "0              Porter  0.441776\n",
              "1           YASS - D1  0.326328\n",
              "2           YASS - D2  0.356716\n",
              "3           YASS - D3  0.382259\n",
              "4           YASS - D4  0.393111\n",
              "5  YASS - Levenshtein  0.402057\n",
              "6            Word2vec  0.312900"
            ]
          },
          "metadata": {},
          "execution_count": 4
        }
      ]
    }
  ]
}