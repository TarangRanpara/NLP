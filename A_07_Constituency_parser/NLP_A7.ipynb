{
  "nbformat": 4,
  "nbformat_minor": 0,
  "metadata": {
    "colab": {
      "name": "NLP_A7.ipynb",
      "provenance": [],
      "collapsed_sections": []
    },
    "kernelspec": {
      "name": "python3",
      "display_name": "Python 3"
    },
    "language_info": {
      "name": "python"
    },
    "accelerator": "GPU"
  },
  "cells": [
    {
      "cell_type": "markdown",
      "metadata": {
        "id": "6JTMU9MAsfBt"
      },
      "source": [
        "# Submitted by Tarang Ranpara (202011057)"
      ]
    },
    {
      "cell_type": "markdown",
      "metadata": {
        "id": "2vDg9LO4snK2"
      },
      "source": [
        "## Exploring Data"
      ]
    },
    {
      "cell_type": "code",
      "metadata": {
        "colab": {
          "base_uri": "https://localhost:8080/"
        },
        "id": "SPSHUeTwhnRo",
        "outputId": "169af2c6-d6c1-4a44-a33a-69278f87e1cb"
      },
      "source": [
        "! unzip data.zip"
      ],
      "execution_count": 1,
      "outputs": [
        {
          "output_type": "stream",
          "name": "stdout",
          "text": [
            "Archive:  data.zip\n",
            "   creating: .data/PennTreebank/\n",
            "  inflating: .data/PennTreebank/ptb.test.txt  \n",
            "  inflating: .data/PennTreebank/ptb.train.txt  \n",
            "  inflating: .data/PennTreebank/ptb.valid.txt  \n"
          ]
        }
      ]
    },
    {
      "cell_type": "code",
      "metadata": {
        "id": "6C1OXipikuii"
      },
      "source": [
        "# dataset files \n",
        "train_file = '.data/PennTreebank/ptb.train.txt'\n",
        "test_file  = '.data/PennTreebank/ptb.test.txt'\n",
        "valid_file = '.data/PennTreebank/ptb.valid.txt'"
      ],
      "execution_count": 2,
      "outputs": []
    },
    {
      "cell_type": "code",
      "metadata": {
        "colab": {
          "base_uri": "https://localhost:8080/"
        },
        "id": "aFD1reAXnA8x",
        "outputId": "646bd044-d155-411d-b15c-b5d713e0421c"
      },
      "source": [
        "# checking the content of each file\n",
        "def check_content(files):\n",
        "    for file in files:\n",
        "        print(f'file: {file}')\n",
        "        with open(file, 'r') as fle:\n",
        "            lines = fle.readlines()[:3]\n",
        "            for line in lines:\n",
        "                print(line)\n",
        "        print('..................\\n')\n",
        "\n",
        "check_content([train_file, test_file, valid_file])"
      ],
      "execution_count": 3,
      "outputs": [
        {
          "output_type": "stream",
          "name": "stdout",
          "text": [
            "file: .data/PennTreebank/ptb.train.txt\n",
            " aer banknote berlitz calloway centrust cluett fromstein gitano guterman hydro-quebec ipo kia memotec mlx nahb punts rake regatta rubens sim snack-food ssangyong swapo wachter \n",
            "\n",
            " pierre <unk> N years old will join the board as a nonexecutive director nov. N \n",
            "\n",
            " mr. <unk> is chairman of <unk> n.v. the dutch publishing group \n",
            "\n",
            "..................\n",
            "\n",
            "file: .data/PennTreebank/ptb.test.txt\n",
            " no it was n't black monday \n",
            "\n",
            " but while the new york stock exchange did n't fall apart friday as the dow jones industrial average plunged N points most of it in the final hour it barely managed to stay this side of chaos \n",
            "\n",
            " some circuit breakers installed after the october N crash failed their first test traders say unable to cool the selling panic in both stocks and futures \n",
            "\n",
            "..................\n",
            "\n",
            "file: .data/PennTreebank/ptb.valid.txt\n",
            " consumers may want to move their telephones a little closer to the tv set \n",
            "\n",
            " <unk> <unk> watching abc 's monday night football can now vote during <unk> for the greatest play in N years from among four or five <unk> <unk> \n",
            "\n",
            " two weeks ago viewers of several nbc <unk> consumer segments started calling a N number for advice on various <unk> issues \n",
            "\n",
            "..................\n",
            "\n"
          ]
        }
      ]
    },
    {
      "cell_type": "code",
      "metadata": {
        "colab": {
          "base_uri": "https://localhost:8080/"
        },
        "id": "36n97yNTldF8",
        "outputId": "4da39204-ba8d-490e-fb1a-481f61674fd5"
      },
      "source": [
        "# exploring each file to know max word & seq length \n",
        "def find_max_lens(files):\n",
        "    max_word_length = 0\n",
        "    max_seq_length = 0\n",
        "    for file in files:\n",
        "        with open(file, 'r') as fle:\n",
        "            lines = fle.readlines()\n",
        "            for line in lines:\n",
        "              line = line.strip().split()\n",
        "              if len(line) > max_seq_length:\n",
        "                  max_seq_length = len(line)\n",
        "\n",
        "              for word in line:\n",
        "                  if(len(word) > max_word_length):\n",
        "                      max_word_length = len(word)\n",
        "\n",
        "    return max_seq_length, max_word_length\n",
        "\n",
        "max_seq_length, max_word_length = find_max_lens([train_file, test_file, valid_file])\n",
        "print(f'max observed seq length: {max_seq_length}')\n",
        "print(f'max observed word length: {max_word_length}')"
      ],
      "execution_count": 4,
      "outputs": [
        {
          "output_type": "stream",
          "name": "stdout",
          "text": [
            "max observed seq length: 82\n",
            "max observed word length: 19\n"
          ]
        }
      ]
    },
    {
      "cell_type": "markdown",
      "metadata": {
        "id": "N6N4jtq7LAd2"
      },
      "source": [
        "## Defining Data Loaders "
      ]
    },
    {
      "cell_type": "code",
      "metadata": {
        "colab": {
          "base_uri": "https://localhost:8080/"
        },
        "id": "Cu3SMzvbo6N7",
        "outputId": "c7f70517-902e-495f-de55-7cd406c92d25"
      },
      "source": [
        "import nltk\n",
        "import numpy as np\n",
        "import matplotlib.pyplot as plt\n",
        "import tensorflow as tf\n",
        "from tensorflow.keras import Input, Model\n",
        "from tensorflow.keras.utils import plot_model\n",
        "from tensorflow.keras.utils import to_categorical, Sequence\n",
        "from tensorflow.keras.preprocessing.text import Tokenizer\n",
        "from tensorflow.keras.preprocessing.sequence import pad_sequences\n",
        "from tensorflow.keras.metrics import Precision, Recall\n",
        "from tensorflow.keras.layers import Embedding, LSTM, Bidirectional, TimeDistributed, Concatenate, Dense\n",
        "\n",
        "nltk.download('averaged_perceptron_tagger')"
      ],
      "execution_count": 5,
      "outputs": [
        {
          "output_type": "stream",
          "name": "stdout",
          "text": [
            "[nltk_data] Downloading package averaged_perceptron_tagger to\n",
            "[nltk_data]     /root/nltk_data...\n",
            "[nltk_data]   Unzipping taggers/averaged_perceptron_tagger.zip.\n"
          ]
        },
        {
          "output_type": "execute_result",
          "data": {
            "text/plain": [
              "True"
            ]
          },
          "metadata": {},
          "execution_count": 5
        }
      ]
    },
    {
      "cell_type": "code",
      "metadata": {
        "id": "W7q4FVK6sDlT"
      },
      "source": [
        "class DataLoader(Sequence):\n",
        "    \n",
        "    '''\n",
        "      path: path to input file\n",
        "      batch_size: size of batch\n",
        "      num_classes: number of unique postags in dataset \n",
        "    '''\n",
        "    def __init__(self, path, batch_size=1, num_classes=None):\n",
        "        # user provided params \n",
        "        self.path = path \n",
        "        self.batch_size = batch_size\n",
        "\n",
        "        # configurable params  (according to the dataset we're using)\n",
        "        self.oov_token = '<unk>'\n",
        "        self.padding_type=\"post\"\n",
        "        self.trunc_type=\"post\"\n",
        "        \n",
        "        # after observing the data above (82, 19 respectively)\n",
        "        self.max_word_seq_len = 100\n",
        "        self.max_char_seq_len = 40\n",
        "\n",
        "        # gets list of sentences \n",
        "        self.sentences = self._get_sentences()\n",
        "\n",
        "        # computes indexes of sentences \n",
        "        self.indexes = np.arange(len(self.sentences))\n",
        "\n",
        "        # defining tokenizers \n",
        "        self.word_tokenizer = self._fit_tokenizer(False, True, self.sentences)\n",
        "        self.char_tokenizer = self._fit_tokenizer(True, True, self.sentences)\n",
        "\n",
        "        self.postags = self._get_postags()\n",
        "        self.postag_tokenizer = self._fit_tokenizer(False, False, self.postags)\n",
        "        \n",
        "        # vocab sizes\n",
        "        self.word_vocab_size = len(self.word_tokenizer.word_index) + 1\n",
        "        self.char_vocab_size = len(self.char_tokenizer.word_index) + 1\n",
        "        self.postag_vocab_size = len(self.postag_tokenizer.word_index) + 1\n",
        "\n",
        "        # to consider rare occurance when test/valid doesn't contain all the classes \n",
        "        self.num_classes = self.postag_vocab_size if num_classes == None else num_classes\n",
        "\n",
        "        # padded sequences\n",
        "        self.padded_word_sequences = self._get_padded_output(self.sentences, self.word_tokenizer)\n",
        "        self.padded_char_sequences = self._get_padded_output(self.sentences, self.char_tokenizer)\n",
        "        self.padded_postag_sequences = self._get_padded_output(self.postags, self.postag_tokenizer)\n",
        "\n",
        "        # Shuffle dataset\n",
        "        self.on_epoch_end()\n",
        "\n",
        "    # gets list of sentences from given file \n",
        "    def _get_sentences(self):\n",
        "        with open(self.path, 'r') as fle:\n",
        "            lines = fle.readlines()\n",
        "            res = []\n",
        "            for line in lines:\n",
        "                line = line.strip().lower()\n",
        "                res.append(line)\n",
        "        return res  \n",
        "\n",
        "    '''\n",
        "    fits and returns given type of tokenizer\n",
        "      char_level: true for chal level tokenization \n",
        "      lower: true if we want to convert text in lower \n",
        "      data: data for tokenizer\n",
        "    '''\n",
        "    def _fit_tokenizer(self, char_level, lower, data):\n",
        "        tokenizer = Tokenizer(oov_token=self.oov_token, char_level=char_level, lower=lower)\n",
        "        tokenizer.fit_on_texts(data)\n",
        "        return tokenizer\n",
        "\n",
        "    '''\n",
        "    computes postags for given tokens and \n",
        "    outputs lines containing postags for respective tokens \n",
        "    '''\n",
        "    def _get_postags(self):\n",
        "        postags = []\n",
        "        for sent in self.sentences:\n",
        "            words = self.word_tokenizer.sequences_to_texts(self.word_tokenizer.texts_to_sequences([sent]))[0].split()\n",
        "            predicted_postags = nltk.pos_tag(words)\n",
        "            postags.append(\n",
        "                ' '.join(pos for word, pos in predicted_postags)\n",
        "            )\n",
        "\n",
        "        return postags\n",
        "\n",
        "    '''\n",
        "      computes padded sequence for given sequence (word/chars)\n",
        "      input_sents: list of sequences \n",
        "      tokenizer: word/char tokenizer \n",
        "    '''\n",
        "    def _get_padded_output(self, input_sents, tokenizer):\n",
        "        if tokenizer is self.char_tokenizer:\n",
        "            padded_seqs = self._get_padded_char_sequences(input_sents, tokenizer)\n",
        "        else:\n",
        "            padded_seqs = self._get_padded_sequences(input_sents, tokenizer)\n",
        "        return padded_seqs\n",
        "\n",
        "    '''\n",
        "      computes padded sequence for given sequence (word)\n",
        "      input_sents: list of sequences \n",
        "      tokenizer: word tokenizer \n",
        "    '''\n",
        "    def _get_padded_sequences(self, input_sents, tokenizer):\n",
        "        # text -> text ids \n",
        "        tokenized_seqs = tokenizer.texts_to_sequences(input_sents)\n",
        "        \n",
        "        # pad sequences as per pre-defined max_word_seq_len\n",
        "        padded_seqs = pad_sequences(\n",
        "            # word sequences (tokens)\n",
        "            tokenized_seqs,\n",
        "\n",
        "            # max seq length\n",
        "            maxlen=self.max_word_seq_len,\n",
        "\n",
        "            # both are set to 'post'\n",
        "            padding=self.padding_type,\n",
        "            truncating=self.trunc_type\n",
        "        )\n",
        "        return padded_seqs\n",
        "\n",
        "    '''\n",
        "      computes padded sequence for given sequence (chars)\n",
        "      input_sents: list of sequences \n",
        "      tokenizer: char tokenizer \n",
        "    '''\n",
        "    def _get_padded_char_sequences(self, input_sents, tokenizer):\n",
        "        padded_word_seqs = self._get_padded_sequences(input_sents, self.word_tokenizer)\n",
        "        padded_sents = self.word_tokenizer.sequences_to_texts(padded_word_seqs)\n",
        "        \n",
        "        tokenized_padded_seqs = []\n",
        "        for sent in padded_sents:\n",
        "            words_char_tokens = tokenizer.texts_to_sequences(sent.split())\n",
        "            padded_tokens = pad_sequences(\n",
        "                # char sequences (tokens)\n",
        "                words_char_tokens,\n",
        "\n",
        "                # max seq length\n",
        "                maxlen=self.max_char_seq_len,\n",
        "\n",
        "                # both are set to 'post'\n",
        "                padding=self.padding_type,\n",
        "                truncating=self.trunc_type\n",
        "            )\n",
        "            \n",
        "            tokenized_padded_seqs.append(padded_tokens)\n",
        "\n",
        "        return np.array(tokenized_padded_seqs)\n",
        "\n",
        "    '''\n",
        "    total number of batches\n",
        "    '''\n",
        "    def __len__(self):\n",
        "        return int(np.ceil(len(self.sentences) / self.batch_size))\n",
        "\n",
        "    '''\n",
        "    returns batch of data on every iteration\n",
        "    index: implicit input denoting the index of requested batch \n",
        "    '''\n",
        "    def __getitem__(self, index):\n",
        "        indexes = self.indexes[index * self.batch_size : (index + 1) * self.batch_size]\n",
        "\n",
        "        batch_words = self.padded_word_sequences[indexes]\n",
        "        batch_chars = self.padded_char_sequences[indexes]\n",
        "        batch_postags = self.padded_postag_sequences[indexes]\n",
        "\n",
        "        return (batch_words, batch_chars), to_categorical(batch_postags, num_classes=self.num_classes)\n",
        "\n",
        "    def on_epoch_end(self):\n",
        "        np.random.shuffle(self.indexes)"
      ],
      "execution_count": 6,
      "outputs": []
    },
    {
      "cell_type": "code",
      "metadata": {
        "id": "dZd6ORPq9-dj"
      },
      "source": [
        "# defining loaders \n",
        "batch_size = 256\n",
        "\n",
        "# we'll decide value of 'num_classes' from this loader\n",
        "# (this is what fit method would have done) \n",
        "train_loader = DataLoader(\n",
        "    train_file,\n",
        "    batch_size = batch_size\n",
        ")\n",
        "\n",
        "val_loader = DataLoader(\n",
        "    valid_file,\n",
        "    batch_size = batch_size, \n",
        "    num_classes = train_loader.postag_vocab_size\n",
        ")\n",
        "\n",
        "test_loader = DataLoader(\n",
        "    test_file, \n",
        "    batch_size = batch_size, \n",
        "    num_classes = train_loader.postag_vocab_size\n",
        ")"
      ],
      "execution_count": 7,
      "outputs": []
    },
    {
      "cell_type": "code",
      "metadata": {
        "colab": {
          "base_uri": "https://localhost:8080/"
        },
        "id": "opy9LKRk_qhm",
        "outputId": "a6afd0af-b498-4e4c-a71e-7a5b5731dfb9"
      },
      "source": [
        "word_seq_len = train_loader.max_word_seq_len\n",
        "char_seq_len = train_loader.max_char_seq_len\n",
        "word_vocab_size = train_loader.word_vocab_size\n",
        "char_vocab_size = train_loader.char_vocab_size\n",
        "postag_vocab_size = train_loader.postag_vocab_size\n",
        "\n",
        "print(f'word_seq_len: {word_seq_len}')\n",
        "print(f'char_seq_len: {char_seq_len}')\n",
        "print(f'word_vocab_size: {word_vocab_size}')\n",
        "print(f'char_vocab_size: {char_vocab_size}')\n",
        "print(f'postag_vocab_size: {postag_vocab_size}')"
      ],
      "execution_count": 8,
      "outputs": [
        {
          "output_type": "stream",
          "name": "stdout",
          "text": [
            "word_seq_len: 100\n",
            "char_seq_len: 40\n",
            "word_vocab_size: 9651\n",
            "char_vocab_size: 50\n",
            "postag_vocab_size: 36\n"
          ]
        }
      ]
    },
    {
      "cell_type": "code",
      "metadata": {
        "colab": {
          "base_uri": "https://localhost:8080/"
        },
        "id": "MEqUdgYW-2D8",
        "outputId": "e32411fd-aa10-4a29-e99f-1bde03894dac"
      },
      "source": [
        "# sanity check \n",
        "print(f'train words:{train_loader[0][0][0].shape}')\n",
        "print(f'train chars:{train_loader[0][0][1].shape}')\n",
        "print(f'train postags:{train_loader[0][1].shape}')\n",
        "\n",
        "print('-----------------------------------------------')\n",
        "\n",
        "print(f'val words:{val_loader[0][0][0].shape}')\n",
        "print(f'val chars:{val_loader[0][0][1].shape}')\n",
        "print(f'val postags:{val_loader[0][1].shape}')\n",
        "\n",
        "print('-----------------------------------------------')\n",
        "\n",
        "print(f'test words:{test_loader[0][0][0].shape}')\n",
        "print(f'test chars:{test_loader[0][0][1].shape}')\n",
        "print(f'test postags:{test_loader[0][1].shape}')"
      ],
      "execution_count": 9,
      "outputs": [
        {
          "output_type": "stream",
          "name": "stdout",
          "text": [
            "train words:(256, 100)\n",
            "train chars:(256, 100, 40)\n",
            "train postags:(256, 100, 36)\n",
            "-----------------------------------------------\n",
            "val words:(256, 100)\n",
            "val chars:(256, 100, 40)\n",
            "val postags:(256, 100, 36)\n",
            "-----------------------------------------------\n",
            "test words:(256, 100)\n",
            "test chars:(256, 100, 40)\n",
            "test postags:(256, 100, 36)\n"
          ]
        }
      ]
    },
    {
      "cell_type": "markdown",
      "metadata": {
        "id": "P8mCi4htLJse"
      },
      "source": [
        "## POS Tagger Model "
      ]
    },
    {
      "cell_type": "code",
      "metadata": {
        "id": "MhvBi8JbkuxU"
      },
      "source": [
        "def pos_tagger_model(\n",
        "    vocab_sizes,\n",
        "    max_seq_lens,\n",
        "    embedding_dim=128,\n",
        "    char_lstm_units=128,\n",
        "    word_bilstm_units=128,\n",
        "    mlp_units=128,\n",
        "    name=\"POS_Tagger\", \n",
        "):\n",
        "\n",
        "    # assigning the vars\n",
        "    words_vocab_size, chars_vocab_size, postags_vocab_size = vocab_sizes\n",
        "    word_sequence_length, char_sequence_length = max_seq_lens\n",
        "\n",
        "    # Input source 1 - word sequence \n",
        "    word_sequence = Input(shape=(word_sequence_length,))\n",
        "    word_vectors = Embedding(words_vocab_size, embedding_dim, input_length=word_sequence_length)(word_sequence)\n",
        "\n",
        "    # Input source 2 - char sequence for given word sequence \n",
        "    char_sequence = Input(shape=(word_sequence_length, char_sequence_length))\n",
        "    char_vectors = Embedding(chars_vocab_size, embedding_dim, input_length=char_sequence_length)(char_sequence)\n",
        "    char_lstm_output = TimeDistributed(LSTM(char_lstm_units))(char_vectors)\n",
        "    \n",
        "    # concatinating output of both sources and applying BiLSTM\n",
        "    concat_output = Concatenate(axis=-1)([word_vectors, char_lstm_output])\n",
        "    bilstm_output = Bidirectional(LSTM(word_bilstm_units, return_sequences=True))(concat_output)\n",
        "    \n",
        "    # applying multi-layer perceptron on BiLSTM output\n",
        "    mlp_output = Dense(mlp_units, activation=\"relu\")(bilstm_output)\n",
        "    output = Dense(postags_vocab_size, activation=\"softmax\")(mlp_output)\n",
        "\n",
        "    model = Model(inputs=(word_sequence, char_sequence), outputs=output, name=name) \n",
        "    return model"
      ],
      "execution_count": 10,
      "outputs": []
    },
    {
      "cell_type": "code",
      "metadata": {
        "id": "IVft9TZ1k02U"
      },
      "source": [
        "vocab_sizes = [word_vocab_size, char_vocab_size, postag_vocab_size]\n",
        "max_seq_lens = [word_seq_len, char_seq_len]\n",
        "model = pos_tagger_model(vocab_sizes, max_seq_lens)"
      ],
      "execution_count": 11,
      "outputs": []
    },
    {
      "cell_type": "code",
      "metadata": {
        "colab": {
          "base_uri": "https://localhost:8080/"
        },
        "id": "Rfo762tUjcWf",
        "outputId": "2f844cbd-3c0c-42b0-daff-2ed56c557656"
      },
      "source": [
        "model.compile(loss=\"categorical_crossentropy\", optimizer=\"adam\", metrics=[Precision(), Recall()])\n",
        "print(model.summary())"
      ],
      "execution_count": 12,
      "outputs": [
        {
          "output_type": "stream",
          "name": "stdout",
          "text": [
            "Model: \"POS_Tagger\"\n",
            "__________________________________________________________________________________________________\n",
            "Layer (type)                    Output Shape         Param #     Connected to                     \n",
            "==================================================================================================\n",
            "input_2 (InputLayer)            [(None, 100, 40)]    0                                            \n",
            "__________________________________________________________________________________________________\n",
            "input_1 (InputLayer)            [(None, 100)]        0                                            \n",
            "__________________________________________________________________________________________________\n",
            "embedding_1 (Embedding)         (None, 100, 40, 128) 6400        input_2[0][0]                    \n",
            "__________________________________________________________________________________________________\n",
            "embedding (Embedding)           (None, 100, 128)     1235328     input_1[0][0]                    \n",
            "__________________________________________________________________________________________________\n",
            "time_distributed (TimeDistribut (None, 100, 128)     131584      embedding_1[0][0]                \n",
            "__________________________________________________________________________________________________\n",
            "concatenate (Concatenate)       (None, 100, 256)     0           embedding[0][0]                  \n",
            "                                                                 time_distributed[0][0]           \n",
            "__________________________________________________________________________________________________\n",
            "bidirectional (Bidirectional)   (None, 100, 256)     394240      concatenate[0][0]                \n",
            "__________________________________________________________________________________________________\n",
            "dense (Dense)                   (None, 100, 128)     32896       bidirectional[0][0]              \n",
            "__________________________________________________________________________________________________\n",
            "dense_1 (Dense)                 (None, 100, 36)      4644        dense[0][0]                      \n",
            "==================================================================================================\n",
            "Total params: 1,805,092\n",
            "Trainable params: 1,805,092\n",
            "Non-trainable params: 0\n",
            "__________________________________________________________________________________________________\n",
            "None\n"
          ]
        }
      ]
    },
    {
      "cell_type": "code",
      "metadata": {
        "colab": {
          "base_uri": "https://localhost:8080/",
          "height": 633
        },
        "id": "gZ2H1HuSGa5j",
        "outputId": "83be98da-e283-48e1-bc91-37f8cf64e251"
      },
      "source": [
        "# visual reprentation of model architecture \n",
        "plot_model(\n",
        "    model, \n",
        "    show_shapes = True, \n",
        "    show_layer_names = True\n",
        ")"
      ],
      "execution_count": 13,
      "outputs": [
        {
          "output_type": "execute_result",
          "data": {
            "image/png": "[encoded data removed]",
            "text/plain": [
              "<IPython.core.display.Image object>"
            ]
          },
          "metadata": {},
          "execution_count": 13
        }
      ]
    },
    {
      "cell_type": "code",
      "metadata": {
        "colab": {
          "base_uri": "https://localhost:8080/"
        },
        "id": "tKHPFdowjlWh",
        "outputId": "99c73fcd-759e-4e9f-9581-5e5f16ca84ea"
      },
      "source": [
        "epochs = 10\n",
        "earlystopping = tf.keras.callbacks.EarlyStopping(monitor='val_loss', patience=3)\n",
        "history = model.fit(train_loader, validation_data=val_loader, epochs=epochs, callbacks=[earlystopping])"
      ],
      "execution_count": 14,
      "outputs": [
        {
          "output_type": "stream",
          "name": "stdout",
          "text": [
            "Epoch 1/10\n",
            "165/165 [==============================] - 150s 843ms/step - loss: 0.6762 - precision: 0.9744 - recall: 0.7649 - val_loss: 0.5752 - val_precision: 0.9507 - val_recall: 0.8321\n",
            "Epoch 2/10\n",
            "165/165 [==============================] - 138s 835ms/step - loss: 0.1425 - precision: 0.9887 - recall: 0.9385 - val_loss: 1.5151 - val_precision: 0.8637 - val_recall: 0.8508\n",
            "Epoch 3/10\n",
            "165/165 [==============================] - 137s 833ms/step - loss: 0.0517 - precision: 0.9894 - recall: 0.9814 - val_loss: 1.7709 - val_precision: 0.8594 - val_recall: 0.8514\n",
            "Epoch 4/10\n",
            "165/165 [==============================] - 138s 836ms/step - loss: 0.0386 - precision: 0.9911 - recall: 0.9857 - val_loss: 1.8792 - val_precision: 0.8589 - val_recall: 0.8522\n"
          ]
        }
      ]
    },
    {
      "cell_type": "code",
      "metadata": {
        "colab": {
          "base_uri": "https://localhost:8080/",
          "height": 281
        },
        "id": "0yYV-bBAqSnd",
        "outputId": "b6ff72dc-9b1d-4584-ba8d-14e207f8f95f"
      },
      "source": [
        "plt.title(\"Loss plot\")\n",
        "plt.plot(history.history[\"loss\"], label=\"loss\")\n",
        "plt.plot(history.history[\"val_loss\"], label=\"val_loss\")\n",
        "plt.legend()\n",
        "plt.show()"
      ],
      "execution_count": 15,
      "outputs": [
        {
          "output_type": "display_data",
          "data": {
            "image/png": "[encoded data removed]",
            "text/plain": [
              "<Figure size 432x288 with 1 Axes>"
            ]
          },
          "metadata": {
            "needs_background": "light"
          }
        }
      ]
    },
    {
      "cell_type": "code",
      "metadata": {
        "colab": {
          "base_uri": "https://localhost:8080/",
          "height": 281
        },
        "id": "QEniL5ZzqVXn",
        "outputId": "cb4ff3ba-38dd-4256-a3e1-a7b2e3715ff2"
      },
      "source": [
        "plt.title(\"precision plot\")\n",
        "plt.plot(history.history[\"precision\"], label=\"precision\")\n",
        "plt.plot(history.history[\"val_precision\"], label=\"val_precision\")\n",
        "plt.legend()\n",
        "plt.show()"
      ],
      "execution_count": 16,
      "outputs": [
        {
          "output_type": "display_data",
          "data": {
            "image/png": "[encoded data removed]",
            "text/plain": [
              "<Figure size 432x288 with 1 Axes>"
            ]
          },
          "metadata": {
            "needs_background": "light"
          }
        }
      ]
    },
    {
      "cell_type": "code",
      "metadata": {
        "colab": {
          "base_uri": "https://localhost:8080/",
          "height": 281
        },
        "id": "j2wkvkvtqmM7",
        "outputId": "c6c12fcc-2ded-4585-c590-87dd76da7ad6"
      },
      "source": [
        "plt.title(\"recall plot\")\n",
        "plt.plot(history.history[\"recall\"], label=\"recall\")\n",
        "plt.plot(history.history[\"val_recall\"], label=\"val_recall\")\n",
        "plt.legend()\n",
        "plt.show()"
      ],
      "execution_count": 17,
      "outputs": [
        {
          "output_type": "display_data",
          "data": {
            "image/png": "[encoded data removed]",
            "text/plain": [
              "<Figure size 432x288 with 1 Axes>"
            ]
          },
          "metadata": {
            "needs_background": "light"
          }
        }
      ]
    },
    {
      "cell_type": "code",
      "metadata": {
        "colab": {
          "base_uri": "https://localhost:8080/"
        },
        "id": "J294rvvnqv11",
        "outputId": "22f71810-afb3-4054-a72c-e9fd072f3f2f"
      },
      "source": [
        "scores = model.evaluate(test_loader)"
      ],
      "execution_count": 18,
      "outputs": [
        {
          "output_type": "stream",
          "name": "stdout",
          "text": [
            "15/15 [==============================] - 4s 246ms/step - loss: 2.0103 - precision: 0.8616 - recall: 0.8549\n"
          ]
        }
      ]
    },
    {
      "cell_type": "code",
      "metadata": {
        "id": "KqpFX7UU_v0B",
        "colab": {
          "base_uri": "https://localhost:8080/"
        },
        "outputId": "e99a869f-9a0b-4250-b7b8-cb42b3e0d71d"
      },
      "source": [
        "precision = scores[1]\n",
        "recall = scores[2]\n",
        "\n",
        "f1_score = (2 * precision * recall) / (precision + recall)\n",
        "\n",
        "print(f\"Test F1-score: {round(f1_score, 3)}\")"
      ],
      "execution_count": 19,
      "outputs": [
        {
          "output_type": "stream",
          "name": "stdout",
          "text": [
            "Test F1-score: 0.858\n"
          ]
        }
      ]
    }
  ]
}