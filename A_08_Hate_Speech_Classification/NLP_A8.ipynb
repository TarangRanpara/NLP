{
  "nbformat": 4,
  "nbformat_minor": 0,
  "metadata": {
    "accelerator": "GPU",
    "colab": {
      "name": "202011057_NLP_Assignment_8.ipynb",
      "provenance": [],
      "collapsed_sections": []
    },
    "kernelspec": {
      "display_name": "Python 3",
      "name": "python3"
    },
    "language_info": {
      "name": "python"
    }
  },
  "cells": [
    {
      "cell_type": "markdown",
      "metadata": {
        "id": "pyPei1w4ptMB"
      },
      "source": [
        "# Assignment-8\n",
        "\n",
        "Author: Tarang Ranpara (201011057)"
      ]
    },
    {
      "cell_type": "code",
      "metadata": {
        "id": "gKsTi1lvrW7F"
      },
      "source": [
        "import numpy as np\n",
        "import pandas as pd\n",
        "import matplotlib.pyplot as plt\n",
        "import tensorflow as tf\n",
        "from tensorflow.keras.layers import Input, Dense, Dropout, Embedding, LSTM, Bidirectional\n",
        "from tensorflow.keras.preprocessing.text import Tokenizer\n",
        "from tensorflow.keras.preprocessing.sequence import pad_sequences"
      ],
      "execution_count": 1,
      "outputs": []
    },
    {
      "cell_type": "code",
      "metadata": {
        "colab": {
          "base_uri": "https://localhost:8080/"
        },
        "id": "edoiBo0FqVoF",
        "outputId": "e6310e8c-a7f5-44f1-a207-c2107f32d345"
      },
      "source": [
        "# downloading the dataset \n",
        "!gdown https://drive.google.com/uc?id=18l6IwSqavnqtLQpVnrRqOugZf9XkhEAN"
      ],
      "execution_count": 2,
      "outputs": [
        {
          "output_type": "stream",
          "name": "stdout",
          "text": [
            "Downloading...\n",
            "From: https://drive.google.com/uc?id=18l6IwSqavnqtLQpVnrRqOugZf9XkhEAN\n",
            "To: /content/jigsaw-toxic-comment-classification-challenge.zip\n",
            "100% 55.2M/55.2M [00:00<00:00, 151MB/s]\n"
          ]
        }
      ]
    },
    {
      "cell_type": "code",
      "metadata": {
        "colab": {
          "base_uri": "https://localhost:8080/"
        },
        "id": "9ATcJ49uqzGF",
        "outputId": "6889e126-d798-4e3c-9983-71d0430356ec"
      },
      "source": [
        "# unzipping\n",
        "!unzip /content/jigsaw-toxic-comment-classification-challenge.zip\n",
        "!unzip /content/train.csv.zip"
      ],
      "execution_count": 3,
      "outputs": [
        {
          "output_type": "stream",
          "name": "stdout",
          "text": [
            "Archive:  /content/jigsaw-toxic-comment-classification-challenge.zip\n",
            "  inflating: sample_submission.csv.zip  \n",
            "  inflating: test.csv.zip            \n",
            "  inflating: test_labels.csv.zip     \n",
            "  inflating: train.csv.zip           \n",
            "Archive:  /content/train.csv.zip\n",
            "  inflating: train.csv               \n"
          ]
        }
      ]
    },
    {
      "cell_type": "code",
      "metadata": {
        "id": "fdhLsfERtExn"
      },
      "source": [
        "# train data \n",
        "df = pd.read_csv(\"/content/train.csv\")"
      ],
      "execution_count": 2,
      "outputs": []
    },
    {
      "cell_type": "code",
      "metadata": {
        "colab": {
          "base_uri": "https://localhost:8080/",
          "height": 255
        },
        "id": "9gMJmhBrtMEv",
        "outputId": "6abc4136-b097-48cd-cca4-395e8d47d8b2"
      },
      "source": [
        "df.head()"
      ],
      "execution_count": 3,
      "outputs": [
        {
          "output_type": "execute_result",
          "data": {
            "text/html": [
              "<div>\n",
              "<style scoped>\n",
              "    .dataframe tbody tr th:only-of-type {\n",
              "        vertical-align: middle;\n",
              "    }\n",
              "\n",
              "    .dataframe tbody tr th {\n",
              "        vertical-align: top;\n",
              "    }\n",
              "\n",
              "    .dataframe thead th {\n",
              "        text-align: right;\n",
              "    }\n",
              "</style>\n",
              "<table border=\"1\" class=\"dataframe\">\n",
              "  <thead>\n",
              "    <tr style=\"text-align: right;\">\n",
              "      <th></th>\n",
              "      <th>id</th>\n",
              "      <th>comment_text</th>\n",
              "      <th>toxic</th>\n",
              "      <th>severe_toxic</th>\n",
              "      <th>obscene</th>\n",
              "      <th>threat</th>\n",
              "      <th>insult</th>\n",
              "      <th>identity_hate</th>\n",
              "    </tr>\n",
              "  </thead>\n",
              "  <tbody>\n",
              "    <tr>\n",
              "      <th>0</th>\n",
              "      <td>0000997932d777bf</td>\n",
              "      <td>Explanation\\nWhy the edits made under my usern...</td>\n",
              "      <td>0</td>\n",
              "      <td>0</td>\n",
              "      <td>0</td>\n",
              "      <td>0</td>\n",
              "      <td>0</td>\n",
              "      <td>0</td>\n",
              "    </tr>\n",
              "    <tr>\n",
              "      <th>1</th>\n",
              "      <td>000103f0d9cfb60f</td>\n",
              "      <td>D'aww! He matches this background colour I'm s...</td>\n",
              "      <td>0</td>\n",
              "      <td>0</td>\n",
              "      <td>0</td>\n",
              "      <td>0</td>\n",
              "      <td>0</td>\n",
              "      <td>0</td>\n",
              "    </tr>\n",
              "    <tr>\n",
              "      <th>2</th>\n",
              "      <td>000113f07ec002fd</td>\n",
              "      <td>Hey man, I'm really not trying to edit war. It...</td>\n",
              "      <td>0</td>\n",
              "      <td>0</td>\n",
              "      <td>0</td>\n",
              "      <td>0</td>\n",
              "      <td>0</td>\n",
              "      <td>0</td>\n",
              "    </tr>\n",
              "    <tr>\n",
              "      <th>3</th>\n",
              "      <td>0001b41b1c6bb37e</td>\n",
              "      <td>\"\\nMore\\nI can't make any real suggestions on ...</td>\n",
              "      <td>0</td>\n",
              "      <td>0</td>\n",
              "      <td>0</td>\n",
              "      <td>0</td>\n",
              "      <td>0</td>\n",
              "      <td>0</td>\n",
              "    </tr>\n",
              "    <tr>\n",
              "      <th>4</th>\n",
              "      <td>0001d958c54c6e35</td>\n",
              "      <td>You, sir, are my hero. Any chance you remember...</td>\n",
              "      <td>0</td>\n",
              "      <td>0</td>\n",
              "      <td>0</td>\n",
              "      <td>0</td>\n",
              "      <td>0</td>\n",
              "      <td>0</td>\n",
              "    </tr>\n",
              "  </tbody>\n",
              "</table>\n",
              "</div>"
            ],
            "text/plain": [
              "                 id  ... identity_hate\n",
              "0  0000997932d777bf  ...             0\n",
              "1  000103f0d9cfb60f  ...             0\n",
              "2  000113f07ec002fd  ...             0\n",
              "3  0001b41b1c6bb37e  ...             0\n",
              "4  0001d958c54c6e35  ...             0\n",
              "\n",
              "[5 rows x 8 columns]"
            ]
          },
          "metadata": {},
          "execution_count": 3
        }
      ]
    },
    {
      "cell_type": "code",
      "metadata": {
        "colab": {
          "base_uri": "https://localhost:8080/",
          "height": 289
        },
        "id": "N5syG1EPtPlx",
        "outputId": "712870b2-e1f8-40bf-f4a5-6efa25367f72"
      },
      "source": [
        "labels = ['toxic', 'severe_toxic', 'obscene', 'threat', 'insult', 'identity_hate']\n",
        "\n",
        "# adding 'none' label for a scenario where record is classified in neither of the given classes \n",
        "df['none'] = 1 - df[labels].max(axis=1)\n",
        "df.head()"
      ],
      "execution_count": 4,
      "outputs": [
        {
          "output_type": "execute_result",
          "data": {
            "text/html": [
              "<div>\n",
              "<style scoped>\n",
              "    .dataframe tbody tr th:only-of-type {\n",
              "        vertical-align: middle;\n",
              "    }\n",
              "\n",
              "    .dataframe tbody tr th {\n",
              "        vertical-align: top;\n",
              "    }\n",
              "\n",
              "    .dataframe thead th {\n",
              "        text-align: right;\n",
              "    }\n",
              "</style>\n",
              "<table border=\"1\" class=\"dataframe\">\n",
              "  <thead>\n",
              "    <tr style=\"text-align: right;\">\n",
              "      <th></th>\n",
              "      <th>id</th>\n",
              "      <th>comment_text</th>\n",
              "      <th>toxic</th>\n",
              "      <th>severe_toxic</th>\n",
              "      <th>obscene</th>\n",
              "      <th>threat</th>\n",
              "      <th>insult</th>\n",
              "      <th>identity_hate</th>\n",
              "      <th>none</th>\n",
              "    </tr>\n",
              "  </thead>\n",
              "  <tbody>\n",
              "    <tr>\n",
              "      <th>0</th>\n",
              "      <td>0000997932d777bf</td>\n",
              "      <td>Explanation\\nWhy the edits made under my usern...</td>\n",
              "      <td>0</td>\n",
              "      <td>0</td>\n",
              "      <td>0</td>\n",
              "      <td>0</td>\n",
              "      <td>0</td>\n",
              "      <td>0</td>\n",
              "      <td>1</td>\n",
              "    </tr>\n",
              "    <tr>\n",
              "      <th>1</th>\n",
              "      <td>000103f0d9cfb60f</td>\n",
              "      <td>D'aww! He matches this background colour I'm s...</td>\n",
              "      <td>0</td>\n",
              "      <td>0</td>\n",
              "      <td>0</td>\n",
              "      <td>0</td>\n",
              "      <td>0</td>\n",
              "      <td>0</td>\n",
              "      <td>1</td>\n",
              "    </tr>\n",
              "    <tr>\n",
              "      <th>2</th>\n",
              "      <td>000113f07ec002fd</td>\n",
              "      <td>Hey man, I'm really not trying to edit war. It...</td>\n",
              "      <td>0</td>\n",
              "      <td>0</td>\n",
              "      <td>0</td>\n",
              "      <td>0</td>\n",
              "      <td>0</td>\n",
              "      <td>0</td>\n",
              "      <td>1</td>\n",
              "    </tr>\n",
              "    <tr>\n",
              "      <th>3</th>\n",
              "      <td>0001b41b1c6bb37e</td>\n",
              "      <td>\"\\nMore\\nI can't make any real suggestions on ...</td>\n",
              "      <td>0</td>\n",
              "      <td>0</td>\n",
              "      <td>0</td>\n",
              "      <td>0</td>\n",
              "      <td>0</td>\n",
              "      <td>0</td>\n",
              "      <td>1</td>\n",
              "    </tr>\n",
              "    <tr>\n",
              "      <th>4</th>\n",
              "      <td>0001d958c54c6e35</td>\n",
              "      <td>You, sir, are my hero. Any chance you remember...</td>\n",
              "      <td>0</td>\n",
              "      <td>0</td>\n",
              "      <td>0</td>\n",
              "      <td>0</td>\n",
              "      <td>0</td>\n",
              "      <td>0</td>\n",
              "      <td>1</td>\n",
              "    </tr>\n",
              "  </tbody>\n",
              "</table>\n",
              "</div>"
            ],
            "text/plain": [
              "                 id  ... none\n",
              "0  0000997932d777bf  ...    1\n",
              "1  000103f0d9cfb60f  ...    1\n",
              "2  000113f07ec002fd  ...    1\n",
              "3  0001b41b1c6bb37e  ...    1\n",
              "4  0001d958c54c6e35  ...    1\n",
              "\n",
              "[5 rows x 9 columns]"
            ]
          },
          "metadata": {},
          "execution_count": 4
        }
      ]
    },
    {
      "cell_type": "code",
      "metadata": {
        "id": "2P422quIZfQg"
      },
      "source": [
        "df['none'] = 1 - df[labels].max(axis=1)\n",
        "\n",
        "# filling null with <unknown> token \n",
        "df['comment_text'].fillna('<unknown>',inplace=True)"
      ],
      "execution_count": 5,
      "outputs": []
    },
    {
      "cell_type": "code",
      "metadata": {
        "id": "QqgCXYFwaEKx"
      },
      "source": [
        "# updated labels\n",
        "labels = ['toxic', 'severe_toxic', 'obscene', 'threat', 'insult', 'identity_hate', 'none']"
      ],
      "execution_count": 6,
      "outputs": []
    },
    {
      "cell_type": "code",
      "metadata": {
        "id": "r9fdDdlfaJcC"
      },
      "source": [
        "# maximum sequence length of input (i.e. every sequence will be padded upto this length)\n",
        "max_sequence_length = 128\n",
        "\n",
        "# tokenizer - to split text sequence into tokens \n",
        "tokenizer = Tokenizer()\n",
        "tokenizer.fit_on_texts(df['comment_text'])\n",
        "sequences = tokenizer.texts_to_sequences(df['comment_text'])\n",
        "\n",
        "# to pad the sequences upto max length \n",
        "pad_sequences = pad_sequences(sequences, maxlen=max_sequence_length)"
      ],
      "execution_count": 7,
      "outputs": []
    },
    {
      "cell_type": "code",
      "metadata": {
        "id": "IP_CnGdLbKcn"
      },
      "source": [
        "def build_model(vocab_size, max_sequence_length, n_class):\n",
        "    input = Input(shape=(max_sequence_length,))\n",
        "\n",
        "    # step-1: calculating embedding of input sequenes\n",
        "    # transforms: (batch_size x max_seq_len) -> (batch size x max_seq_len x embedding_dim)\n",
        "    \n",
        "    # step-2: applying bidirectional lstm\n",
        "    # transforms: (batch_size x 2*16)\n",
        "    x = Bidirectional(LSTM(16))(Embedding(input_dim=vocab_size, output_dim=64, input_length=max_sequence_length, embeddings_initializer='random_normal')(input))\n",
        "    x = Dropout(0.5)(x)\n",
        "\n",
        "    # step-3: dense layer: 32 -> 16\n",
        "    x = Dense(16, activation='relu')(x)\n",
        "\n",
        "    # step-4: dense layer: 16 -> 7\n",
        "    output = Dense(n_class, activation='sigmoid')(x)\n",
        "    \n",
        "    model = tf.keras.Model(inputs=input, outputs=output)\n",
        "\n",
        "    # loss:  binary cross entropy\n",
        "    # optimizer: Adam  \n",
        "    model.compile (optimizer='adam', \n",
        "                   loss=\"binary_crossentropy\", \n",
        "                   metrics=['accuracy', 'Precision', 'Recall'])\n",
        "    \n",
        "    return model"
      ],
      "execution_count": 11,
      "outputs": []
    },
    {
      "cell_type": "code",
      "metadata": {
        "colab": {
          "base_uri": "https://localhost:8080/"
        },
        "id": "JrjgTZdTb_qL",
        "outputId": "50b2f102-ced4-4d44-af27-b295b317fa88"
      },
      "source": [
        "vocab_size = len(tokenizer.word_index) + 1\n",
        "n_class = len(labels)\n",
        "model = build_model(vocab_size, max_sequence_length, n_class)\n",
        "model.summary()"
      ],
      "execution_count": 12,
      "outputs": [
        {
          "output_type": "stream",
          "name": "stdout",
          "text": [
            "Model: \"model_1\"\n",
            "_________________________________________________________________\n",
            " Layer (type)                Output Shape              Param #   \n",
            "=================================================================\n",
            " input_2 (InputLayer)        [(None, 128)]             0         \n",
            "                                                                 \n",
            " embedding_1 (Embedding)     (None, 128, 64)           13461632  \n",
            "                                                                 \n",
            " bidirectional_1 (Bidirectio  (None, 32)               10368     \n",
            " nal)                                                            \n",
            "                                                                 \n",
            " dropout_1 (Dropout)         (None, 32)                0         \n",
            "                                                                 \n",
            " dense_2 (Dense)             (None, 16)                528       \n",
            "                                                                 \n",
            " dense_3 (Dense)             (None, 7)                 119       \n",
            "                                                                 \n",
            "=================================================================\n",
            "Total params: 13,472,647\n",
            "Trainable params: 13,472,647\n",
            "Non-trainable params: 0\n",
            "_________________________________________________________________\n"
          ]
        }
      ]
    },
    {
      "cell_type": "code",
      "metadata": {
        "colab": {
          "base_uri": "https://localhost:8080/"
        },
        "id": "MIUWgSLScEX6",
        "outputId": "4eda0464-e127-4cd0-ecce-13d99bdb85ab"
      },
      "source": [
        "batch_size = 1024\n",
        "epochs = 20\n",
        "\n",
        "# fitting the model \n",
        "history = model.fit(pad_sequences, \n",
        "                    y=df[labels],\n",
        "                    batch_size=batch_size,\n",
        "                    epochs=epochs, \n",
        "                    validation_split=0.1,\n",
        "                    shuffle = True\n",
        "                    )"
      ],
      "execution_count": 13,
      "outputs": [
        {
          "output_type": "stream",
          "name": "stdout",
          "text": [
            "Epoch 1/20\n",
            "141/141 [==============================] - 16s 80ms/step - loss: 0.3426 - accuracy: 0.6103 - precision: 0.5283 - recall: 0.7960 - val_loss: 0.1395 - val_accuracy: 0.8979 - val_precision: 0.8968 - val_recall: 0.8027\n",
            "Epoch 2/20\n",
            "141/141 [==============================] - 10s 71ms/step - loss: 0.1057 - accuracy: 0.9290 - precision: 0.9092 - recall: 0.8629 - val_loss: 0.0732 - val_accuracy: 0.9520 - val_precision: 0.9260 - val_recall: 0.9109\n",
            "Epoch 3/20\n",
            "141/141 [==============================] - 10s 70ms/step - loss: 0.0674 - accuracy: 0.9610 - precision: 0.9358 - recall: 0.9208 - val_loss: 0.0662 - val_accuracy: 0.9601 - val_precision: 0.9394 - val_recall: 0.9198\n",
            "Epoch 4/20\n",
            "141/141 [==============================] - 10s 70ms/step - loss: 0.0559 - accuracy: 0.9695 - precision: 0.9462 - recall: 0.9320 - val_loss: 0.0637 - val_accuracy: 0.9590 - val_precision: 0.9352 - val_recall: 0.9220\n",
            "Epoch 5/20\n",
            "141/141 [==============================] - 10s 69ms/step - loss: 0.0493 - accuracy: 0.9747 - precision: 0.9516 - recall: 0.9392 - val_loss: 0.0649 - val_accuracy: 0.9580 - val_precision: 0.9371 - val_recall: 0.9188\n",
            "Epoch 6/20\n",
            "141/141 [==============================] - 10s 69ms/step - loss: 0.0441 - accuracy: 0.9787 - precision: 0.9563 - recall: 0.9442 - val_loss: 0.0692 - val_accuracy: 0.9573 - val_precision: 0.9353 - val_recall: 0.9203\n",
            "Epoch 7/20\n",
            "141/141 [==============================] - 10s 72ms/step - loss: 0.0408 - accuracy: 0.9812 - precision: 0.9603 - recall: 0.9477 - val_loss: 0.0698 - val_accuracy: 0.9546 - val_precision: 0.9350 - val_recall: 0.9176\n",
            "Epoch 8/20\n",
            "141/141 [==============================] - 10s 70ms/step - loss: 0.0382 - accuracy: 0.9830 - precision: 0.9627 - recall: 0.9502 - val_loss: 0.0772 - val_accuracy: 0.9581 - val_precision: 0.9431 - val_recall: 0.9174\n",
            "Epoch 9/20\n",
            "141/141 [==============================] - 10s 70ms/step - loss: 0.0361 - accuracy: 0.9849 - precision: 0.9655 - recall: 0.9526 - val_loss: 0.0761 - val_accuracy: 0.9536 - val_precision: 0.9370 - val_recall: 0.9151\n",
            "Epoch 10/20\n",
            "141/141 [==============================] - 10s 69ms/step - loss: 0.0347 - accuracy: 0.9860 - precision: 0.9673 - recall: 0.9542 - val_loss: 0.0775 - val_accuracy: 0.9519 - val_precision: 0.9351 - val_recall: 0.9132\n",
            "Epoch 11/20\n",
            "141/141 [==============================] - 10s 69ms/step - loss: 0.0329 - accuracy: 0.9873 - precision: 0.9695 - recall: 0.9561 - val_loss: 0.0812 - val_accuracy: 0.9544 - val_precision: 0.9385 - val_recall: 0.9147\n",
            "Epoch 12/20\n",
            "141/141 [==============================] - 10s 69ms/step - loss: 0.0318 - accuracy: 0.9878 - precision: 0.9703 - recall: 0.9572 - val_loss: 0.0821 - val_accuracy: 0.9540 - val_precision: 0.9381 - val_recall: 0.9154\n",
            "Epoch 13/20\n",
            "141/141 [==============================] - 10s 69ms/step - loss: 0.0308 - accuracy: 0.9887 - precision: 0.9723 - recall: 0.9585 - val_loss: 0.0857 - val_accuracy: 0.9544 - val_precision: 0.9382 - val_recall: 0.9145\n",
            "Epoch 14/20\n",
            "141/141 [==============================] - 10s 69ms/step - loss: 0.0300 - accuracy: 0.9891 - precision: 0.9731 - recall: 0.9587 - val_loss: 0.0883 - val_accuracy: 0.9520 - val_precision: 0.9356 - val_recall: 0.9118\n",
            "Epoch 15/20\n",
            "141/141 [==============================] - 10s 70ms/step - loss: 0.0290 - accuracy: 0.9898 - precision: 0.9740 - recall: 0.9598 - val_loss: 0.0915 - val_accuracy: 0.9546 - val_precision: 0.9417 - val_recall: 0.9117\n",
            "Epoch 16/20\n",
            "141/141 [==============================] - 10s 70ms/step - loss: 0.0281 - accuracy: 0.9902 - precision: 0.9751 - recall: 0.9610 - val_loss: 0.0935 - val_accuracy: 0.9519 - val_precision: 0.9354 - val_recall: 0.9121\n",
            "Epoch 17/20\n",
            "141/141 [==============================] - 10s 69ms/step - loss: 0.0277 - accuracy: 0.9900 - precision: 0.9751 - recall: 0.9613 - val_loss: 0.0927 - val_accuracy: 0.9528 - val_precision: 0.9381 - val_recall: 0.9123\n",
            "Epoch 18/20\n",
            "141/141 [==============================] - 10s 70ms/step - loss: 0.0271 - accuracy: 0.9905 - precision: 0.9763 - recall: 0.9620 - val_loss: 0.0951 - val_accuracy: 0.9515 - val_precision: 0.9358 - val_recall: 0.9116\n",
            "Epoch 19/20\n",
            "141/141 [==============================] - 10s 70ms/step - loss: 0.0266 - accuracy: 0.9902 - precision: 0.9769 - recall: 0.9625 - val_loss: 0.0988 - val_accuracy: 0.9513 - val_precision: 0.9355 - val_recall: 0.9117\n",
            "Epoch 20/20\n",
            "141/141 [==============================] - 10s 70ms/step - loss: 0.0261 - accuracy: 0.9902 - precision: 0.9772 - recall: 0.9630 - val_loss: 0.0959 - val_accuracy: 0.9464 - val_precision: 0.9316 - val_recall: 0.9064\n"
          ]
        }
      ]
    },
    {
      "cell_type": "code",
      "metadata": {
        "colab": {
          "base_uri": "https://localhost:8080/",
          "height": 295
        },
        "id": "Z17qdhCqf8w9",
        "outputId": "9998b38e-d29b-4ffe-9a8d-f267a6fc5d31"
      },
      "source": [
        "# plotting training and validation accuracy \n",
        "plt.plot(history.history['accuracy'], label='Training Accuracy')\n",
        "plt.plot(history.history['val_accuracy'], label='Validation Accuracy')\n",
        "plt.title('Training and Validation Accuracy')\n",
        "plt.xlabel('Epoch')\n",
        "plt.ylabel('Metric Value')\n",
        "plt.legend()\n",
        "plt.show()"
      ],
      "execution_count": 14,
      "outputs": [
        {
          "output_type": "display_data",
          "data": {
            "image/png": "[encoded data removed]",
            "text/plain": [
              "<Figure size 432x288 with 1 Axes>"
            ]
          },
          "metadata": {
            "needs_background": "light"
          }
        }
      ]
    },
    {
      "cell_type": "code",
      "metadata": {
        "colab": {
          "base_uri": "https://localhost:8080/",
          "height": 295
        },
        "id": "tA9uXW8cgR9S",
        "outputId": "4802ed36-8420-44c8-e0b3-6b708ff68465"
      },
      "source": [
        "# plotting training and validation precision \n",
        "plt.plot(history.history['precision'], label='Training Precision')\n",
        "plt.plot(history.history['val_precision'], label='Validation Precision')\n",
        "plt.title('Training and Validation Precision')\n",
        "plt.xlabel('Epoch')\n",
        "plt.ylabel('Metric Value')\n",
        "plt.legend()\n",
        "plt.show()"
      ],
      "execution_count": 15,
      "outputs": [
        {
          "output_type": "display_data",
          "data": {
            "image/png": "[encoded data removed]",
            "text/plain": [
              "<Figure size 432x288 with 1 Axes>"
            ]
          },
          "metadata": {
            "needs_background": "light"
          }
        }
      ]
    },
    {
      "cell_type": "code",
      "metadata": {
        "colab": {
          "base_uri": "https://localhost:8080/",
          "height": 295
        },
        "id": "qKuwMZiQhPGx",
        "outputId": "97065b0b-9eaf-4f30-a4a6-6f990e4de326"
      },
      "source": [
        "# plotting training and validation recall \n",
        "plt.plot(history.history['recall'], label='Training Recall')\n",
        "plt.plot(history.history['val_recall'], label='Validation Recall')\n",
        "plt.title('Training and Validation Recall')\n",
        "plt.xlabel('Epoch')\n",
        "plt.ylabel('Metric Value')\n",
        "plt.legend()\n",
        "plt.show()"
      ],
      "execution_count": 16,
      "outputs": [
        {
          "output_type": "display_data",
          "data": {
            "image/png": "[encoded data removed]",
            "text/plain": [
              "<Figure size 432x288 with 1 Axes>"
            ]
          },
          "metadata": {
            "needs_background": "light"
          }
        }
      ]
    },
    {
      "cell_type": "code",
      "metadata": {
        "id": "nxdpbTrHipQ4"
      },
      "source": [
        "# defining f1 score \n",
        "def f1(prec, recall):\n",
        "    return (2 * prec * recall) / (prec + recall)"
      ],
      "execution_count": 17,
      "outputs": []
    },
    {
      "cell_type": "code",
      "metadata": {
        "colab": {
          "base_uri": "https://localhost:8080/",
          "height": 111
        },
        "id": "x6gDmyPvEjd1",
        "outputId": "8f500c5b-c902-4240-b0ec-455855b9dbec"
      },
      "source": [
        "# final scores \n",
        "pd.DataFrame(dict({\n",
        "    'precision': [history.history[\"precision\"][-1], history.history[\"val_precision\"][-1]], \n",
        "    'recall': [history.history[\"recall\"][-1], history.history[\"val_recall\"][-1]], \n",
        "    'f1': [f1(history.history[\"precision\"][-1],history.history[\"recall\"][-1]), f1(history.history[\"val_precision\"][-1],history.history[\"val_recall\"][-1])], \n",
        "}), index = ['train', 'validation'])"
      ],
      "execution_count": 21,
      "outputs": [
        {
          "output_type": "execute_result",
          "data": {
            "text/html": [
              "<div>\n",
              "<style scoped>\n",
              "    .dataframe tbody tr th:only-of-type {\n",
              "        vertical-align: middle;\n",
              "    }\n",
              "\n",
              "    .dataframe tbody tr th {\n",
              "        vertical-align: top;\n",
              "    }\n",
              "\n",
              "    .dataframe thead th {\n",
              "        text-align: right;\n",
              "    }\n",
              "</style>\n",
              "<table border=\"1\" class=\"dataframe\">\n",
              "  <thead>\n",
              "    <tr style=\"text-align: right;\">\n",
              "      <th></th>\n",
              "      <th>precision</th>\n",
              "      <th>recall</th>\n",
              "      <th>f1</th>\n",
              "    </tr>\n",
              "  </thead>\n",
              "  <tbody>\n",
              "    <tr>\n",
              "      <th>train</th>\n",
              "      <td>0.977203</td>\n",
              "      <td>0.962985</td>\n",
              "      <td>0.970042</td>\n",
              "    </tr>\n",
              "    <tr>\n",
              "      <th>validation</th>\n",
              "      <td>0.931621</td>\n",
              "      <td>0.906412</td>\n",
              "      <td>0.918844</td>\n",
              "    </tr>\n",
              "  </tbody>\n",
              "</table>\n",
              "</div>"
            ],
            "text/plain": [
              "            precision    recall        f1\n",
              "train        0.977203  0.962985  0.970042\n",
              "validation   0.931621  0.906412  0.918844"
            ]
          },
          "metadata": {},
          "execution_count": 21
        }
      ]
    }
  ]
}